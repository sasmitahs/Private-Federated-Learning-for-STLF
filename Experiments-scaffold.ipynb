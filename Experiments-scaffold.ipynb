{
 "cells": [
  {
   "cell_type": "code",
   "execution_count": 1,
   "id": "85c26839",
   "metadata": {},
   "outputs": [],
   "source": [
    "import torch\n",
    "import torch.nn as nn\n",
    "import torch.optim as optim\n",
    "from torch.utils.data import DataLoader, Subset\n",
    "import numpy as np\n",
    "from Models import MoELSTM\n",
    "import os\n",
    "from collections import OrderedDict\n",
    "import numpy as np\n",
    "import pandas as pd\n",
    "from torch.utils.data import DataLoader\n",
    "\n",
    "from typing import List, Tuple, Optional, Dict\n",
    "from sklearn.preprocessing import MinMaxScaler\n",
    "from sklearn.metrics import mean_squared_error\n",
    "from darts import TimeSeries\n",
    "from darts.dataprocessing.transformers import Scaler\n",
    "import random\n",
    "from Models import MoELSTM, LSTMModel, train_model\n",
    "from Preprocess import (\n",
    "    compute_metrics,\n",
    "    convert_timeseries_to_numpy,\n",
    "    create_dataloader,\n",
    "    load_building_series,\n",
    "    split_series_list,\n",
    ")\n",
    "import pandas as pd\n",
    "from collections import defaultdict\n",
    "import os\n",
    "import torch\n",
    "import torch.optim as optim\n",
    "from tqdm import tqdm\n",
    "\n",
    "\n",
    "from Models import model_fn\n",
    "from tqdm import tqdm\n",
    "from my_utils import train_model, load_energy_data_feather, get_weights, set_weights\n"
   ]
  },
  {
   "cell_type": "code",
   "execution_count": 2,
   "id": "89d0695a",
   "metadata": {},
   "outputs": [],
   "source": [
    "from AggregationStrategy import sync_aggregate,average_weights,sync_aggregate_norm,sync_aggregate_softmax, fedavgm_update"
   ]
  },
  {
   "cell_type": "code",
   "execution_count": 3,
   "id": "7cf3f0c3",
   "metadata": {},
   "outputs": [],
   "source": [
    "df = pd.read_feather(\"train_final.feather\")"
   ]
  },
  {
   "cell_type": "code",
   "execution_count": 4,
   "id": "6a5334f3",
   "metadata": {},
   "outputs": [
    {
     "data": {
      "text/html": [
       "<div>\n",
       "<style scoped>\n",
       "    .dataframe tbody tr th:only-of-type {\n",
       "        vertical-align: middle;\n",
       "    }\n",
       "\n",
       "    .dataframe tbody tr th {\n",
       "        vertical-align: top;\n",
       "    }\n",
       "\n",
       "    .dataframe thead th {\n",
       "        text-align: right;\n",
       "    }\n",
       "</style>\n",
       "<table border=\"1\" class=\"dataframe\">\n",
       "  <thead>\n",
       "    <tr style=\"text-align: right;\">\n",
       "      <th></th>\n",
       "      <th>building_id</th>\n",
       "      <th>meter</th>\n",
       "      <th>timestamp</th>\n",
       "      <th>meter_reading</th>\n",
       "      <th>primary_use</th>\n",
       "      <th>air_temperature</th>\n",
       "    </tr>\n",
       "  </thead>\n",
       "  <tbody>\n",
       "    <tr>\n",
       "      <th>7593144</th>\n",
       "      <td>0</td>\n",
       "      <td>0</td>\n",
       "      <td>2016-05-21 01:00:00</td>\n",
       "      <td>72.221012</td>\n",
       "      <td>Education</td>\n",
       "      <td>25.6</td>\n",
       "    </tr>\n",
       "    <tr>\n",
       "      <th>7593145</th>\n",
       "      <td>1</td>\n",
       "      <td>0</td>\n",
       "      <td>2016-05-21 01:00:00</td>\n",
       "      <td>39.611586</td>\n",
       "      <td>Education</td>\n",
       "      <td>25.6</td>\n",
       "    </tr>\n",
       "    <tr>\n",
       "      <th>7593146</th>\n",
       "      <td>2</td>\n",
       "      <td>0</td>\n",
       "      <td>2016-05-21 01:00:00</td>\n",
       "      <td>1.920567</td>\n",
       "      <td>Education</td>\n",
       "      <td>25.6</td>\n",
       "    </tr>\n",
       "    <tr>\n",
       "      <th>7593147</th>\n",
       "      <td>3</td>\n",
       "      <td>0</td>\n",
       "      <td>2016-05-21 01:00:00</td>\n",
       "      <td>111.532464</td>\n",
       "      <td>Education</td>\n",
       "      <td>25.6</td>\n",
       "    </tr>\n",
       "    <tr>\n",
       "      <th>7593148</th>\n",
       "      <td>4</td>\n",
       "      <td>0</td>\n",
       "      <td>2016-05-21 01:00:00</td>\n",
       "      <td>456.734799</td>\n",
       "      <td>Education</td>\n",
       "      <td>25.6</td>\n",
       "    </tr>\n",
       "  </tbody>\n",
       "</table>\n",
       "</div>"
      ],
      "text/plain": [
       "         building_id  meter           timestamp  meter_reading primary_use  \\\n",
       "7593144            0      0 2016-05-21 01:00:00      72.221012   Education   \n",
       "7593145            1      0 2016-05-21 01:00:00      39.611586   Education   \n",
       "7593146            2      0 2016-05-21 01:00:00       1.920567   Education   \n",
       "7593147            3      0 2016-05-21 01:00:00     111.532464   Education   \n",
       "7593148            4      0 2016-05-21 01:00:00     456.734799   Education   \n",
       "\n",
       "         air_temperature  \n",
       "7593144             25.6  \n",
       "7593145             25.6  \n",
       "7593146             25.6  \n",
       "7593147             25.6  \n",
       "7593148             25.6  "
      ]
     },
     "execution_count": 4,
     "metadata": {},
     "output_type": "execute_result"
    }
   ],
   "source": [
    "df.head()"
   ]
  },
  {
   "cell_type": "code",
   "execution_count": 5,
   "id": "1317d9a8",
   "metadata": {},
   "outputs": [
    {
     "name": "stdout",
     "output_type": "stream",
     "text": [
      "<class 'pandas.core.frame.DataFrame'>\n",
      "Index: 11712248 entries, 7593144 to 20216099\n",
      "Data columns (total 6 columns):\n",
      " #   Column           Dtype         \n",
      "---  ------           -----         \n",
      " 0   building_id      int64         \n",
      " 1   meter            int64         \n",
      " 2   timestamp        datetime64[ns]\n",
      " 3   meter_reading    float64       \n",
      " 4   primary_use      object        \n",
      " 5   air_temperature  float64       \n",
      "dtypes: datetime64[ns](1), float64(2), int64(2), object(1)\n",
      "memory usage: 625.5+ MB\n"
     ]
    }
   ],
   "source": [
    "df.info()"
   ]
  },
  {
   "cell_type": "code",
   "execution_count": 6,
   "id": "97aecb70",
   "metadata": {},
   "outputs": [],
   "source": [
    "\n",
    "\n",
    "# Config\n",
    "# List of models to experiment with\n",
    "MODEL_NAMES = [\"lstm\", \"gru\"]\n",
    "\n",
    "# Config\n",
    "NUM_CLIENTS = 1410\n",
    "CLIENT_FRAC = 0.15\n",
    "NUM_ROUNDS = 50\n",
    "LOCAL_EPOCHS = 5\n",
    "LR = 0.001\n",
    "DEVICE = \"cuda\" if torch.cuda.is_available() else \"cpu\"\n",
    "DATA_FILE =\"train_final.feather\" # \"meter_0_data_cleaned.feather\"\n"
   ]
  },
  {
   "cell_type": "markdown",
   "id": "e47f9164",
   "metadata": {},
   "source": [
    "## SCAFFOLD"
   ]
  },
  {
   "cell_type": "code",
   "execution_count": 7,
   "id": "0e059403",
   "metadata": {},
   "outputs": [],
   "source": [
    "def train_model_scaffold(\n",
    "    local_model,\n",
    "    train_loader,         # global_model, train_loader\n",
    "    global_weights,    # x\n",
    "    server_c,          # c\n",
    "    client_ci,         # cᵢ\n",
    "    device=DEVICE,\n",
    "    learning_rate= LR,\n",
    "    loss_fn=None,\n",
    "    optimizer_class=optim.Adam,\n",
    "    epochs= LOCAL_EPOCHS  # 50\n",
    "):\n",
    "    \"\"\"Train client with SCAFFOLD correction. Return Δy, Δc, new cᵢ, final weights.\"\"\"\n",
    "    if device is None:\n",
    "        device = torch.device(\"cuda\" if torch.cuda.is_available() else \"cpu\")\n",
    "    \n",
    "    # print(f\"[DEBUG] Training on: {device}\")\n",
    "\n",
    "    \n",
    "    local_model.to(device)\n",
    "    loss_fn = loss_fn or nn.MSELoss()\n",
    "    optimizer = optimizer_class(local_model.parameters(), lr=learning_rate)\n",
    "    loss_history = []\n",
    "\n",
    "    local_model.train()\n",
    "    total_steps = 0\n",
    "\n",
    "    for epoch in range(epochs):\n",
    "        epoch_loss = 0.0\n",
    "        for X_batch, y_batch in train_loader:\n",
    "            X_batch, y_batch = X_batch.to(device), y_batch.to(device)\n",
    "            if y_batch.dim() == 3 and y_batch.shape[-1] == 1:\n",
    "                y_batch = y_batch.squeeze(-1)\n",
    "\n",
    "            optimizer.zero_grad()\n",
    "            output = local_model(X_batch)\n",
    "            loss = loss_fn(output, y_batch)\n",
    "            loss.backward()\n",
    "            optimizer.step()\n",
    "\n",
    "            # ✅ SCAFFOLD correction: adjust each param after normal SGD step  # doubt at this step\n",
    "            with torch.no_grad():\n",
    "                for p, sc_np, ci_np in zip(local_model.parameters(), server_c, client_ci):\n",
    "                    sc_tensor = torch.tensor(sc_np, dtype=p.dtype, device=p.device)\n",
    "                    ci_tensor = torch.tensor(ci_np, dtype=p.dtype, device=p.device)\n",
    "                    p -= learning_rate * (sc_tensor - ci_tensor)\n",
    "\n",
    "            epoch_loss += loss.item()\n",
    "            total_steps += 1\n",
    "        \n",
    "        loss_history.append(epoch_loss / len(train_loader))\n",
    "\n",
    "    # Compute deltas\n",
    "    local_weights = get_weights(local_model)\n",
    "    delta_y = [lw - gw for lw, gw in zip(local_weights, global_weights)]\n",
    "\n",
    "    # K = total_steps\n",
    "    K = total_steps\n",
    "    new_ci = []\n",
    "    delta_c = []\n",
    "\n",
    "    for gw, lw, ci, sc in zip(global_weights, local_weights, client_ci, server_c):\n",
    "        ci_new = ci - sc + (gw - lw) / (K * learning_rate)\n",
    "        new_ci.append(ci_new)  # doubt can overide new_ci\n",
    "        delta_c.append(ci_new - ci)\n",
    "\n",
    "    return delta_y, delta_c, new_ci, local_weights, loss_history"
   ]
  },
  {
   "cell_type": "code",
   "execution_count": 8,
   "id": "71f176f3",
   "metadata": {},
   "outputs": [
    {
     "name": "stdout",
     "output_type": "stream",
     "text": [
      "Starting experiment with model: lstm\n",
      "Using device: cuda\n",
      "Round 1/50\n",
      "Sampled 211 clients\n"
     ]
    },
    {
     "name": "stderr",
     "output_type": "stream",
     "text": [
      "100%|██████████| 211/211 [04:22<00:00,  1.24s/it]\n"
     ]
    },
    {
     "name": "stdout",
     "output_type": "stream",
     "text": [
      "Saved: results/lstm/lstm_round_1_scaffold_lr.pt\n",
      "Round 2/50\n",
      "Sampled 211 clients\n"
     ]
    },
    {
     "name": "stderr",
     "output_type": "stream",
     "text": [
      "100%|██████████| 211/211 [04:34<00:00,  1.30s/it]\n"
     ]
    },
    {
     "name": "stdout",
     "output_type": "stream",
     "text": [
      "Saved: results/lstm/lstm_round_2_scaffold_lr.pt\n",
      "Round 3/50\n",
      "Sampled 211 clients\n"
     ]
    },
    {
     "name": "stderr",
     "output_type": "stream",
     "text": [
      "100%|██████████| 211/211 [04:39<00:00,  1.32s/it]\n"
     ]
    },
    {
     "name": "stdout",
     "output_type": "stream",
     "text": [
      "Saved: results/lstm/lstm_round_3_scaffold_lr.pt\n",
      "Round 4/50\n",
      "Sampled 211 clients\n"
     ]
    },
    {
     "name": "stderr",
     "output_type": "stream",
     "text": [
      "100%|██████████| 211/211 [04:41<00:00,  1.33s/it]\n"
     ]
    },
    {
     "name": "stdout",
     "output_type": "stream",
     "text": [
      "Saved: results/lstm/lstm_round_4_scaffold_lr.pt\n",
      "Round 5/50\n",
      "Sampled 211 clients\n"
     ]
    },
    {
     "name": "stderr",
     "output_type": "stream",
     "text": [
      "100%|██████████| 211/211 [04:30<00:00,  1.28s/it]\n"
     ]
    },
    {
     "name": "stdout",
     "output_type": "stream",
     "text": [
      "Saved: results/lstm/lstm_round_5_scaffold_lr.pt\n",
      "Round 6/50\n",
      "Sampled 211 clients\n"
     ]
    },
    {
     "name": "stderr",
     "output_type": "stream",
     "text": [
      "100%|██████████| 211/211 [04:40<00:00,  1.33s/it]\n"
     ]
    },
    {
     "name": "stdout",
     "output_type": "stream",
     "text": [
      "Saved: results/lstm/lstm_round_6_scaffold_lr.pt\n",
      "Round 7/50\n",
      "Sampled 211 clients\n"
     ]
    },
    {
     "name": "stderr",
     "output_type": "stream",
     "text": [
      "100%|██████████| 211/211 [04:44<00:00,  1.35s/it]\n"
     ]
    },
    {
     "name": "stdout",
     "output_type": "stream",
     "text": [
      "Saved: results/lstm/lstm_round_7_scaffold_lr.pt\n",
      "Round 8/50\n",
      "Sampled 211 clients\n"
     ]
    },
    {
     "name": "stderr",
     "output_type": "stream",
     "text": [
      "100%|██████████| 211/211 [04:41<00:00,  1.33s/it]\n"
     ]
    },
    {
     "name": "stdout",
     "output_type": "stream",
     "text": [
      "Saved: results/lstm/lstm_round_8_scaffold_lr.pt\n",
      "Round 9/50\n",
      "Sampled 211 clients\n"
     ]
    },
    {
     "name": "stderr",
     "output_type": "stream",
     "text": [
      "100%|██████████| 211/211 [04:51<00:00,  1.38s/it]\n"
     ]
    },
    {
     "name": "stdout",
     "output_type": "stream",
     "text": [
      "Saved: results/lstm/lstm_round_9_scaffold_lr.pt\n",
      "Round 10/50\n",
      "Sampled 211 clients\n"
     ]
    },
    {
     "name": "stderr",
     "output_type": "stream",
     "text": [
      "100%|██████████| 211/211 [04:46<00:00,  1.36s/it]\n"
     ]
    },
    {
     "name": "stdout",
     "output_type": "stream",
     "text": [
      "Saved: results/lstm/lstm_round_10_scaffold_lr.pt\n",
      "Round 11/50\n",
      "Sampled 211 clients\n"
     ]
    },
    {
     "name": "stderr",
     "output_type": "stream",
     "text": [
      "100%|██████████| 211/211 [04:49<00:00,  1.37s/it]\n"
     ]
    },
    {
     "name": "stdout",
     "output_type": "stream",
     "text": [
      "Saved: results/lstm/lstm_round_11_scaffold_lr.pt\n",
      "Round 12/50\n",
      "Sampled 211 clients\n"
     ]
    },
    {
     "name": "stderr",
     "output_type": "stream",
     "text": [
      "100%|██████████| 211/211 [04:46<00:00,  1.36s/it]\n"
     ]
    },
    {
     "name": "stdout",
     "output_type": "stream",
     "text": [
      "Saved: results/lstm/lstm_round_12_scaffold_lr.pt\n",
      "Round 13/50\n",
      "Sampled 211 clients\n"
     ]
    },
    {
     "name": "stderr",
     "output_type": "stream",
     "text": [
      "100%|██████████| 211/211 [04:48<00:00,  1.37s/it]\n"
     ]
    },
    {
     "name": "stdout",
     "output_type": "stream",
     "text": [
      "Saved: results/lstm/lstm_round_13_scaffold_lr.pt\n",
      "Round 14/50\n",
      "Sampled 211 clients\n"
     ]
    },
    {
     "name": "stderr",
     "output_type": "stream",
     "text": [
      "100%|██████████| 211/211 [04:48<00:00,  1.37s/it]\n"
     ]
    },
    {
     "name": "stdout",
     "output_type": "stream",
     "text": [
      "Saved: results/lstm/lstm_round_14_scaffold_lr.pt\n",
      "Round 15/50\n",
      "Sampled 211 clients\n"
     ]
    },
    {
     "name": "stderr",
     "output_type": "stream",
     "text": [
      "100%|██████████| 211/211 [04:39<00:00,  1.33s/it]\n"
     ]
    },
    {
     "name": "stdout",
     "output_type": "stream",
     "text": [
      "Saved: results/lstm/lstm_round_15_scaffold_lr.pt\n",
      "Round 16/50\n",
      "Sampled 211 clients\n"
     ]
    },
    {
     "name": "stderr",
     "output_type": "stream",
     "text": [
      "100%|██████████| 211/211 [04:46<00:00,  1.36s/it]\n"
     ]
    },
    {
     "name": "stdout",
     "output_type": "stream",
     "text": [
      "Saved: results/lstm/lstm_round_16_scaffold_lr.pt\n",
      "Round 17/50\n",
      "Sampled 211 clients\n"
     ]
    },
    {
     "name": "stderr",
     "output_type": "stream",
     "text": [
      "100%|██████████| 211/211 [04:46<00:00,  1.36s/it]\n"
     ]
    },
    {
     "name": "stdout",
     "output_type": "stream",
     "text": [
      "Saved: results/lstm/lstm_round_17_scaffold_lr.pt\n",
      "Round 18/50\n",
      "Sampled 211 clients\n"
     ]
    },
    {
     "name": "stderr",
     "output_type": "stream",
     "text": [
      "100%|██████████| 211/211 [04:43<00:00,  1.34s/it]\n"
     ]
    },
    {
     "name": "stdout",
     "output_type": "stream",
     "text": [
      "Saved: results/lstm/lstm_round_18_scaffold_lr.pt\n",
      "Round 19/50\n",
      "Sampled 211 clients\n"
     ]
    },
    {
     "name": "stderr",
     "output_type": "stream",
     "text": [
      "100%|██████████| 211/211 [04:48<00:00,  1.37s/it]\n"
     ]
    },
    {
     "name": "stdout",
     "output_type": "stream",
     "text": [
      "Saved: results/lstm/lstm_round_19_scaffold_lr.pt\n",
      "Round 20/50\n",
      "Sampled 211 clients\n"
     ]
    },
    {
     "name": "stderr",
     "output_type": "stream",
     "text": [
      "100%|██████████| 211/211 [04:48<00:00,  1.37s/it]\n"
     ]
    },
    {
     "name": "stdout",
     "output_type": "stream",
     "text": [
      "Saved: results/lstm/lstm_round_20_scaffold_lr.pt\n",
      "Round 21/50\n",
      "Sampled 211 clients\n"
     ]
    },
    {
     "name": "stderr",
     "output_type": "stream",
     "text": [
      "100%|██████████| 211/211 [04:50<00:00,  1.38s/it]\n"
     ]
    },
    {
     "name": "stdout",
     "output_type": "stream",
     "text": [
      "Saved: results/lstm/lstm_round_21_scaffold_lr.pt\n",
      "Round 22/50\n",
      "Sampled 211 clients\n"
     ]
    },
    {
     "name": "stderr",
     "output_type": "stream",
     "text": [
      "100%|██████████| 211/211 [04:47<00:00,  1.36s/it]\n"
     ]
    },
    {
     "name": "stdout",
     "output_type": "stream",
     "text": [
      "Saved: results/lstm/lstm_round_22_scaffold_lr.pt\n",
      "Round 23/50\n",
      "Sampled 211 clients\n"
     ]
    },
    {
     "name": "stderr",
     "output_type": "stream",
     "text": [
      "100%|██████████| 211/211 [04:45<00:00,  1.35s/it]\n"
     ]
    },
    {
     "name": "stdout",
     "output_type": "stream",
     "text": [
      "Saved: results/lstm/lstm_round_23_scaffold_lr.pt\n",
      "Round 24/50\n",
      "Sampled 211 clients\n"
     ]
    },
    {
     "name": "stderr",
     "output_type": "stream",
     "text": [
      "100%|██████████| 211/211 [04:40<00:00,  1.33s/it]\n"
     ]
    },
    {
     "name": "stdout",
     "output_type": "stream",
     "text": [
      "Saved: results/lstm/lstm_round_24_scaffold_lr.pt\n",
      "Round 25/50\n",
      "Sampled 211 clients\n"
     ]
    },
    {
     "name": "stderr",
     "output_type": "stream",
     "text": [
      "100%|██████████| 211/211 [04:51<00:00,  1.38s/it]\n"
     ]
    },
    {
     "name": "stdout",
     "output_type": "stream",
     "text": [
      "Saved: results/lstm/lstm_round_25_scaffold_lr.pt\n",
      "Round 26/50\n",
      "Sampled 211 clients\n"
     ]
    },
    {
     "name": "stderr",
     "output_type": "stream",
     "text": [
      "100%|██████████| 211/211 [04:57<00:00,  1.41s/it]\n"
     ]
    },
    {
     "name": "stdout",
     "output_type": "stream",
     "text": [
      "Saved: results/lstm/lstm_round_26_scaffold_lr.pt\n",
      "Round 27/50\n",
      "Sampled 211 clients\n"
     ]
    },
    {
     "name": "stderr",
     "output_type": "stream",
     "text": [
      "100%|██████████| 211/211 [04:50<00:00,  1.38s/it]\n"
     ]
    },
    {
     "name": "stdout",
     "output_type": "stream",
     "text": [
      "Saved: results/lstm/lstm_round_27_scaffold_lr.pt\n",
      "Round 28/50\n",
      "Sampled 211 clients\n"
     ]
    },
    {
     "name": "stderr",
     "output_type": "stream",
     "text": [
      "100%|██████████| 211/211 [04:51<00:00,  1.38s/it]\n"
     ]
    },
    {
     "name": "stdout",
     "output_type": "stream",
     "text": [
      "Saved: results/lstm/lstm_round_28_scaffold_lr.pt\n",
      "Round 29/50\n",
      "Sampled 211 clients\n"
     ]
    },
    {
     "name": "stderr",
     "output_type": "stream",
     "text": [
      "100%|██████████| 211/211 [04:57<00:00,  1.41s/it]\n"
     ]
    },
    {
     "name": "stdout",
     "output_type": "stream",
     "text": [
      "Saved: results/lstm/lstm_round_29_scaffold_lr.pt\n",
      "Round 30/50\n",
      "Sampled 211 clients\n"
     ]
    },
    {
     "name": "stderr",
     "output_type": "stream",
     "text": [
      "100%|██████████| 211/211 [04:42<00:00,  1.34s/it]\n"
     ]
    },
    {
     "name": "stdout",
     "output_type": "stream",
     "text": [
      "Saved: results/lstm/lstm_round_30_scaffold_lr.pt\n",
      "Round 31/50\n",
      "Sampled 211 clients\n"
     ]
    },
    {
     "name": "stderr",
     "output_type": "stream",
     "text": [
      "100%|██████████| 211/211 [04:48<00:00,  1.37s/it]\n"
     ]
    },
    {
     "name": "stdout",
     "output_type": "stream",
     "text": [
      "Saved: results/lstm/lstm_round_31_scaffold_lr.pt\n",
      "Round 32/50\n",
      "Sampled 211 clients\n"
     ]
    },
    {
     "name": "stderr",
     "output_type": "stream",
     "text": [
      "100%|██████████| 211/211 [04:45<00:00,  1.35s/it]\n"
     ]
    },
    {
     "name": "stdout",
     "output_type": "stream",
     "text": [
      "Saved: results/lstm/lstm_round_32_scaffold_lr.pt\n",
      "Round 33/50\n",
      "Sampled 211 clients\n"
     ]
    },
    {
     "name": "stderr",
     "output_type": "stream",
     "text": [
      "100%|██████████| 211/211 [04:51<00:00,  1.38s/it]\n"
     ]
    },
    {
     "name": "stdout",
     "output_type": "stream",
     "text": [
      "Saved: results/lstm/lstm_round_33_scaffold_lr.pt\n",
      "Round 34/50\n",
      "Sampled 211 clients\n"
     ]
    },
    {
     "name": "stderr",
     "output_type": "stream",
     "text": [
      "100%|██████████| 211/211 [04:57<00:00,  1.41s/it]\n"
     ]
    },
    {
     "name": "stdout",
     "output_type": "stream",
     "text": [
      "Saved: results/lstm/lstm_round_34_scaffold_lr.pt\n",
      "Round 35/50\n",
      "Sampled 211 clients\n"
     ]
    },
    {
     "name": "stderr",
     "output_type": "stream",
     "text": [
      "100%|██████████| 211/211 [04:54<00:00,  1.40s/it]\n"
     ]
    },
    {
     "name": "stdout",
     "output_type": "stream",
     "text": [
      "Saved: results/lstm/lstm_round_35_scaffold_lr.pt\n",
      "Round 36/50\n",
      "Sampled 211 clients\n"
     ]
    },
    {
     "name": "stderr",
     "output_type": "stream",
     "text": [
      "100%|██████████| 211/211 [05:00<00:00,  1.43s/it]\n"
     ]
    },
    {
     "name": "stdout",
     "output_type": "stream",
     "text": [
      "Saved: results/lstm/lstm_round_36_scaffold_lr.pt\n",
      "Round 37/50\n",
      "Sampled 211 clients\n"
     ]
    },
    {
     "name": "stderr",
     "output_type": "stream",
     "text": [
      "100%|██████████| 211/211 [04:55<00:00,  1.40s/it]\n"
     ]
    },
    {
     "name": "stdout",
     "output_type": "stream",
     "text": [
      "Saved: results/lstm/lstm_round_37_scaffold_lr.pt\n",
      "Round 38/50\n",
      "Sampled 211 clients\n"
     ]
    },
    {
     "name": "stderr",
     "output_type": "stream",
     "text": [
      "100%|██████████| 211/211 [04:54<00:00,  1.39s/it]\n"
     ]
    },
    {
     "name": "stdout",
     "output_type": "stream",
     "text": [
      "Saved: results/lstm/lstm_round_38_scaffold_lr.pt\n",
      "Round 39/50\n",
      "Sampled 211 clients\n"
     ]
    },
    {
     "name": "stderr",
     "output_type": "stream",
     "text": [
      "100%|██████████| 211/211 [04:55<00:00,  1.40s/it]\n"
     ]
    },
    {
     "name": "stdout",
     "output_type": "stream",
     "text": [
      "Saved: results/lstm/lstm_round_39_scaffold_lr.pt\n",
      "Round 40/50\n",
      "Sampled 211 clients\n"
     ]
    },
    {
     "name": "stderr",
     "output_type": "stream",
     "text": [
      "100%|██████████| 211/211 [04:49<00:00,  1.37s/it]\n"
     ]
    },
    {
     "name": "stdout",
     "output_type": "stream",
     "text": [
      "Saved: results/lstm/lstm_round_40_scaffold_lr.pt\n",
      "Round 41/50\n",
      "Sampled 211 clients\n"
     ]
    },
    {
     "name": "stderr",
     "output_type": "stream",
     "text": [
      "100%|██████████| 211/211 [04:57<00:00,  1.41s/it]\n"
     ]
    },
    {
     "name": "stdout",
     "output_type": "stream",
     "text": [
      "Saved: results/lstm/lstm_round_41_scaffold_lr.pt\n",
      "Round 42/50\n",
      "Sampled 211 clients\n"
     ]
    },
    {
     "name": "stderr",
     "output_type": "stream",
     "text": [
      "100%|██████████| 211/211 [05:11<00:00,  1.48s/it]\n"
     ]
    },
    {
     "name": "stdout",
     "output_type": "stream",
     "text": [
      "Saved: results/lstm/lstm_round_42_scaffold_lr.pt\n",
      "Round 43/50\n",
      "Sampled 211 clients\n"
     ]
    },
    {
     "name": "stderr",
     "output_type": "stream",
     "text": [
      "100%|██████████| 211/211 [05:17<00:00,  1.51s/it]\n"
     ]
    },
    {
     "name": "stdout",
     "output_type": "stream",
     "text": [
      "Saved: results/lstm/lstm_round_43_scaffold_lr.pt\n",
      "Round 44/50\n",
      "Sampled 211 clients\n"
     ]
    },
    {
     "name": "stderr",
     "output_type": "stream",
     "text": [
      "100%|██████████| 211/211 [05:13<00:00,  1.49s/it]\n"
     ]
    },
    {
     "name": "stdout",
     "output_type": "stream",
     "text": [
      "Saved: results/lstm/lstm_round_44_scaffold_lr.pt\n",
      "Round 45/50\n",
      "Sampled 211 clients\n"
     ]
    },
    {
     "name": "stderr",
     "output_type": "stream",
     "text": [
      "100%|██████████| 211/211 [05:03<00:00,  1.44s/it]\n"
     ]
    },
    {
     "name": "stdout",
     "output_type": "stream",
     "text": [
      "Saved: results/lstm/lstm_round_45_scaffold_lr.pt\n",
      "Round 46/50\n",
      "Sampled 211 clients\n"
     ]
    },
    {
     "name": "stderr",
     "output_type": "stream",
     "text": [
      "100%|██████████| 211/211 [05:09<00:00,  1.47s/it]\n"
     ]
    },
    {
     "name": "stdout",
     "output_type": "stream",
     "text": [
      "Saved: results/lstm/lstm_round_46_scaffold_lr.pt\n",
      "Round 47/50\n",
      "Sampled 211 clients\n"
     ]
    },
    {
     "name": "stderr",
     "output_type": "stream",
     "text": [
      "100%|██████████| 211/211 [05:13<00:00,  1.49s/it]\n"
     ]
    },
    {
     "name": "stdout",
     "output_type": "stream",
     "text": [
      "Saved: results/lstm/lstm_round_47_scaffold_lr.pt\n",
      "Round 48/50\n",
      "Sampled 211 clients\n"
     ]
    },
    {
     "name": "stderr",
     "output_type": "stream",
     "text": [
      "100%|██████████| 211/211 [05:08<00:00,  1.46s/it]\n"
     ]
    },
    {
     "name": "stdout",
     "output_type": "stream",
     "text": [
      "Saved: results/lstm/lstm_round_48_scaffold_lr.pt\n",
      "Round 49/50\n",
      "Sampled 211 clients\n"
     ]
    },
    {
     "name": "stderr",
     "output_type": "stream",
     "text": [
      "100%|██████████| 211/211 [05:08<00:00,  1.46s/it]\n"
     ]
    },
    {
     "name": "stdout",
     "output_type": "stream",
     "text": [
      "Saved: results/lstm/lstm_round_49_scaffold_lr.pt\n",
      "Round 50/50\n",
      "Sampled 211 clients\n"
     ]
    },
    {
     "name": "stderr",
     "output_type": "stream",
     "text": [
      "100%|██████████| 211/211 [05:11<00:00,  1.47s/it]\n"
     ]
    },
    {
     "name": "stdout",
     "output_type": "stream",
     "text": [
      "Saved: results/lstm/lstm_round_50_scaffold_lr.pt\n",
      "Starting experiment with model: gru\n",
      "Using device: cuda\n",
      "Round 1/50\n",
      "Sampled 211 clients\n"
     ]
    },
    {
     "name": "stderr",
     "output_type": "stream",
     "text": [
      "100%|██████████| 211/211 [05:20<00:00,  1.52s/it]\n"
     ]
    },
    {
     "name": "stdout",
     "output_type": "stream",
     "text": [
      "Saved: results/gru/gru_round_1_scaffold_lr.pt\n",
      "Round 2/50\n",
      "Sampled 211 clients\n"
     ]
    },
    {
     "name": "stderr",
     "output_type": "stream",
     "text": [
      "100%|██████████| 211/211 [05:23<00:00,  1.54s/it]\n"
     ]
    },
    {
     "name": "stdout",
     "output_type": "stream",
     "text": [
      "Saved: results/gru/gru_round_2_scaffold_lr.pt\n",
      "Round 3/50\n",
      "Sampled 211 clients\n"
     ]
    },
    {
     "name": "stderr",
     "output_type": "stream",
     "text": [
      "100%|██████████| 211/211 [05:32<00:00,  1.58s/it]\n"
     ]
    },
    {
     "name": "stdout",
     "output_type": "stream",
     "text": [
      "Saved: results/gru/gru_round_3_scaffold_lr.pt\n",
      "Round 4/50\n",
      "Sampled 211 clients\n"
     ]
    },
    {
     "name": "stderr",
     "output_type": "stream",
     "text": [
      "100%|██████████| 211/211 [05:30<00:00,  1.56s/it]\n"
     ]
    },
    {
     "name": "stdout",
     "output_type": "stream",
     "text": [
      "Saved: results/gru/gru_round_4_scaffold_lr.pt\n",
      "Round 5/50\n",
      "Sampled 211 clients\n"
     ]
    },
    {
     "name": "stderr",
     "output_type": "stream",
     "text": [
      "100%|██████████| 211/211 [05:38<00:00,  1.61s/it]\n"
     ]
    },
    {
     "name": "stdout",
     "output_type": "stream",
     "text": [
      "Saved: results/gru/gru_round_5_scaffold_lr.pt\n",
      "Round 6/50\n",
      "Sampled 211 clients\n"
     ]
    },
    {
     "name": "stderr",
     "output_type": "stream",
     "text": [
      "100%|██████████| 211/211 [05:28<00:00,  1.56s/it]\n"
     ]
    },
    {
     "name": "stdout",
     "output_type": "stream",
     "text": [
      "Saved: results/gru/gru_round_6_scaffold_lr.pt\n",
      "Round 7/50\n",
      "Sampled 211 clients\n"
     ]
    },
    {
     "name": "stderr",
     "output_type": "stream",
     "text": [
      "100%|██████████| 211/211 [05:38<00:00,  1.60s/it]\n"
     ]
    },
    {
     "name": "stdout",
     "output_type": "stream",
     "text": [
      "Saved: results/gru/gru_round_7_scaffold_lr.pt\n",
      "Round 8/50\n",
      "Sampled 211 clients\n"
     ]
    },
    {
     "name": "stderr",
     "output_type": "stream",
     "text": [
      "100%|██████████| 211/211 [05:29<00:00,  1.56s/it]\n"
     ]
    },
    {
     "name": "stdout",
     "output_type": "stream",
     "text": [
      "Saved: results/gru/gru_round_8_scaffold_lr.pt\n",
      "Round 9/50\n",
      "Sampled 211 clients\n"
     ]
    },
    {
     "name": "stderr",
     "output_type": "stream",
     "text": [
      "100%|██████████| 211/211 [05:31<00:00,  1.57s/it]\n"
     ]
    },
    {
     "name": "stdout",
     "output_type": "stream",
     "text": [
      "Saved: results/gru/gru_round_9_scaffold_lr.pt\n",
      "Round 10/50\n",
      "Sampled 211 clients\n"
     ]
    },
    {
     "name": "stderr",
     "output_type": "stream",
     "text": [
      "100%|██████████| 211/211 [05:32<00:00,  1.58s/it]\n"
     ]
    },
    {
     "name": "stdout",
     "output_type": "stream",
     "text": [
      "Saved: results/gru/gru_round_10_scaffold_lr.pt\n",
      "Round 11/50\n",
      "Sampled 211 clients\n"
     ]
    },
    {
     "name": "stderr",
     "output_type": "stream",
     "text": [
      "100%|██████████| 211/211 [05:37<00:00,  1.60s/it]\n"
     ]
    },
    {
     "name": "stdout",
     "output_type": "stream",
     "text": [
      "Saved: results/gru/gru_round_11_scaffold_lr.pt\n",
      "Round 12/50\n",
      "Sampled 211 clients\n"
     ]
    },
    {
     "name": "stderr",
     "output_type": "stream",
     "text": [
      "100%|██████████| 211/211 [05:30<00:00,  1.57s/it]\n"
     ]
    },
    {
     "name": "stdout",
     "output_type": "stream",
     "text": [
      "Saved: results/gru/gru_round_12_scaffold_lr.pt\n",
      "Round 13/50\n",
      "Sampled 211 clients\n"
     ]
    },
    {
     "name": "stderr",
     "output_type": "stream",
     "text": [
      "100%|██████████| 211/211 [05:33<00:00,  1.58s/it]\n"
     ]
    },
    {
     "name": "stdout",
     "output_type": "stream",
     "text": [
      "Saved: results/gru/gru_round_13_scaffold_lr.pt\n",
      "Round 14/50\n",
      "Sampled 211 clients\n"
     ]
    },
    {
     "name": "stderr",
     "output_type": "stream",
     "text": [
      "100%|██████████| 211/211 [05:32<00:00,  1.58s/it]\n"
     ]
    },
    {
     "name": "stdout",
     "output_type": "stream",
     "text": [
      "Saved: results/gru/gru_round_14_scaffold_lr.pt\n",
      "Round 15/50\n",
      "Sampled 211 clients\n"
     ]
    },
    {
     "name": "stderr",
     "output_type": "stream",
     "text": [
      "100%|██████████| 211/211 [05:32<00:00,  1.58s/it]\n"
     ]
    },
    {
     "name": "stdout",
     "output_type": "stream",
     "text": [
      "Saved: results/gru/gru_round_15_scaffold_lr.pt\n",
      "Round 16/50\n",
      "Sampled 211 clients\n"
     ]
    },
    {
     "name": "stderr",
     "output_type": "stream",
     "text": [
      "100%|██████████| 211/211 [05:28<00:00,  1.56s/it]\n"
     ]
    },
    {
     "name": "stdout",
     "output_type": "stream",
     "text": [
      "Saved: results/gru/gru_round_16_scaffold_lr.pt\n",
      "Round 17/50\n",
      "Sampled 211 clients\n"
     ]
    },
    {
     "name": "stderr",
     "output_type": "stream",
     "text": [
      "100%|██████████| 211/211 [05:28<00:00,  1.56s/it]\n"
     ]
    },
    {
     "name": "stdout",
     "output_type": "stream",
     "text": [
      "Saved: results/gru/gru_round_17_scaffold_lr.pt\n",
      "Round 18/50\n",
      "Sampled 211 clients\n"
     ]
    },
    {
     "name": "stderr",
     "output_type": "stream",
     "text": [
      "100%|██████████| 211/211 [05:31<00:00,  1.57s/it]\n"
     ]
    },
    {
     "name": "stdout",
     "output_type": "stream",
     "text": [
      "Saved: results/gru/gru_round_18_scaffold_lr.pt\n",
      "Round 19/50\n",
      "Sampled 211 clients\n"
     ]
    },
    {
     "name": "stderr",
     "output_type": "stream",
     "text": [
      "100%|██████████| 211/211 [05:31<00:00,  1.57s/it]\n"
     ]
    },
    {
     "name": "stdout",
     "output_type": "stream",
     "text": [
      "Saved: results/gru/gru_round_19_scaffold_lr.pt\n",
      "Round 20/50\n",
      "Sampled 211 clients\n"
     ]
    },
    {
     "name": "stderr",
     "output_type": "stream",
     "text": [
      "100%|██████████| 211/211 [05:36<00:00,  1.59s/it]\n"
     ]
    },
    {
     "name": "stdout",
     "output_type": "stream",
     "text": [
      "Saved: results/gru/gru_round_20_scaffold_lr.pt\n",
      "Round 21/50\n",
      "Sampled 211 clients\n"
     ]
    },
    {
     "name": "stderr",
     "output_type": "stream",
     "text": [
      "100%|██████████| 211/211 [05:31<00:00,  1.57s/it]\n"
     ]
    },
    {
     "name": "stdout",
     "output_type": "stream",
     "text": [
      "Saved: results/gru/gru_round_21_scaffold_lr.pt\n",
      "Round 22/50\n",
      "Sampled 211 clients\n"
     ]
    },
    {
     "name": "stderr",
     "output_type": "stream",
     "text": [
      "100%|██████████| 211/211 [05:28<00:00,  1.56s/it]\n"
     ]
    },
    {
     "name": "stdout",
     "output_type": "stream",
     "text": [
      "Saved: results/gru/gru_round_22_scaffold_lr.pt\n",
      "Round 23/50\n",
      "Sampled 211 clients\n"
     ]
    },
    {
     "name": "stderr",
     "output_type": "stream",
     "text": [
      "100%|██████████| 211/211 [05:42<00:00,  1.62s/it]\n"
     ]
    },
    {
     "name": "stdout",
     "output_type": "stream",
     "text": [
      "Saved: results/gru/gru_round_23_scaffold_lr.pt\n",
      "Round 24/50\n",
      "Sampled 211 clients\n"
     ]
    },
    {
     "name": "stderr",
     "output_type": "stream",
     "text": [
      "100%|██████████| 211/211 [05:34<00:00,  1.58s/it]\n"
     ]
    },
    {
     "name": "stdout",
     "output_type": "stream",
     "text": [
      "Saved: results/gru/gru_round_24_scaffold_lr.pt\n",
      "Round 25/50\n",
      "Sampled 211 clients\n"
     ]
    },
    {
     "name": "stderr",
     "output_type": "stream",
     "text": [
      "100%|██████████| 211/211 [05:37<00:00,  1.60s/it]\n"
     ]
    },
    {
     "name": "stdout",
     "output_type": "stream",
     "text": [
      "Saved: results/gru/gru_round_25_scaffold_lr.pt\n",
      "Round 26/50\n",
      "Sampled 211 clients\n"
     ]
    },
    {
     "name": "stderr",
     "output_type": "stream",
     "text": [
      "100%|██████████| 211/211 [05:35<00:00,  1.59s/it]\n"
     ]
    },
    {
     "name": "stdout",
     "output_type": "stream",
     "text": [
      "Saved: results/gru/gru_round_26_scaffold_lr.pt\n",
      "Round 27/50\n",
      "Sampled 211 clients\n"
     ]
    },
    {
     "name": "stderr",
     "output_type": "stream",
     "text": [
      "100%|██████████| 211/211 [05:31<00:00,  1.57s/it]\n"
     ]
    },
    {
     "name": "stdout",
     "output_type": "stream",
     "text": [
      "Saved: results/gru/gru_round_27_scaffold_lr.pt\n",
      "Round 28/50\n",
      "Sampled 211 clients\n"
     ]
    },
    {
     "name": "stderr",
     "output_type": "stream",
     "text": [
      "100%|██████████| 211/211 [05:31<00:00,  1.57s/it]\n"
     ]
    },
    {
     "name": "stdout",
     "output_type": "stream",
     "text": [
      "Saved: results/gru/gru_round_28_scaffold_lr.pt\n",
      "Round 29/50\n",
      "Sampled 211 clients\n"
     ]
    },
    {
     "name": "stderr",
     "output_type": "stream",
     "text": [
      "100%|██████████| 211/211 [05:28<00:00,  1.56s/it]\n"
     ]
    },
    {
     "name": "stdout",
     "output_type": "stream",
     "text": [
      "Saved: results/gru/gru_round_29_scaffold_lr.pt\n",
      "Round 30/50\n",
      "Sampled 211 clients\n"
     ]
    },
    {
     "name": "stderr",
     "output_type": "stream",
     "text": [
      "100%|██████████| 211/211 [05:27<00:00,  1.55s/it]\n"
     ]
    },
    {
     "name": "stdout",
     "output_type": "stream",
     "text": [
      "Saved: results/gru/gru_round_30_scaffold_lr.pt\n",
      "Round 31/50\n",
      "Sampled 211 clients\n"
     ]
    },
    {
     "name": "stderr",
     "output_type": "stream",
     "text": [
      "100%|██████████| 211/211 [05:07<00:00,  1.46s/it]\n"
     ]
    },
    {
     "name": "stdout",
     "output_type": "stream",
     "text": [
      "Saved: results/gru/gru_round_31_scaffold_lr.pt\n",
      "Round 32/50\n",
      "Sampled 211 clients\n"
     ]
    },
    {
     "name": "stderr",
     "output_type": "stream",
     "text": [
      "100%|██████████| 211/211 [04:30<00:00,  1.28s/it]\n"
     ]
    },
    {
     "name": "stdout",
     "output_type": "stream",
     "text": [
      "Saved: results/gru/gru_round_32_scaffold_lr.pt\n",
      "Round 33/50\n",
      "Sampled 211 clients\n"
     ]
    },
    {
     "name": "stderr",
     "output_type": "stream",
     "text": [
      "100%|██████████| 211/211 [04:33<00:00,  1.29s/it]\n"
     ]
    },
    {
     "name": "stdout",
     "output_type": "stream",
     "text": [
      "Saved: results/gru/gru_round_33_scaffold_lr.pt\n",
      "Round 34/50\n",
      "Sampled 211 clients\n"
     ]
    },
    {
     "name": "stderr",
     "output_type": "stream",
     "text": [
      "100%|██████████| 211/211 [04:30<00:00,  1.28s/it]\n"
     ]
    },
    {
     "name": "stdout",
     "output_type": "stream",
     "text": [
      "Saved: results/gru/gru_round_34_scaffold_lr.pt\n",
      "Round 35/50\n",
      "Sampled 211 clients\n"
     ]
    },
    {
     "name": "stderr",
     "output_type": "stream",
     "text": [
      "100%|██████████| 211/211 [04:24<00:00,  1.26s/it]\n"
     ]
    },
    {
     "name": "stdout",
     "output_type": "stream",
     "text": [
      "Saved: results/gru/gru_round_35_scaffold_lr.pt\n",
      "Round 36/50\n",
      "Sampled 211 clients\n"
     ]
    },
    {
     "name": "stderr",
     "output_type": "stream",
     "text": [
      "100%|██████████| 211/211 [04:19<00:00,  1.23s/it]\n"
     ]
    },
    {
     "name": "stdout",
     "output_type": "stream",
     "text": [
      "Saved: results/gru/gru_round_36_scaffold_lr.pt\n",
      "Round 37/50\n",
      "Sampled 211 clients\n"
     ]
    },
    {
     "name": "stderr",
     "output_type": "stream",
     "text": [
      "100%|██████████| 211/211 [04:24<00:00,  1.25s/it]\n"
     ]
    },
    {
     "name": "stdout",
     "output_type": "stream",
     "text": [
      "Saved: results/gru/gru_round_37_scaffold_lr.pt\n",
      "Round 38/50\n",
      "Sampled 211 clients\n"
     ]
    },
    {
     "name": "stderr",
     "output_type": "stream",
     "text": [
      "100%|██████████| 211/211 [04:24<00:00,  1.25s/it]\n"
     ]
    },
    {
     "name": "stdout",
     "output_type": "stream",
     "text": [
      "Saved: results/gru/gru_round_38_scaffold_lr.pt\n",
      "Round 39/50\n",
      "Sampled 211 clients\n"
     ]
    },
    {
     "name": "stderr",
     "output_type": "stream",
     "text": [
      "100%|██████████| 211/211 [04:31<00:00,  1.29s/it]\n"
     ]
    },
    {
     "name": "stdout",
     "output_type": "stream",
     "text": [
      "Saved: results/gru/gru_round_39_scaffold_lr.pt\n",
      "Round 40/50\n",
      "Sampled 211 clients\n"
     ]
    },
    {
     "name": "stderr",
     "output_type": "stream",
     "text": [
      "100%|██████████| 211/211 [04:28<00:00,  1.27s/it]\n"
     ]
    },
    {
     "name": "stdout",
     "output_type": "stream",
     "text": [
      "Saved: results/gru/gru_round_40_scaffold_lr.pt\n",
      "Round 41/50\n",
      "Sampled 211 clients\n"
     ]
    },
    {
     "name": "stderr",
     "output_type": "stream",
     "text": [
      "100%|██████████| 211/211 [04:28<00:00,  1.27s/it]\n"
     ]
    },
    {
     "name": "stdout",
     "output_type": "stream",
     "text": [
      "Saved: results/gru/gru_round_41_scaffold_lr.pt\n",
      "Round 42/50\n",
      "Sampled 211 clients\n"
     ]
    },
    {
     "name": "stderr",
     "output_type": "stream",
     "text": [
      "100%|██████████| 211/211 [04:35<00:00,  1.31s/it]\n"
     ]
    },
    {
     "name": "stdout",
     "output_type": "stream",
     "text": [
      "Saved: results/gru/gru_round_42_scaffold_lr.pt\n",
      "Round 43/50\n",
      "Sampled 211 clients\n"
     ]
    },
    {
     "name": "stderr",
     "output_type": "stream",
     "text": [
      "100%|██████████| 211/211 [04:25<00:00,  1.26s/it]\n"
     ]
    },
    {
     "name": "stdout",
     "output_type": "stream",
     "text": [
      "Saved: results/gru/gru_round_43_scaffold_lr.pt\n",
      "Round 44/50\n",
      "Sampled 211 clients\n"
     ]
    },
    {
     "name": "stderr",
     "output_type": "stream",
     "text": [
      "100%|██████████| 211/211 [04:31<00:00,  1.29s/it]\n"
     ]
    },
    {
     "name": "stdout",
     "output_type": "stream",
     "text": [
      "Saved: results/gru/gru_round_44_scaffold_lr.pt\n",
      "Round 45/50\n",
      "Sampled 211 clients\n"
     ]
    },
    {
     "name": "stderr",
     "output_type": "stream",
     "text": [
      "100%|██████████| 211/211 [04:32<00:00,  1.29s/it]\n"
     ]
    },
    {
     "name": "stdout",
     "output_type": "stream",
     "text": [
      "Saved: results/gru/gru_round_45_scaffold_lr.pt\n",
      "Round 46/50\n",
      "Sampled 211 clients\n"
     ]
    },
    {
     "name": "stderr",
     "output_type": "stream",
     "text": [
      "100%|██████████| 211/211 [04:37<00:00,  1.32s/it]\n"
     ]
    },
    {
     "name": "stdout",
     "output_type": "stream",
     "text": [
      "Saved: results/gru/gru_round_46_scaffold_lr.pt\n",
      "Round 47/50\n",
      "Sampled 211 clients\n"
     ]
    },
    {
     "name": "stderr",
     "output_type": "stream",
     "text": [
      "100%|██████████| 211/211 [04:19<00:00,  1.23s/it]\n"
     ]
    },
    {
     "name": "stdout",
     "output_type": "stream",
     "text": [
      "Saved: results/gru/gru_round_47_scaffold_lr.pt\n",
      "Round 48/50\n",
      "Sampled 211 clients\n"
     ]
    },
    {
     "name": "stderr",
     "output_type": "stream",
     "text": [
      "100%|██████████| 211/211 [04:27<00:00,  1.27s/it]\n"
     ]
    },
    {
     "name": "stdout",
     "output_type": "stream",
     "text": [
      "Saved: results/gru/gru_round_48_scaffold_lr.pt\n",
      "Round 49/50\n",
      "Sampled 211 clients\n"
     ]
    },
    {
     "name": "stderr",
     "output_type": "stream",
     "text": [
      "100%|██████████| 211/211 [04:31<00:00,  1.29s/it]\n"
     ]
    },
    {
     "name": "stdout",
     "output_type": "stream",
     "text": [
      "Saved: results/gru/gru_round_49_scaffold_lr.pt\n",
      "Round 50/50\n",
      "Sampled 211 clients\n"
     ]
    },
    {
     "name": "stderr",
     "output_type": "stream",
     "text": [
      "100%|██████████| 211/211 [04:30<00:00,  1.28s/it]"
     ]
    },
    {
     "name": "stdout",
     "output_type": "stream",
     "text": [
      "Saved: results/gru/gru_round_50_scaffold_lr.pt\n"
     ]
    },
    {
     "name": "stderr",
     "output_type": "stream",
     "text": [
      "\n"
     ]
    }
   ],
   "source": [
    "for model_name in MODEL_NAMES:\n",
    "    print(f\"Starting experiment with model: {model_name}\")\n",
    "\n",
    "    # === SINGLE global model, weights, c, and all clients use it ===\n",
    "    global_model = model_fn(model_name).to(DEVICE)\n",
    "    global_weights = get_weights(global_model)\n",
    "    # DEVICE Print\n",
    "    print(f\"Using device: {DEVICE}\")\n",
    "\n",
    "    \n",
    "\n",
    "    server_c = [np.zeros_like(w) for w in global_weights]\n",
    "    client_cs = {cid: [np.zeros_like(w) for w in global_weights] for cid in range(NUM_CLIENTS)}\n",
    "\n",
    "    for rnd in range(NUM_ROUNDS):\n",
    "        print(f\"Round {rnd+1}/{NUM_ROUNDS}\")\n",
    "\n",
    "        sampled_clients = random.sample(range(NUM_CLIENTS), k=int(CLIENT_FRAC * NUM_CLIENTS))\n",
    "        print(f\"Sampled {len(sampled_clients)} clients\")\n",
    "\n",
    "        local_weight_deltas = []\n",
    "        local_c_deltas = []\n",
    "\n",
    "        for cid in tqdm(sampled_clients):\n",
    "            local_model = model_fn(model_name).to(DEVICE)\n",
    "            set_weights(local_model, global_weights)\n",
    "\n",
    "            train_loader, _ = load_energy_data_feather(cid, filepath=DATA_FILE)\n",
    "\n",
    "            delta_y, delta_c, new_ci, local_weights, fin_loss = train_model_scaffold(\n",
    "                local_model, train_loader,\n",
    "                global_weights = global_weights,\n",
    "                server_c = server_c,\n",
    "                client_ci = client_cs[cid],\n",
    "                device = DEVICE,\n",
    "                learning_rate = LR,\n",
    "                loss_fn = None,\n",
    "                optimizer_class = optim.Adam,\n",
    "                epochs = LOCAL_EPOCHS\n",
    "            )\n",
    "\n",
    "            local_weight_deltas.append(delta_y)\n",
    "            local_c_deltas.append(delta_c)\n",
    "            client_cs[cid] = new_ci\n",
    "\n",
    "        # === Aggregate and update global weights ===\n",
    "        mean_delta_y = average_weights(local_weight_deltas)\n",
    "        SERVER_LR = 1.0  # you can tune this if needed\n",
    "\n",
    "        global_weights = [\n",
    "            gw + SERVER_LR * dy for gw, dy in zip(global_weights, mean_delta_y)\n",
    "        ]\n",
    "\n",
    "        mean_delta_c = average_weights(local_c_deltas)\n",
    "        frac = len(sampled_clients) / NUM_CLIENTS\n",
    "\n",
    "        server_c = [\n",
    "            sc + frac * dc for sc, dc in zip(server_c, mean_delta_c)\n",
    "        ]\n",
    "\n",
    "        set_weights(global_model, global_weights)\n",
    "\n",
    "        ckpt_path = os.path.join(\"results\", model_name, f\"{model_name}_round_{rnd+1}_scaffold_lr.pt\")\n",
    "        torch.save(global_model.state_dict(), ckpt_path)\n",
    "        print(f\"Saved: {ckpt_path}\")\n"
   ]
  },
  {
   "cell_type": "markdown",
   "id": "41e8cc8f",
   "metadata": {},
   "source": []
  }
 ],
 "metadata": {
  "kernelspec": {
   "display_name": "flower",
   "language": "python",
   "name": "python3"
  },
  "language_info": {
   "codemirror_mode": {
    "name": "ipython",
    "version": 3
   },
   "file_extension": ".py",
   "mimetype": "text/x-python",
   "name": "python",
   "nbconvert_exporter": "python",
   "pygments_lexer": "ipython3",
   "version": "3.11.13"
  }
 },
 "nbformat": 4,
 "nbformat_minor": 5
}
