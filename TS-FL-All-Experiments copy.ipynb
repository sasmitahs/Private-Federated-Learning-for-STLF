{
 "cells": [
  {
   "cell_type": "code",
   "execution_count": 1,
   "id": "85c26839",
   "metadata": {},
   "outputs": [
    {
     "name": "stderr",
     "output_type": "stream",
     "text": [
      "/home/user/anaconda3/envs/flower/lib/python3.11/site-packages/tqdm/auto.py:21: TqdmWarning: IProgress not found. Please update jupyter and ipywidgets. See https://ipywidgets.readthedocs.io/en/stable/user_install.html\n",
      "  from .autonotebook import tqdm as notebook_tqdm\n"
     ]
    }
   ],
   "source": [
    "import torch\n",
    "import torch.nn as nn\n",
    "import torch.optim as optim\n",
    "from torch.utils.data import DataLoader, Subset\n",
    "import numpy as np\n",
    "from Models import MoELSTM\n",
    "import os\n",
    "from collections import OrderedDict\n",
    "import numpy as np\n",
    "import pandas as pd\n",
    "from torch.utils.data import DataLoader\n",
    "\n",
    "from typing import List, Tuple, Optional, Dict\n",
    "from sklearn.preprocessing import MinMaxScaler\n",
    "from sklearn.metrics import mean_squared_error\n",
    "from darts import TimeSeries\n",
    "from darts.dataprocessing.transformers import Scaler\n",
    "import random\n",
    "from Models import MoELSTM, LSTMModel, train_model\n",
    "from Preprocess import (\n",
    "    compute_metrics,\n",
    "    convert_timeseries_to_numpy,\n",
    "    create_dataloader,\n",
    "    load_building_series,\n",
    "    split_series_list,\n",
    ")\n",
    "import pandas as pd\n",
    "from collections import defaultdict\n",
    "import os\n",
    "import torch\n",
    "import torch.optim as optim\n",
    "from tqdm import tqdm\n",
    "\n",
    "\n",
    "from Models import model_fn\n",
    "from tqdm import tqdm\n",
    "from my_utils import train_model, load_energy_data_feather, get_weights, set_weights\n"
   ]
  },
  {
   "cell_type": "code",
   "execution_count": 2,
   "id": "89d0695a",
   "metadata": {},
   "outputs": [],
   "source": [
    "from AggregationStrategy import sync_aggregate,average_weights,sync_aggregate_norm,sync_aggregate_softmax, fedavgm_update"
   ]
  },
  {
   "cell_type": "code",
   "execution_count": 3,
   "id": "d57bad6b",
   "metadata": {},
   "outputs": [],
   "source": [
    "# def average_weights(weights_list):\n",
    "#     \"\"\"Averages model weights provided as a list of get_weights outputs.\"\"\"\n",
    "#     avg_weights = []\n",
    "#     num_models = len(weights_list)\n",
    "#     for layer_weights in zip(*weights_list):\n",
    "#         avg_layer = np.mean(np.array(layer_weights), axis=0)\n",
    "#         avg_weights.append(avg_layer)\n",
    "#     return avg_weights"
   ]
  },
  {
   "cell_type": "code",
   "execution_count": 4,
   "id": "7cf3f0c3",
   "metadata": {},
   "outputs": [],
   "source": [
    "df = pd.read_feather(\"train_final.feather\")"
   ]
  },
  {
   "cell_type": "code",
   "execution_count": 5,
   "id": "6a5334f3",
   "metadata": {},
   "outputs": [
    {
     "data": {
      "text/html": [
       "<div>\n",
       "<style scoped>\n",
       "    .dataframe tbody tr th:only-of-type {\n",
       "        vertical-align: middle;\n",
       "    }\n",
       "\n",
       "    .dataframe tbody tr th {\n",
       "        vertical-align: top;\n",
       "    }\n",
       "\n",
       "    .dataframe thead th {\n",
       "        text-align: right;\n",
       "    }\n",
       "</style>\n",
       "<table border=\"1\" class=\"dataframe\">\n",
       "  <thead>\n",
       "    <tr style=\"text-align: right;\">\n",
       "      <th></th>\n",
       "      <th>building_id</th>\n",
       "      <th>meter</th>\n",
       "      <th>timestamp</th>\n",
       "      <th>meter_reading</th>\n",
       "      <th>primary_use</th>\n",
       "      <th>air_temperature</th>\n",
       "    </tr>\n",
       "  </thead>\n",
       "  <tbody>\n",
       "    <tr>\n",
       "      <th>7593144</th>\n",
       "      <td>0</td>\n",
       "      <td>0</td>\n",
       "      <td>2016-05-21 01:00:00</td>\n",
       "      <td>72.221012</td>\n",
       "      <td>Education</td>\n",
       "      <td>25.6</td>\n",
       "    </tr>\n",
       "    <tr>\n",
       "      <th>7593145</th>\n",
       "      <td>1</td>\n",
       "      <td>0</td>\n",
       "      <td>2016-05-21 01:00:00</td>\n",
       "      <td>39.611586</td>\n",
       "      <td>Education</td>\n",
       "      <td>25.6</td>\n",
       "    </tr>\n",
       "    <tr>\n",
       "      <th>7593146</th>\n",
       "      <td>2</td>\n",
       "      <td>0</td>\n",
       "      <td>2016-05-21 01:00:00</td>\n",
       "      <td>1.920567</td>\n",
       "      <td>Education</td>\n",
       "      <td>25.6</td>\n",
       "    </tr>\n",
       "    <tr>\n",
       "      <th>7593147</th>\n",
       "      <td>3</td>\n",
       "      <td>0</td>\n",
       "      <td>2016-05-21 01:00:00</td>\n",
       "      <td>111.532464</td>\n",
       "      <td>Education</td>\n",
       "      <td>25.6</td>\n",
       "    </tr>\n",
       "    <tr>\n",
       "      <th>7593148</th>\n",
       "      <td>4</td>\n",
       "      <td>0</td>\n",
       "      <td>2016-05-21 01:00:00</td>\n",
       "      <td>456.734799</td>\n",
       "      <td>Education</td>\n",
       "      <td>25.6</td>\n",
       "    </tr>\n",
       "  </tbody>\n",
       "</table>\n",
       "</div>"
      ],
      "text/plain": [
       "         building_id  meter           timestamp  meter_reading primary_use  \\\n",
       "7593144            0      0 2016-05-21 01:00:00      72.221012   Education   \n",
       "7593145            1      0 2016-05-21 01:00:00      39.611586   Education   \n",
       "7593146            2      0 2016-05-21 01:00:00       1.920567   Education   \n",
       "7593147            3      0 2016-05-21 01:00:00     111.532464   Education   \n",
       "7593148            4      0 2016-05-21 01:00:00     456.734799   Education   \n",
       "\n",
       "         air_temperature  \n",
       "7593144             25.6  \n",
       "7593145             25.6  \n",
       "7593146             25.6  \n",
       "7593147             25.6  \n",
       "7593148             25.6  "
      ]
     },
     "execution_count": 5,
     "metadata": {},
     "output_type": "execute_result"
    }
   ],
   "source": [
    "df.head()"
   ]
  },
  {
   "cell_type": "code",
   "execution_count": 6,
   "id": "1317d9a8",
   "metadata": {},
   "outputs": [
    {
     "name": "stdout",
     "output_type": "stream",
     "text": [
      "<class 'pandas.core.frame.DataFrame'>\n",
      "Index: 11712248 entries, 7593144 to 20216099\n",
      "Data columns (total 6 columns):\n",
      " #   Column           Dtype         \n",
      "---  ------           -----         \n",
      " 0   building_id      int64         \n",
      " 1   meter            int64         \n",
      " 2   timestamp        datetime64[ns]\n",
      " 3   meter_reading    float64       \n",
      " 4   primary_use      object        \n",
      " 5   air_temperature  float64       \n",
      "dtypes: datetime64[ns](1), float64(2), int64(2), object(1)\n",
      "memory usage: 625.5+ MB\n"
     ]
    }
   ],
   "source": [
    "df.info()"
   ]
  },
  {
   "cell_type": "code",
   "execution_count": 7,
   "id": "53c5872d",
   "metadata": {},
   "outputs": [],
   "source": [
    "\n",
    "def cluster_buildings_top3_primary_use(df: pd.DataFrame) -> dict:\n",
    "    \"\"\"\n",
    "    Clusters building_ids by top 3 primary_use categories.\n",
    "    Remaining categories are grouped into 'Other'.\n",
    "\n",
    "    Args:\n",
    "        df (pd.DataFrame): Input DataFrame with 'building_id' and 'primary_use'.\n",
    "\n",
    "    Returns:\n",
    "        dict: {'cluster_0': [...], 'cluster_1': [...], 'cluster_2': [...], 'other': [...]}\n",
    "    \"\"\"\n",
    "    # Step 1: Get top 3 most common primary_use values\n",
    "    top3_uses = df['primary_use'].value_counts().nlargest(3).index.tolist()\n",
    "\n",
    "    # Step 2: Create a mapping of cluster name -> list of building_ids\n",
    "    clusters = defaultdict(list)\n",
    "\n",
    "    # Drop duplicate building_id-primary_use pairs to avoid counting duplicates\n",
    "    unique_buildings = df[['building_id', 'primary_use']].drop_duplicates()\n",
    "\n",
    "    for _, row in unique_buildings.iterrows():\n",
    "        bldg_id = row['building_id']\n",
    "        use = row['primary_use']\n",
    "        if use == top3_uses[0]:\n",
    "            clusters['cluster_0'].append(bldg_id)\n",
    "        elif use == top3_uses[1]:\n",
    "            clusters['cluster_1'].append(bldg_id)\n",
    "        elif use == top3_uses[2]:\n",
    "            clusters['cluster_2'].append(bldg_id)\n",
    "        else:\n",
    "            clusters['other'].append(bldg_id)\n",
    "\n",
    "    return dict(clusters)\n"
   ]
  },
  {
   "cell_type": "code",
   "execution_count": 8,
   "id": "b78746fe",
   "metadata": {},
   "outputs": [],
   "source": [
    "top3_uses = df['primary_use'].value_counts().nlargest(3).index.tolist()"
   ]
  },
  {
   "cell_type": "code",
   "execution_count": 9,
   "id": "2d4a1b56",
   "metadata": {},
   "outputs": [
    {
     "data": {
      "text/plain": [
       "['Education', 'Office', 'Entertainment/public assembly']"
      ]
     },
     "execution_count": 9,
     "metadata": {},
     "output_type": "execute_result"
    }
   ],
   "source": [
    "top3_uses"
   ]
  },
  {
   "cell_type": "code",
   "execution_count": 10,
   "id": "68425f05",
   "metadata": {},
   "outputs": [
    {
     "name": "stdout",
     "output_type": "stream",
     "text": [
      "cluster_0: 537 buildings [0, 1, 2, 3, 4]...\n",
      "other: 428 buildings [6, 12, 27, 33, 34]...\n",
      "cluster_1: 269 buildings [9, 15, 17, 19, 21]...\n",
      "cluster_2: 179 buildings [10, 59, 87, 88, 40]...\n"
     ]
    }
   ],
   "source": [
    "clusters = cluster_buildings_top3_primary_use(df)\n",
    "\n",
    "for name, ids in clusters.items():\n",
    "    print(f\"{name}: {len(ids)} buildings {ids[:5]}...\")\n"
   ]
  },
  {
   "cell_type": "code",
   "execution_count": null,
   "id": "feac19a4",
   "metadata": {},
   "outputs": [],
   "source": []
  },
  {
   "cell_type": "code",
   "execution_count": 11,
   "id": "97aecb70",
   "metadata": {},
   "outputs": [],
   "source": [
    "\n",
    "\n",
    "# Config\n",
    "# List of models to experiment with\n",
    "MODEL_NAMES = [\"lstm\", \"gru\", \"moe_lstm\", \"moe_gru\"]\n",
    "\n",
    "# Config\n",
    "NUM_CLIENTS = 1410\n",
    "CLIENT_FRAC = 0.15\n",
    "NUM_ROUNDS = 10\n",
    "LOCAL_EPOCHS = 10\n",
    "LR = 0.001\n",
    "DEVICE = \"cuda\" if torch.cuda.is_available() else \"cpu\"\n",
    "DATA_FILE =\"train_final.feather\" # \"meter_0_data_cleaned.feather\"\n"
   ]
  },
  {
   "cell_type": "markdown",
   "id": "656cae38",
   "metadata": {},
   "source": [
    "### Naive Model :\n",
    "Returns values by lag-24 hr (Acts as Lower Bound)"
   ]
  },
  {
   "cell_type": "code",
   "execution_count": null,
   "id": "09974375",
   "metadata": {},
   "outputs": [],
   "source": []
  },
  {
   "cell_type": "code",
   "execution_count": null,
   "id": "aa118e0d",
   "metadata": {},
   "outputs": [],
   "source": []
  },
  {
   "cell_type": "markdown",
   "id": "ace5d718",
   "metadata": {},
   "source": [
    "### Global Models\n",
    "All data, no Fedeerated Aggregation"
   ]
  },
  {
   "cell_type": "code",
   "execution_count": null,
   "id": "87d88d2b",
   "metadata": {},
   "outputs": [],
   "source": []
  },
  {
   "cell_type": "code",
   "execution_count": 15,
   "id": "ed1133f3",
   "metadata": {},
   "outputs": [
    {
     "name": "stdout",
     "output_type": "stream",
     "text": [
      "Starting experiment with model: lstm\n"
     ]
    },
    {
     "name": "stderr",
     "output_type": "stream",
     "text": [
      "Training clients: 100%|██████████| 1410/1410 [10:34<00:00,  2.22it/s]\n"
     ]
    },
    {
     "name": "stdout",
     "output_type": "stream",
     "text": [
      "Saved global model to results/lstm/lstm_global_model.pt\n",
      "Starting experiment with model: gru\n"
     ]
    },
    {
     "name": "stderr",
     "output_type": "stream",
     "text": [
      "Training clients: 100%|██████████| 1410/1410 [10:28<00:00,  2.24it/s]\n"
     ]
    },
    {
     "name": "stdout",
     "output_type": "stream",
     "text": [
      "Saved global model to results/gru/gru_global_model.pt\n",
      "Starting experiment with model: moe_lstm\n"
     ]
    },
    {
     "name": "stderr",
     "output_type": "stream",
     "text": [
      "Training clients: 100%|██████████| 1410/1410 [12:42<00:00,  1.85it/s]\n"
     ]
    },
    {
     "name": "stdout",
     "output_type": "stream",
     "text": [
      "Saved global model to results/moe_lstm/moe_lstm_global_model.pt\n",
      "Starting experiment with model: moe_gru\n"
     ]
    },
    {
     "name": "stderr",
     "output_type": "stream",
     "text": [
      "Training clients: 100%|██████████| 1410/1410 [12:38<00:00,  1.86it/s]"
     ]
    },
    {
     "name": "stdout",
     "output_type": "stream",
     "text": [
      "Saved global model to results/moe_gru/moe_gru_global_model.pt\n"
     ]
    },
    {
     "name": "stderr",
     "output_type": "stream",
     "text": [
      "\n"
     ]
    }
   ],
   "source": [
    "for model_name in MODEL_NAMES:\n",
    "    print(f\"Starting experiment with model: {model_name}\")\n",
    "\n",
    "    # Directory to save checkpoints\n",
    "    model_dir = os.path.join(\"results\", model_name)\n",
    "    os.makedirs(model_dir, exist_ok=True)\n",
    "    global_model = model_fn(model_name).to(DEVICE)\n",
    "\n",
    "    sampled_clients = list(range(NUM_CLIENTS))\n",
    "    \n",
    "\n",
    "    for cid in tqdm(sampled_clients, desc=\"Training clients\"):\n",
    "        \n",
    "        train_loader, test_loader = load_energy_data_feather(cid, filepath=DATA_FILE)\n",
    "\n",
    "        updated_weights, fin_loss = train_model(\n",
    "            global_model, train_loader,\n",
    "            device=DEVICE,\n",
    "            learning_rate=LR,\n",
    "            loss_fn=None,\n",
    "            optimizer_class=optim.Adam,\n",
    "            epochs=LOCAL_EPOCHS\n",
    "        )\n",
    "    checkpoint_path = os.path.join(model_dir, f\"{model_name}_global_model.pt\")\n",
    "    torch.save(global_model.state_dict(), checkpoint_path)\n",
    "    print(f\"Saved global model to {checkpoint_path}\")"
   ]
  },
  {
   "cell_type": "code",
   "execution_count": null,
   "id": "0f657d30",
   "metadata": {},
   "outputs": [],
   "source": []
  },
  {
   "cell_type": "markdown",
   "id": "c146ddbf",
   "metadata": {},
   "source": [
    "## Federated Learning Without Clustering"
   ]
  },
  {
   "cell_type": "code",
   "execution_count": null,
   "id": "965c1eb1",
   "metadata": {},
   "outputs": [],
   "source": []
  },
  {
   "cell_type": "markdown",
   "id": "c1f443db",
   "metadata": {},
   "source": [
    "### FedAvg"
   ]
  },
  {
   "cell_type": "code",
   "execution_count": null,
   "id": "3ed70787",
   "metadata": {},
   "outputs": [],
   "source": [
    "\n",
    "for model_name in MODEL_NAMES:\n",
    "    print(f\"Starting experiment with model: {model_name}\")\n",
    "\n",
    "    # Directory to save checkpoints\n",
    "    model_dir = os.path.join(\"results\", model_name)\n",
    "    os.makedirs(model_dir, exist_ok=True)\n",
    "\n",
    "    # Init model and weights\n",
    "    global_model = model_fn(model_name).to(DEVICE)\n",
    "    global_weights = get_weights(global_model)\n",
    "\n",
    "    for rnd in range(NUM_ROUNDS):\n",
    "        print(f\"Round {rnd+1}/{NUM_ROUNDS}\")\n",
    "        sampled_clients = random.sample(range(NUM_CLIENTS), k=int(CLIENT_FRAC * NUM_CLIENTS))\n",
    "        local_weights = []\n",
    "\n",
    "        for cid in tqdm(sampled_clients, desc=\"Training clients\"):\n",
    "            local_model = model_fn(model_name).to(DEVICE)\n",
    "            set_weights(local_model, global_weights)\n",
    "            train_loader, test_loader = load_energy_data_feather(cid, filepath=DATA_FILE)\n",
    "\n",
    "            updated_weights, fin_loss = train_model(\n",
    "                local_model, train_loader,\n",
    "                device=DEVICE,\n",
    "                learning_rate=LR,\n",
    "                loss_fn=None,\n",
    "                optimizer_class=optim.Adam,\n",
    "                epochs=LOCAL_EPOCHS\n",
    "            )\n",
    "            local_weights.append(updated_weights)\n",
    "\n",
    "        # Federated averaging\n",
    "        global_weights = average_weights(local_weights)\n",
    "        set_weights(global_model, global_weights)\n",
    "\n",
    "        # Save model checkpoint\n",
    "        checkpoint_path = os.path.join(model_dir, f\"{model_name}_round_{rnd+1}_fedAvg.pt\")\n",
    "        torch.save(global_model.state_dict(), checkpoint_path)\n",
    "        print(f\"Saved global model to {checkpoint_path}\")\n"
   ]
  },
  {
   "cell_type": "markdown",
   "id": "8c86f325",
   "metadata": {},
   "source": [
    "### FedAvgM "
   ]
  },
  {
   "cell_type": "code",
   "execution_count": null,
   "id": "2d52e94b",
   "metadata": {},
   "outputs": [
    {
     "name": "stdout",
     "output_type": "stream",
     "text": [
      "Starting experiment with model: lstm\n",
      "Round 1/10\n"
     ]
    },
    {
     "name": "stderr",
     "output_type": "stream",
     "text": [
      "Training clients: 100%|██████████| 211/211 [01:35<00:00,  2.21it/s]\n"
     ]
    },
    {
     "name": "stdout",
     "output_type": "stream",
     "text": [
      "Saved global model to results/lstm/lstm_round_1_fedAvgM.pt\n",
      "Round 2/10\n"
     ]
    },
    {
     "name": "stderr",
     "output_type": "stream",
     "text": [
      "Training clients: 100%|██████████| 211/211 [01:36<00:00,  2.19it/s]\n"
     ]
    },
    {
     "name": "stdout",
     "output_type": "stream",
     "text": [
      "Saved global model to results/lstm/lstm_round_2_fedAvgM.pt\n",
      "Round 3/10\n"
     ]
    },
    {
     "name": "stderr",
     "output_type": "stream",
     "text": [
      "Training clients: 100%|██████████| 211/211 [01:36<00:00,  2.20it/s]\n"
     ]
    },
    {
     "name": "stdout",
     "output_type": "stream",
     "text": [
      "Saved global model to results/lstm/lstm_round_3_fedAvgM.pt\n",
      "Round 4/10\n"
     ]
    },
    {
     "name": "stderr",
     "output_type": "stream",
     "text": [
      "Training clients: 100%|██████████| 211/211 [01:35<00:00,  2.21it/s]\n"
     ]
    },
    {
     "name": "stdout",
     "output_type": "stream",
     "text": [
      "Saved global model to results/lstm/lstm_round_4_fedAvgM.pt\n",
      "Round 5/10\n"
     ]
    },
    {
     "name": "stderr",
     "output_type": "stream",
     "text": [
      "Training clients: 100%|██████████| 211/211 [01:36<00:00,  2.18it/s]\n"
     ]
    },
    {
     "name": "stdout",
     "output_type": "stream",
     "text": [
      "Saved global model to results/lstm/lstm_round_5_fedAvgM.pt\n",
      "Round 6/10\n"
     ]
    },
    {
     "name": "stderr",
     "output_type": "stream",
     "text": [
      "Training clients: 100%|██████████| 211/211 [01:36<00:00,  2.19it/s]\n"
     ]
    },
    {
     "name": "stdout",
     "output_type": "stream",
     "text": [
      "Saved global model to results/lstm/lstm_round_6_fedAvgM.pt\n",
      "Round 7/10\n"
     ]
    },
    {
     "name": "stderr",
     "output_type": "stream",
     "text": [
      "Training clients: 100%|██████████| 211/211 [01:35<00:00,  2.20it/s]\n"
     ]
    },
    {
     "name": "stdout",
     "output_type": "stream",
     "text": [
      "Saved global model to results/lstm/lstm_round_7_fedAvgM.pt\n",
      "Round 8/10\n"
     ]
    },
    {
     "name": "stderr",
     "output_type": "stream",
     "text": [
      "Training clients: 100%|██████████| 211/211 [01:35<00:00,  2.20it/s]\n"
     ]
    },
    {
     "name": "stdout",
     "output_type": "stream",
     "text": [
      "Saved global model to results/lstm/lstm_round_8_fedAvgM.pt\n",
      "Round 9/10\n"
     ]
    },
    {
     "name": "stderr",
     "output_type": "stream",
     "text": [
      "Training clients: 100%|██████████| 211/211 [01:35<00:00,  2.22it/s]\n"
     ]
    },
    {
     "name": "stdout",
     "output_type": "stream",
     "text": [
      "Saved global model to results/lstm/lstm_round_9_fedAvgM.pt\n",
      "Round 10/10\n"
     ]
    },
    {
     "name": "stderr",
     "output_type": "stream",
     "text": [
      "Training clients: 100%|██████████| 211/211 [01:36<00:00,  2.19it/s]\n"
     ]
    },
    {
     "name": "stdout",
     "output_type": "stream",
     "text": [
      "Saved global model to results/lstm/lstm_round_10_fedAvgM.pt\n",
      "Starting experiment with model: gru\n",
      "Round 1/10\n"
     ]
    },
    {
     "name": "stderr",
     "output_type": "stream",
     "text": [
      "Training clients: 100%|██████████| 211/211 [01:34<00:00,  2.22it/s]\n"
     ]
    },
    {
     "name": "stdout",
     "output_type": "stream",
     "text": [
      "Saved global model to results/gru/gru_round_1_fedAvgM.pt\n",
      "Round 2/10\n"
     ]
    },
    {
     "name": "stderr",
     "output_type": "stream",
     "text": [
      "Training clients:  79%|███████▊  | 166/211 [01:14<00:21,  2.09it/s]"
     ]
    }
   ],
   "source": [
    "\n",
    "for model_name in MODEL_NAMES:\n",
    "    print(f\"Starting experiment with model: {model_name}\")\n",
    "\n",
    "    # Directory to save checkpoints\n",
    "    model_dir = os.path.join(\"results\", model_name)\n",
    "    os.makedirs(model_dir, exist_ok=True)\n",
    "\n",
    "    # Init model and weights\n",
    "    global_model = model_fn(model_name).to(DEVICE)\n",
    "    global_weights = get_weights(global_model)\n",
    "\n",
    "    velocity = [np.zeros_like(w) for w in global_weights]\n",
    "\n",
    "    for rnd in range(NUM_ROUNDS):\n",
    "        print(f\"Round {rnd+1}/{NUM_ROUNDS}\")\n",
    "        sampled_clients = random.sample(range(NUM_CLIENTS), k=int(CLIENT_FRAC * NUM_CLIENTS))\n",
    "        local_weights = []\n",
    "\n",
    "        for cid in tqdm(sampled_clients, desc=\"Training clients\"):\n",
    "            local_model = model_fn(model_name).to(DEVICE)\n",
    "            set_weights(local_model, global_weights)\n",
    "            train_loader, test_loader = load_energy_data_feather(cid, filepath=DATA_FILE)\n",
    "\n",
    "            updated_weights, fin_loss = train_model(\n",
    "                local_model, train_loader,\n",
    "                device=DEVICE,\n",
    "                learning_rate=LR,\n",
    "                loss_fn=None,\n",
    "                optimizer_class=optim.Adam,\n",
    "                epochs=LOCAL_EPOCHS\n",
    "            )\n",
    "            local_weights.append(updated_weights)\n",
    "\n",
    "        # Federated averaging\n",
    "        global_weights, velocity = fedavgm_update(global_weights,local_weights,velocity)\n",
    "        set_weights(global_model, global_weights)\n",
    "\n",
    "        # Save model checkpoint\n",
    "        checkpoint_path = os.path.join(model_dir, f\"{model_name}_round_{rnd+1}_fedAvgM.pt\")\n",
    "        torch.save(global_model.state_dict(), checkpoint_path)\n",
    "        print(f\"Saved global model to {checkpoint_path}\")\n"
   ]
  },
  {
   "cell_type": "markdown",
   "id": "37d3a9cc",
   "metadata": {},
   "source": [
    "### FedAdam"
   ]
  },
  {
   "cell_type": "markdown",
   "id": "a7ab9adb",
   "metadata": {},
   "source": [
    "### Kuramoto FedAvg"
   ]
  },
  {
   "cell_type": "code",
   "execution_count": null,
   "id": "2909947b",
   "metadata": {},
   "outputs": [],
   "source": [
    "\n",
    "for model_name in MODEL_NAMES:\n",
    "    print(f\"Starting experiment with model: {model_name}\")\n",
    "\n",
    "    # Directory to save checkpoints\n",
    "    model_dir = os.path.join(\"results\", model_name)\n",
    "    os.makedirs(model_dir, exist_ok=True)\n",
    "\n",
    "    # Init model and weights\n",
    "    global_model = model_fn(model_name).to(DEVICE)\n",
    "    global_weights = get_weights(global_model)\n",
    "\n",
    "    for rnd in range(NUM_ROUNDS):\n",
    "        print(f\"Round {rnd+1}/{NUM_ROUNDS}\")\n",
    "        sampled_clients = random.sample(range(NUM_CLIENTS), k=int(CLIENT_FRAC * NUM_CLIENTS))\n",
    "        local_weights = []\n",
    "\n",
    "        for cid in tqdm(sampled_clients, desc=\"Training clients\"):\n",
    "            local_model = model_fn(model_name).to(DEVICE)\n",
    "            set_weights(local_model, global_weights)\n",
    "            train_loader, test_loader = load_energy_data_feather(cid, filepath=DATA_FILE)\n",
    "\n",
    "            updated_weights, fin_loss = train_model(\n",
    "                local_model, train_loader,\n",
    "                device=DEVICE,\n",
    "                learning_rate=LR,\n",
    "                loss_fn=None,\n",
    "                optimizer_class=optim.Adam,\n",
    "                epochs=LOCAL_EPOCHS\n",
    "            )\n",
    "            local_weights.append(updated_weights)\n",
    "\n",
    "        # Federated averaging\n",
    "        global_weights = sync_aggregate(global_weights,local_weights)\n",
    "        set_weights(global_model, global_weights)\n",
    "\n",
    "        # Save model checkpoint\n",
    "        checkpoint_path = os.path.join(model_dir, f\"{model_name}_round_{rnd+1}_kr.pt\")\n",
    "        torch.save(global_model.state_dict(), checkpoint_path)\n",
    "        print(f\"Saved global model to {checkpoint_path}\")\n"
   ]
  },
  {
   "cell_type": "markdown",
   "id": "2a1491d6",
   "metadata": {},
   "source": [
    "### Kuramoto-Norm FedAvg"
   ]
  },
  {
   "cell_type": "code",
   "execution_count": null,
   "id": "e646395a",
   "metadata": {},
   "outputs": [],
   "source": [
    "\n",
    "for model_name in MODEL_NAMES:\n",
    "    print(f\"Starting experiment with model: {model_name}\")\n",
    "\n",
    "    # Directory to save checkpoints\n",
    "    model_dir = os.path.join(\"results\", model_name)\n",
    "    os.makedirs(model_dir, exist_ok=True)\n",
    "\n",
    "    # Init model and weights\n",
    "    global_model = model_fn(model_name).to(DEVICE)\n",
    "    global_weights = get_weights(global_model)\n",
    "\n",
    "    for rnd in range(NUM_ROUNDS):\n",
    "        print(f\"Round {rnd+1}/{NUM_ROUNDS}\")\n",
    "        sampled_clients = random.sample(range(NUM_CLIENTS), k=int(CLIENT_FRAC * NUM_CLIENTS))\n",
    "        local_weights = []\n",
    "\n",
    "        for cid in tqdm(sampled_clients, desc=\"Training clients\"):\n",
    "            local_model = model_fn(model_name).to(DEVICE)\n",
    "            set_weights(local_model, global_weights)\n",
    "            train_loader, test_loader = load_energy_data_feather(cid, filepath=DATA_FILE)\n",
    "\n",
    "            updated_weights, fin_loss = train_model(\n",
    "                local_model, train_loader,\n",
    "                device=DEVICE,\n",
    "                learning_rate=LR,\n",
    "                loss_fn=None,\n",
    "                optimizer_class=optim.Adam,\n",
    "                epochs=LOCAL_EPOCHS\n",
    "            )\n",
    "            local_weights.append(updated_weights)\n",
    "\n",
    "        # Federated averaging\n",
    "        global_weights = sync_aggregate_norm(global_weights,local_weights)\n",
    "        set_weights(global_model, global_weights)\n",
    "\n",
    "        # Save model checkpoint\n",
    "        checkpoint_path = os.path.join(model_dir, f\"{model_name}_round_{rnd+1}_kr_norm.pt\")\n",
    "        torch.save(global_model.state_dict(), checkpoint_path)\n",
    "        print(f\"Saved global model to {checkpoint_path}\")\n"
   ]
  },
  {
   "cell_type": "markdown",
   "id": "1d2eafa2",
   "metadata": {},
   "source": [
    "### Kuramoto-Softmax"
   ]
  },
  {
   "cell_type": "code",
   "execution_count": null,
   "id": "81244573",
   "metadata": {},
   "outputs": [],
   "source": [
    "\n",
    "for model_name in MODEL_NAMES:\n",
    "    print(f\"Starting experiment with model: {model_name}\")\n",
    "\n",
    "    # Directory to save checkpoints\n",
    "    model_dir = os.path.join(\"results\", model_name)\n",
    "    os.makedirs(model_dir, exist_ok=True)\n",
    "\n",
    "    # Init model and weights\n",
    "    global_model = model_fn(model_name).to(DEVICE)\n",
    "    global_weights = get_weights(global_model)\n",
    "\n",
    "    for rnd in range(NUM_ROUNDS):\n",
    "        print(f\"Round {rnd+1}/{NUM_ROUNDS}\")\n",
    "        sampled_clients = random.sample(range(NUM_CLIENTS), k=int(CLIENT_FRAC * NUM_CLIENTS))\n",
    "        local_weights = []\n",
    "\n",
    "        for cid in tqdm(sampled_clients, desc=\"Training clients\"):\n",
    "            local_model = model_fn(model_name).to(DEVICE)\n",
    "            set_weights(local_model, global_weights)\n",
    "            train_loader, test_loader = load_energy_data_feather(cid, filepath=DATA_FILE)\n",
    "\n",
    "            updated_weights, fin_loss = train_model(\n",
    "                local_model, train_loader,\n",
    "                device=DEVICE,\n",
    "                learning_rate=LR,\n",
    "                loss_fn=None,\n",
    "                optimizer_class=optim.Adam,\n",
    "                epochs=LOCAL_EPOCHS\n",
    "            )\n",
    "            local_weights.append(updated_weights)\n",
    "\n",
    "        # Federated averaging\n",
    "        global_weights = sync_aggregate_softmax(global_weights,local_weights)\n",
    "        set_weights(global_model, global_weights)\n",
    "\n",
    "        # Save model checkpoint\n",
    "        checkpoint_path = os.path.join(model_dir, f\"{model_name}_round_{rnd+1}_kr_sft.pt\")\n",
    "        torch.save(global_model.state_dict(), checkpoint_path)\n",
    "        print(f\"Saved global model to {checkpoint_path}\")\n"
   ]
  },
  {
   "cell_type": "markdown",
   "id": "c1244302",
   "metadata": {},
   "source": [
    "### DiffAware FedAvg"
   ]
  },
  {
   "cell_type": "code",
   "execution_count": null,
   "id": "8a50779f",
   "metadata": {},
   "outputs": [],
   "source": []
  },
  {
   "cell_type": "markdown",
   "id": "855a8f76",
   "metadata": {},
   "source": [
    "## Federated Learning With Clustering"
   ]
  },
  {
   "cell_type": "code",
   "execution_count": 12,
   "id": "3a6f04d4",
   "metadata": {},
   "outputs": [],
   "source": [
    "import os\n",
    "import torch\n",
    "import torch.optim as optim\n",
    "from tqdm import tqdm\n",
    "import random\n",
    "import numpy as np\n",
    "\n",
    "CLUSTERS = cluster_buildings_top3_primary_use(df)\n",
    "\n",
    "for model_name in MODEL_NAMES:\n",
    "    for cluster_name in CLUSTERS:\n",
    "        os.makedirs(os.path.join(\"results\", model_name, cluster_name), exist_ok=True)\n"
   ]
  },
  {
   "cell_type": "markdown",
   "id": "19d800b8",
   "metadata": {},
   "source": [
    "### FedAvg"
   ]
  },
  {
   "cell_type": "code",
   "execution_count": null,
   "id": "26d444ba",
   "metadata": {},
   "outputs": [],
   "source": [
    "\n",
    "# Main experiment loop\n",
    "for model_name in MODEL_NAMES:\n",
    "    print(f\"Starting experiments for model: {model_name}\")\n",
    "\n",
    "    # Initialize per-cluster model weights\n",
    "    cluster_models = {}\n",
    "    cluster_weights = {}\n",
    "\n",
    "    for cluster_name in CLUSTERS:\n",
    "        model = model_fn(model_name).to(DEVICE)\n",
    "        cluster_models[cluster_name] = model\n",
    "        cluster_weights[cluster_name] = get_weights(model)\n",
    "\n",
    "    for rnd in range(NUM_ROUNDS):\n",
    "        print(f\"\\Round {rnd+1}/{NUM_ROUNDS}\")\n",
    "\n",
    "        for cluster_name, client_ids in CLUSTERS.items():\n",
    "            print(f\" Processing {cluster_name} with {len(client_ids)} clients\")\n",
    "\n",
    "            # Sample a fraction of clients from the cluster\n",
    "            sampled_clients = random.sample(client_ids, k=int(CLIENT_FRAC * len(client_ids)))\n",
    "            print(f\"Sampling {len(sampled_clients)} Clients\")\n",
    "            local_weights = []\n",
    "\n",
    "            for cid in tqdm(sampled_clients, desc=f\"Training {cluster_name}\"):\n",
    "                local_model = model_fn(model_name).to(DEVICE)\n",
    "                set_weights(local_model, cluster_weights[cluster_name])\n",
    "\n",
    "                train_loader, test_loader = load_energy_data_feather(cid, filepath=DATA_FILE)\n",
    "                updated_weights, fin_loss = train_model(\n",
    "                    local_model, train_loader,\n",
    "                    device=DEVICE,\n",
    "                    learning_rate=LR,\n",
    "                    loss_fn=None,\n",
    "                    optimizer_class=optim.Adam,\n",
    "                    epochs=LOCAL_EPOCHS\n",
    "                )\n",
    "                local_weights.append(updated_weights)\n",
    "\n",
    "            # Aggregate and update cluster model\n",
    "            updated_cluster_weights = average_weights(local_weights)\n",
    "            set_weights(cluster_models[cluster_name], updated_cluster_weights)\n",
    "            cluster_weights[cluster_name] = updated_cluster_weights\n",
    "\n",
    "            # Save checkpoint\n",
    "            ckpt_path = os.path.join(\"results\", model_name, cluster_name, f\"{model_name}_{cluster_name}_round_{rnd+1}.pt\")\n",
    "            torch.save(cluster_models[cluster_name].state_dict(), ckpt_path)\n",
    "            print(f\"Saved model: {ckpt_path}\")\n"
   ]
  },
  {
   "cell_type": "markdown",
   "id": "44615ff3",
   "metadata": {},
   "source": [
    "### FedAvgM"
   ]
  },
  {
   "cell_type": "code",
   "execution_count": null,
   "id": "2c531a5c",
   "metadata": {},
   "outputs": [],
   "source": [
    "import os\n",
    "import torch\n",
    "import torch.optim as optim\n",
    "from tqdm import tqdm\n",
    "\n",
    "# Main experiment loop\n",
    "for model_name in MODEL_NAMES:\n",
    "    print(f\"Starting experiments for model: {model_name}\")\n",
    "\n",
    "    # Initialize per-cluster model weights and velocity\n",
    "    cluster_models = {}\n",
    "    cluster_weights = {}\n",
    "    cluster_velocities = {}\n",
    "\n",
    "    for cluster_name in CLUSTERS:\n",
    "        model = model_fn(model_name).to(DEVICE)\n",
    "        weights = get_weights(model)\n",
    "        velocity = [np.zeros_like(w) for w in weights]\n",
    "\n",
    "        cluster_models[cluster_name] = model\n",
    "        cluster_weights[cluster_name] = weights\n",
    "        cluster_velocities[cluster_name] = velocity\n",
    "\n",
    "    for rnd in range(NUM_ROUNDS):\n",
    "        print(f\"\\nRound {rnd+1}/{NUM_ROUNDS}\")\n",
    "\n",
    "        for cluster_name, client_ids in CLUSTERS.items():\n",
    "            print(f\" Processing {cluster_name} with {len(client_ids)} clients\")\n",
    "\n",
    "            # Sample a fraction of clients from the cluster\n",
    "            sampled_clients = random.sample(client_ids, k=int(CLIENT_FRAC * len(client_ids)))\n",
    "            print(f\"Sampling {len(sampled_clients)} Clients\")\n",
    "            local_weights = []\n",
    "\n",
    "            for cid in tqdm(sampled_clients, desc=f\"Training {cluster_name}\"):\n",
    "                local_model = model_fn(model_name).to(DEVICE)\n",
    "                set_weights(local_model, cluster_weights[cluster_name])\n",
    "\n",
    "                train_loader, test_loader = load_energy_data_feather(cid, filepath=DATA_FILE)\n",
    "                updated_weights, fin_loss = train_model(\n",
    "                    local_model, train_loader,\n",
    "                    device=DEVICE,\n",
    "                    learning_rate=LR,\n",
    "                    loss_fn=None,\n",
    "                    optimizer_class=optim.Adam,\n",
    "                    epochs=LOCAL_EPOCHS\n",
    "                )\n",
    "                local_weights.append(updated_weights)\n",
    "\n",
    "            # ---- FedAvgM Aggregation ----\n",
    "            new_weights, new_velocity = fedavgm_update(\n",
    "                cluster_weights[cluster_name],\n",
    "                local_weights,\n",
    "                cluster_velocities[cluster_name]\n",
    "            )\n",
    "\n",
    "            # Update model, weights, and velocity\n",
    "            set_weights(cluster_models[cluster_name], new_weights)\n",
    "            cluster_weights[cluster_name] = new_weights\n",
    "            cluster_velocities[cluster_name] = new_velocity\n",
    "\n",
    "            # Save checkpoint\n",
    "            ckpt_dir = os.path.join(\"results\", model_name, cluster_name)\n",
    "            os.makedirs(ckpt_dir, exist_ok=True)\n",
    "            ckpt_path = os.path.join(ckpt_dir, f\"{model_name}_{cluster_name}_round_{rnd+1}_fedAvgM.pt\")\n",
    "            torch.save(cluster_models[cluster_name].state_dict(), ckpt_path)\n",
    "            print(f\"Saved model: {ckpt_path}\")\n"
   ]
  },
  {
   "cell_type": "markdown",
   "id": "5a17ad77",
   "metadata": {},
   "source": [
    "### FedAdam"
   ]
  },
  {
   "cell_type": "code",
   "execution_count": null,
   "id": "1a421264",
   "metadata": {},
   "outputs": [],
   "source": [
    "\n",
    "# Main experiment loop\n",
    "for model_name in MODEL_NAMES:\n",
    "    print(f\"Starting experiments for model: {model_name}\")\n",
    "\n",
    "    # Initialize per-cluster model weights\n",
    "    cluster_models = {}\n",
    "    cluster_weights = {}\n",
    "\n",
    "    for cluster_name in CLUSTERS:\n",
    "        model = model_fn(model_name).to(DEVICE)\n",
    "        cluster_models[cluster_name] = model\n",
    "        cluster_weights[cluster_name] = get_weights(model)\n",
    "\n",
    "    for rnd in range(NUM_ROUNDS):\n",
    "        print(f\"\\Round {rnd+1}/{NUM_ROUNDS}\")\n",
    "\n",
    "        for cluster_name, client_ids in CLUSTERS.items():\n",
    "            print(f\" Processing {cluster_name} with {len(client_ids)} clients\")\n",
    "\n",
    "            # Sample a fraction of clients from the cluster\n",
    "            sampled_clients = random.sample(client_ids, k=int(CLIENT_FRAC * len(client_ids)))\n",
    "            print(f\"Sampling {len(sampled_clients)} Clients\")\n",
    "            local_weights = []\n",
    "\n",
    "            for cid in tqdm(sampled_clients, desc=f\"Training {cluster_name}\"):\n",
    "                local_model = model_fn(model_name).to(DEVICE)\n",
    "                set_weights(local_model, cluster_weights[cluster_name])\n",
    "\n",
    "                train_loader, test_loader = load_energy_data_feather(cid, filepath=DATA_FILE)\n",
    "                updated_weights, fin_loss = train_model(\n",
    "                    local_model, train_loader,\n",
    "                    device=DEVICE,\n",
    "                    learning_rate=LR,\n",
    "                    loss_fn=None,\n",
    "                    optimizer_class=optim.Adam,\n",
    "                    epochs=LOCAL_EPOCHS\n",
    "                )\n",
    "                local_weights.append(updated_weights)\n",
    "\n",
    "            # Aggregate and update cluster model\n",
    "            updated_cluster_weights = average_weights(local_weights)\n",
    "            set_weights(cluster_models[cluster_name], updated_cluster_weights)\n",
    "            cluster_weights[cluster_name] = updated_cluster_weights\n",
    "\n",
    "            # Save checkpoint\n",
    "            ckpt_path = os.path.join(\"results\", model_name, cluster_name, f\"{model_name}_{cluster_name}_round_{rnd+1}.pt\")\n",
    "            torch.save(cluster_models[cluster_name].state_dict(), ckpt_path)\n",
    "            print(f\"Saved model: {ckpt_path}\")\n"
   ]
  },
  {
   "cell_type": "markdown",
   "id": "4219366a",
   "metadata": {},
   "source": [
    "### Kuramoto FedAvg"
   ]
  },
  {
   "cell_type": "code",
   "execution_count": null,
   "id": "551bc848",
   "metadata": {},
   "outputs": [],
   "source": [
    "\n",
    "# Main experiment loop\n",
    "for model_name in MODEL_NAMES:\n",
    "    print(f\"Starting experiments for model: {model_name}\")\n",
    "\n",
    "    # Initialize per-cluster model weights\n",
    "    cluster_models = {}\n",
    "    cluster_weights = {}\n",
    "\n",
    "    for cluster_name in CLUSTERS:\n",
    "        model = model_fn(model_name).to(DEVICE)\n",
    "        cluster_models[cluster_name] = model\n",
    "        cluster_weights[cluster_name] = get_weights(model)\n",
    "\n",
    "    for rnd in range(NUM_ROUNDS):\n",
    "        print(f\"\\Round {rnd+1}/{NUM_ROUNDS}\")\n",
    "\n",
    "        for cluster_name, client_ids in CLUSTERS.items():\n",
    "            print(f\" Processing {cluster_name} with {len(client_ids)} clients\")\n",
    "\n",
    "            # Sample a fraction of clients from the cluster\n",
    "            sampled_clients = random.sample(client_ids, k=int(CLIENT_FRAC * len(client_ids)))\n",
    "            print(f\"Sampling {len(sampled_clients)} Clients\")\n",
    "            local_weights = []\n",
    "\n",
    "            for cid in tqdm(sampled_clients, desc=f\"Training {cluster_name}\"):\n",
    "                local_model = model_fn(model_name).to(DEVICE)\n",
    "                set_weights(local_model, cluster_weights[cluster_name])\n",
    "\n",
    "                train_loader, test_loader = load_energy_data_feather(cid, filepath=DATA_FILE)\n",
    "                updated_weights, fin_loss = train_model(\n",
    "                    local_model, train_loader,\n",
    "                    device=DEVICE,\n",
    "                    learning_rate=LR,\n",
    "                    loss_fn=None,\n",
    "                    optimizer_class=optim.Adam,\n",
    "                    epochs=LOCAL_EPOCHS\n",
    "                )\n",
    "                local_weights.append(updated_weights)\n",
    "\n",
    "            # Aggregate and update cluster model\n",
    "            updated_cluster_weights = sync_aggregate(cluster_weights[cluster_name],local_weights)\n",
    "            set_weights(cluster_models[cluster_name], updated_cluster_weights)\n",
    "            cluster_weights[cluster_name] = updated_cluster_weights\n",
    "\n",
    "            # Save checkpoint\n",
    "            ckpt_path = os.path.join(\"results\", model_name, cluster_name, f\"{model_name}_{cluster_name}_round_{rnd+1}_kr.pt\")\n",
    "            torch.save(cluster_models[cluster_name].state_dict(), ckpt_path)\n",
    "            print(f\"Saved model: {ckpt_path}\")\n"
   ]
  },
  {
   "cell_type": "markdown",
   "id": "77dfdd93",
   "metadata": {},
   "source": [
    "### Kuramoto Softmax FedAvg"
   ]
  },
  {
   "cell_type": "code",
   "execution_count": null,
   "id": "1196e4e3",
   "metadata": {},
   "outputs": [
    {
     "name": "stdout",
     "output_type": "stream",
     "text": [
      "Starting experiments for model: lstm\n",
      "\\Round 1/10\n",
      " Processing cluster_0 with 537 clients\n",
      "Sampling 80 Clients\n"
     ]
    },
    {
     "name": "stderr",
     "output_type": "stream",
     "text": [
      "Training cluster_0: 100%|██████████| 80/80 [00:39<00:00,  2.05it/s]\n"
     ]
    },
    {
     "name": "stdout",
     "output_type": "stream",
     "text": [
      "SYNC Weights:[0.01714586280286312, 0.007341246586292982, 0.005376106593757868, 0.009026425890624523, 0.013748370110988617, 0.003524855012074113, 0.015615459531545639, 0.028545405715703964, 0.00037552270805463195, 0.0026444564573466778, 0.015169553458690643, 0.016310110688209534, 0.0002666755754034966, 0.024659018963575363, 0.010934737510979176, 0.005372896324843168, 0.008823621086776257, 0.01801506243646145, 0.03618618845939636, 0.0002804785908665508, 0.007796133868396282, 0.02834409847855568, 0.0006704466068185866, 0.003171334508806467, 0.009118565358221531, 0.013552341610193253, 0.010257434099912643, 0.006262031849473715, 0.025177812203764915, 0.01611536741256714, 0.004576415289193392, 0.0010064546950161457, 0.01566484570503235, 0.006497932132333517, 0.017817247658967972, 0.009647764265537262, 0.018062923103570938, 0.026207640767097473, 0.004003540147095919, 0.020688243210315704, 0.003593906294554472, 0.00176674232352525, 0.0036300714127719402, 0.02171650156378746, 0.01763545535504818, 0.017123527824878693, 0.027044452726840973, 0.0001491444418206811, 0.026913024485111237, 0.01755974255502224, 0.005849988665431738, 0.0006482290336862206, 0.01685655489563942, 6.178043258842081e-05, 0.021053608506917953, 0.02250637300312519, 0.0005105097079649568, 0.0019382613245397806, 0.014811601489782333, 0.00802807230502367, 0.007314610294997692, 0.02409876137971878, 0.0015637143515050411, 2.270361454392855e-09, 0.03754138574004173, 0.033280521631240845, 0.013994041830301285, 0.023153850808739662, 0.02316019870340824, 0.00045188210788182914, 0.013332697562873363, 0.019775480031967163, 8.760277705732733e-05, 0.01591973565518856, 0.002767479047179222, 2.8021859179716557e-05, 0.028554467484354973, 0.026168502867221832, 0.013005181215703487, 0.002403724705800414] \n",
      "Saved model: results/lstm/cluster_0/lstm_cluster_0_round_1_kr_softmax.pt\n",
      " Processing other with 428 clients\n",
      "Sampling 64 Clients\n"
     ]
    },
    {
     "name": "stderr",
     "output_type": "stream",
     "text": [
      "Training other: 100%|██████████| 64/64 [00:32<00:00,  1.99it/s]\n"
     ]
    },
    {
     "name": "stdout",
     "output_type": "stream",
     "text": [
      "SYNC Weights:[3.994156591010501e-25, 1.9981471268692985e-05, 0.000170990388141945, 1.1178276360102046e-10, 2.834427300073966e-13, 0.10563703626394272, 9.04088331976638e-11, 1.2971519254278974e-06, 0.0042074513621628284, 4.567755895745762e-10, 1.4396679860430196e-17, 1.2953025154208153e-12, 2.2268265790353903e-13, 4.590889091105055e-08, 1.1056963111484401e-14, 4.6250628656707704e-05, 4.2638656006562664e-14, 0.02651219815015793, 1.591702675796114e-05, 1.1942501032535802e-07, 8.364056157006416e-06, 2.479996510373894e-05, 1.0171514451757102e-21, 2.4791791730649493e-08, 4.764723144035088e-06, 0.0011091399937868118, 8.503096095074589e-14, 0.007965074852108955, 2.867164994313498e-08, 8.559239358874038e-05, 5.805446591121075e-14, 0.000249513570452109, 1.8039070710074157e-05, 1.2116474490397877e-09, 4.764858507755321e-10, 0.19458331167697906, 0.03818589821457863, 0.17832297086715698, 2.3084856248800634e-10, 3.0443703114002574e-11, 1.6708211203475543e-10, 0.06018122285604477, 0.0023955642245709896, 0.10436829924583435, 8.275053531292542e-09, 0.10530421882867813, 2.2405158233596012e-05, 2.3805235560558913e-11, 5.949723824727471e-09, 4.939151726279419e-31, 2.0954413315621423e-08, 1.7180225713283272e-25, 0.012242075055837631, 2.4713152015465312e-05, 1.385899508932198e-06, 0.00145636685192585, 3.546488642314216e-06, 7.602525897709711e-08, 6.877551306239127e-10, 5.719923978908525e-10, 0.15639784932136536, 0.00042560097062960267, 7.890885171946138e-06, 1.4680493487517765e-09] \n",
      "Saved model: results/lstm/other/lstm_other_round_1_kr_softmax.pt\n",
      " Processing cluster_1 with 269 clients\n",
      "Sampling 40 Clients\n"
     ]
    },
    {
     "name": "stderr",
     "output_type": "stream",
     "text": [
      "Training cluster_1: 100%|██████████| 40/40 [00:19<00:00,  2.04it/s]\n"
     ]
    },
    {
     "name": "stdout",
     "output_type": "stream",
     "text": [
      "SYNC Weights:[0.021405456587672234, 9.466892159082363e-09, 0.1109171211719513, 0.017973661422729492, 0.010668179951608181, 0.007095228880643845, 0.11654827743768692, 0.06396946310997009, 0.03303733468055725, 0.07812351733446121, 2.6365278245066293e-06, 0.060069482773542404, 0.035770233720541, 0.056680068373680115, 0.03316447511315346, 0.018185317516326904, 0.020312946289777756, 0.005112232640385628, 0.010138009674847126, 0.029710428789258003, 5.339424660633085e-06, 0.007267991546541452, 0.0062730396166443825, 0.008765684440732002, 2.5349963794774055e-10, 0.0005733942380174994, 0.08985995501279831, 1.823302581710636e-15, 0.04575058072805405, 0.029619786888360977, 4.146520904413364e-09, 9.541915915178834e-07, 0.020783375948667526, 0.011416907422244549, 0.0015772890765219927, 5.566255837057953e-16, 5.351192058911103e-11, 0.009685173630714417, 0.006550424266606569, 0.0329861156642437] \n",
      "Saved model: results/lstm/cluster_1/lstm_cluster_1_round_1_kr_softmax.pt\n",
      " Processing cluster_2 with 179 clients\n",
      "Sampling 26 Clients\n"
     ]
    },
    {
     "name": "stderr",
     "output_type": "stream",
     "text": [
      "Training cluster_2: 100%|██████████| 26/26 [00:13<00:00,  1.99it/s]\n"
     ]
    },
    {
     "name": "stdout",
     "output_type": "stream",
     "text": [
      "SYNC Weights:[0.0, 0.0, 0.039645805954933167, 0.0, 0.0, 0.0, 0.0, 0.0, 3.156996966138998e-31, 0.0, 0.0, 0.0, 0.0, 0.0, 0.0, 0.9603541493415833, 0.0, 0.0, 0.0, 0.0, 0.0, 0.0, 0.0, 0.0, 0.0, 0.0] \n",
      "Saved model: results/lstm/cluster_2/lstm_cluster_2_round_1_kr_softmax.pt\n",
      "\\Round 2/10\n",
      " Processing cluster_0 with 537 clients\n",
      "Sampling 80 Clients\n"
     ]
    },
    {
     "name": "stderr",
     "output_type": "stream",
     "text": [
      "Training cluster_0: 100%|██████████| 80/80 [00:39<00:00,  2.00it/s]\n"
     ]
    },
    {
     "name": "stdout",
     "output_type": "stream",
     "text": [
      "SYNC Weights:[1.5692940105693622e-06, 0.00014865295195824014, 0.0001511560635544205, 9.077804975142985e-05, 7.938102445614325e-05, 0.1067751331054015, 0.020155718953744753, 0.010380569484483923, 0.00016106533699055688, 0.02336761532409789, 0.0001978276415982943, 0.0003925863141005969, 0.00914500997702444, 0.02503499334513163, 1.1386952421196476e-07, 0.003947799240936813, 0.005525318497569001, 0.0210889038258793, 0.011959034461530599, 5.805308852170572e-05, 0.017975670418242388, 0.005738053259604552, 0.0005121702003172078, 0.00034106371719521577, 0.10873642292188, 0.0002617637606907212, 0.003942935260129184, 3.903131549468162e-05, 0.004389373239842825, 0.0009310327760057465, 0.00022665142431750786, 0.04061096355898936, 0.005495361988955749, 0.00013083421478287055, 0.003204339260778199, 6.581109422041218e-05, 0.0017088949370226473, 2.7724124028368987e-05, 0.0001319575265328038, 0.0005101214990135726, 0.004772415089007284, 2.591162632005135e-07, 0.0026901662139149378, 0.0019011163861780802, 1.6809994617923262e-09, 3.3669445706144266e-07, 0.003157232296761744, 0.0012573533059878875, 6.308808361036705e-07, 0.01339547939644385, 1.1769176691347275e-05, 0.00550618867630183, 0.0016443625312152457, 0.0011534535889735403, 0.007537706643164099, 0.0003846026079084662, 0.04516502736732973, 0.00036862864338698103, 0.0002639272327592268, 0.00021559530391601872, 0.020129193480674958, 0.0024926727328486707, 1.6508204903911083e-06, 0.002148858309994044, 0.030541114334387692, 0.005317611296796281, 6.467670448579442e-05, 0.04624274938438411, 0.014653968157786353, 0.08535173578926324, 0.0007462633808330407, 0.057206608308918, 0.013640447605418856, 0.0332897803322866, 0.019934416387083976, 0.013500942279187356, 0.022670859005002163, 0.07359833845553343, 0.03503626813380085, 0.00036413483265387175] \n",
      "Saved model: results/lstm/cluster_0/lstm_cluster_0_round_2_kr_softmax.pt\n",
      " Processing other with 428 clients\n",
      "Sampling 64 Clients\n"
     ]
    },
    {
     "name": "stderr",
     "output_type": "stream",
     "text": [
      "Training other: 100%|██████████| 64/64 [00:31<00:00,  2.04it/s]\n"
     ]
    },
    {
     "name": "stdout",
     "output_type": "stream",
     "text": [
      "SYNC Weights:[3.601988454154218e-11, 4.3472347454241015e-16, 3.1979330586228056e-05, 2.099329669151854e-17, 1.3602257144091929e-09, 5.91010558314237e-16, 1.3487424639869996e-13, 1.1362707953520222e-23, 1.9428226741447438e-28, 0.0034913349740084074, 0.09404140892781052, 1.4232388636907856e-05, 4.639373432197254e-20, 4.6654921478134734e-08, 9.702405567357372e-06, 9.239382404681646e-18, 4.025499076780274e-09, 5.6587847158708295e-09, 0.0005790210204617013, 7.024308868356554e-17, 0.002454508532450068, 4.916186758062512e-13, 2.1121897578066094e-08, 9.391285278003515e-26, 0.4595661885015488, 3.7917895082117947e-16, 4.5558315336029463e-07, 4.106333658328584e-24, 1.2539928626099741e-32, 1.5932731700262203e-12, 2.5864413866617656e-07, 0.0005035490692478816, 2.3639122068844363e-12, 1.0530102996123041e-05, 1.747410193169896e-08, 2.8218539007170646e-12, 7.495947502947359e-07, 1.817207060828411e-23, 1.1193857435511834e-07, 0.3574361438950604, 7.695680335295569e-15, 6.357889076560096e-08, 4.2942599639208616e-23, 2.330153703706474e-08, 1.5248744074972351e-07, 5.146281710330481e-07, 8.798821537524873e-19, 2.488760508925012e-09, 2.911586621394256e-10, 4.61121243215906e-18, 3.36159903477117e-08, 4.971846321712909e-25, 0.08184032358664871, 4.959836411935281e-13, 7.742988464557042e-20, 2.5880784062930818e-11, 3.767923566443962e-20, 1.972954375212702e-06, 5.242554286653587e-21, 1.6504885550254287e-05, 2.3123622245057985e-14, 4.7334624901417945e-12, 3.094464445834176e-14, 1.3230679448367092e-07] \n",
      "Saved model: results/lstm/other/lstm_other_round_2_kr_softmax.pt\n",
      " Processing cluster_1 with 269 clients\n",
      "Sampling 40 Clients\n"
     ]
    },
    {
     "name": "stderr",
     "output_type": "stream",
     "text": [
      "Training cluster_1: 100%|██████████| 40/40 [00:20<00:00,  1.97it/s]\n"
     ]
    },
    {
     "name": "stdout",
     "output_type": "stream",
     "text": [
      "SYNC Weights:[3.6156768696713206e-09, 0.15157355218828075, 2.407400156934541e-06, 0.00437756581082615, 0.023812564724356215, 2.463281910993613e-07, 4.567548762331003e-09, 0.019951832509857905, 0.15815440125455343, 0.054392023394552985, 0.0032480694214531993, 0.03450451180019956, 2.45693279739197e-17, 0.021016370835000887, 0.01583427820757094, 0.0036921597506434133, 1.1776918710699487e-13, 0.00023196335714871616, 0.17171125691795255, 0.0004079039073783329, 0.08022388266153231, 4.2407640316849826e-13, 7.41039252300914e-08, 0.00022441504453499556, 0.02136536513652872, 0.000195945578872394, 2.159392117966059e-09, 0.00218578476189039, 0.005772006408399909, 0.029813135661771125, 0.0034615809413151293, 0.00021660344238541888, 9.110362367628102e-08, 0.15846405216437617, 0.010070545071724949, 8.981935568881614e-08, 4.590412308279879e-18, 0.005362233804525241, 0.019287721844079047, 0.00044535258276436393] \n",
      "Saved model: results/lstm/cluster_1/lstm_cluster_1_round_2_kr_softmax.pt\n",
      " Processing cluster_2 with 179 clients\n",
      "Sampling 26 Clients\n"
     ]
    },
    {
     "name": "stderr",
     "output_type": "stream",
     "text": [
      "Training cluster_2: 100%|██████████| 26/26 [00:13<00:00,  1.96it/s]\n"
     ]
    },
    {
     "name": "stdout",
     "output_type": "stream",
     "text": [
      "SYNC Weights:[0.698261345828447, 0.04900568871561125, 1.6756162485705287e-10, 7.963161391747661e-07, 3.906903720138182e-06, 8.545806816431385e-19, 4.499495121253197e-08, 0.037946046213360604, 6.865081759945577e-17, 5.9456088215139635e-06, 1.2072079688416604e-06, 0.19629194972098077, 0.0011923980374804112, 3.374326089151393e-09, 4.764545305029606e-05, 4.284316816328194e-06, 0.002093788033904626, 1.489574633047522e-06, 8.68600797874767e-09, 4.414492152154982e-08, 9.458805276386944e-06, 0.01507950826014939, 1.606627693386796e-20, 1.1484824625044246e-05, 3.9695404388524184e-05, 3.2524242448407194e-06] \n",
      "Saved model: results/lstm/cluster_2/lstm_cluster_2_round_2_kr_softmax.pt\n",
      "\\Round 3/10\n",
      " Processing cluster_0 with 537 clients\n",
      "Sampling 80 Clients\n"
     ]
    },
    {
     "name": "stderr",
     "output_type": "stream",
     "text": [
      "Training cluster_0: 100%|██████████| 80/80 [00:40<00:00,  1.95it/s]\n"
     ]
    },
    {
     "name": "stdout",
     "output_type": "stream",
     "text": [
      "SYNC Weights:[0.033062197970828294, 0.022266633501244595, 1.3397920208273497e-06, 0.005177532736904387, 0.016691828517988755, 0.00689907664683094, 0.008763655907065841, 5.095086975418667e-05, 0.002325453941836224, 0.0448987234810242, 0.02744011912214999, 0.006034642398539259, 0.01443959673461671, 0.008266351873666597, 0.008575312383575688, 0.025566010726447652, 0.020057144033483673, 0.026645521333963845, 0.0006537838052708937, 0.0002845171704856003, 0.006920544659831718, 0.0002964200220598026, 0.0032050902158824767, 0.0026778094713422284, 1.7765735921256883e-05, 1.755161494959358e-05, 0.04748511223281774, 0.01207267029840111, 0.0008856023460903024, 0.0010833370081692055, 0.03850925638036403, 0.035203610429204994, 0.0004178283280878025, 6.790372201397966e-08, 0.014488923245916696, 0.006378450794885125, 0.006720894918237273, 0.0303265579161888, 0.018301553655745723, 0.0008348016712559811, 0.014020390593100904, 0.02027113261415037, 0.001499828655991886, 0.00023070298393792376, 0.0031973577188676226, 0.01063266314196405, 0.024251248827073784, 0.028948644851754638, 0.008106936114745741, 0.013217171145370915, 0.015952136360230056, 0.004972763964837068, 0.016172044919453715, 0.03540712029166977, 0.022907114008949073, 0.03899679537413673, 0.03653574745914998, 0.04844130204092592, 0.005473011828470567, 0.010083400921160236, 0.010714101957198567, 1.1970648171766175e-06, 0.0025804894889993176, 0.019427137998764988, 0.001694618905694691, 0.0007691823838191061, 0.025397859294360624, 0.00592957198941712, 1.511535976424689e-06, 0.0012181906079050963, 0.006145033456658341, 0.0166061176670564, 0.0007061126008576238, 0.0011086391228058037, 5.510267137314917e-09, 1.2706226507498762e-05, 0.004336842548307423, 0.01318472560345476, 0.016430692415228765, 0.010473507524776986] \n",
      "Saved model: results/lstm/cluster_0/lstm_cluster_0_round_3_kr_softmax.pt\n",
      " Processing other with 428 clients\n",
      "Sampling 64 Clients\n"
     ]
    },
    {
     "name": "stderr",
     "output_type": "stream",
     "text": [
      "Training other: 100%|██████████| 64/64 [00:32<00:00,  1.97it/s]\n"
     ]
    },
    {
     "name": "stdout",
     "output_type": "stream",
     "text": [
      "SYNC Weights:[6.435750887179567e-19, 0.007863475488705007, 1.3565999642710696e-16, 0.00011264367204722046, 5.924606658807884e-14, 3.133634750767517e-16, 8.478950543843654e-05, 1.3479337780108422e-21, 3.253636317004136e-05, 7.214975677444007e-05, 9.42840114920314e-09, 1.9118108540076825e-29, 1.2727217367397159e-17, 4.4888238635698527e-07, 5.374233174205207e-13, 0.368921803834744, 2.2811273640693316e-13, 5.466715950714659e-20, 0.0007485177810778876, 2.950048320588954e-31, 1.0713882646031917e-28, 2.129313686217368e-19, 1.1924063566007554e-20, 1.4000765712474956e-10, 8.883817437703106e-21, 8.964451309498821e-08, 7.64483639455207e-11, 5.907510292087722e-06, 7.566014900659691e-23, 0.00013505200396496926, 4.5834018898262304e-21, 2.82220975043579e-10, 1.6485921049936504e-08, 6.825080598907605e-14, 1.068774653816719e-47, 7.235274108261765e-15, 1.7539384967147538e-18, 9.229721522716716e-23, 1.2968882896109929e-17, 0.0003674338319086805, 2.017535416542543e-07, 0.00024046671540135068, 1.0789744768012482e-20, 0.5425166117827701, 9.3345763009035e-09, 1.0687241486417051e-10, 2.1613486291044658e-16, 5.856672562072701e-06, 0.016903274636764293, 2.3367430100212887e-13, 5.450423137141475e-08, 6.131440538647296e-54, 6.763494140849342e-16, 0.016918392274032325, 1.3157094517766534e-06, 7.185925815755853e-22, 1.8615030433343802e-31, 1.1533302826034311e-22, 1.5231559520705754e-10, 2.43142463066981e-18, 1.7127321616847085e-09, 1.7517458677559511e-15, 0.04454114699490779, 0.0005277875355161842] \n",
      "Saved model: results/lstm/other/lstm_other_round_3_kr_softmax.pt\n",
      " Processing cluster_1 with 269 clients\n",
      "Sampling 40 Clients\n"
     ]
    },
    {
     "name": "stderr",
     "output_type": "stream",
     "text": [
      "Training cluster_1: 100%|██████████| 40/40 [00:19<00:00,  2.01it/s]\n"
     ]
    },
    {
     "name": "stdout",
     "output_type": "stream",
     "text": [
      "SYNC Weights:[2.3143055991771077e-05, 2.7141610031599733e-59, 0.09841513778317493, 2.4304912403974378e-05, 5.611115243617169e-26, 1.7791238358459427e-07, 1.4570849460272043e-18, 0.0024881335868771662, 1.1437624162020456e-22, 3.873490577987846e-13, 4.537136264423979e-06, 1.1988097219866086e-27, 1.37235372330085e-07, 5.375963753089077e-40, 5.0015833551869936e-08, 1.6968211730131243e-58, 1.29962760147732e-10, 3.850450184176989e-09, 1.9778620541583784e-38, 3.5666183211435824e-06, 0.1194433339952189, 1.1341268700881531e-08, 4.882585228771744e-37, 1.949643700463405e-11, 0.505449126312943, 1.7122981322437574e-13, 1.6447049769990503e-14, 1.170047374490387e-11, 8.096387463291993e-16, 1.313230898494639e-08, 1.0653447741829943e-34, 1.562286777231836e-07, 1.6555420524334876e-31, 0.09543508260735344, 0.0004100152419937109, 0.1783030629130933, 6.045402201902603e-15, 9.004070434505701e-10, 3.4229489405245963e-12, 6.359307379595962e-15] \n",
      "Saved model: results/lstm/cluster_1/lstm_cluster_1_round_3_kr_softmax.pt\n",
      " Processing cluster_2 with 179 clients\n",
      "Sampling 26 Clients\n"
     ]
    },
    {
     "name": "stderr",
     "output_type": "stream",
     "text": [
      "Training cluster_2: 100%|██████████| 26/26 [00:13<00:00,  1.96it/s]\n"
     ]
    },
    {
     "name": "stdout",
     "output_type": "stream",
     "text": [
      "SYNC Weights:[0.00012561184899143225, 1.1801203665512853e-05, 0.30418727757710384, 2.670155427810747e-06, 1.753904369215757e-19, 0.00385877805877151, 1.5101000418505845e-27, 1.4412034783440094e-05, 6.423657276284138e-08, 8.881839548067935e-11, 0.04849597670258481, 0.49746425388585086, 7.426502855733943e-18, 0.08835396810138398, 1.1414612074200477e-27, 3.9503887082897575e-32, 1.2258034194870985e-07, 5.392296910036933e-06, 4.465182573705258e-16, 4.1546829762250166e-38, 0.014645327500933879, 4.903214999776626e-08, 0.0017834585244714256, 5.285837481405369e-11, 8.553819414989417e-10, 0.04105083028835499] \n",
      "Saved model: results/lstm/cluster_2/lstm_cluster_2_round_3_kr_softmax.pt\n",
      "\\Round 4/10\n",
      " Processing cluster_0 with 537 clients\n",
      "Sampling 80 Clients\n"
     ]
    },
    {
     "name": "stderr",
     "output_type": "stream",
     "text": [
      "Training cluster_0: 100%|██████████| 80/80 [00:39<00:00,  2.03it/s]\n"
     ]
    },
    {
     "name": "stdout",
     "output_type": "stream",
     "text": [
      "SYNC Weights:[0.0005429041046278372, 1.3382344361026546e-06, 0.003947826177883741, 9.284589154289167e-05, 8.661551732239733e-06, 0.020081437229335163, 0.001424802965541683, 0.00663243746838271, 0.0018419781582247256, 0.00039282632688045037, 5.822856537637577e-06, 1.7722952043299402e-08, 0.18383797500109902, 0.0007769385813912613, 3.762014456071025e-06, 3.9289407254606014e-07, 0.00011926788358666513, 0.0012239767030386736, 9.342791640367785e-07, 0.008078330729883272, 0.0008212280200823353, 0.0033743642945631, 0.06467784929527808, 0.044310973026277525, 0.058773723586973116, 0.005905439519969128, 0.0006063562026017046, 8.588790382069888e-08, 0.0015432016808375282, 0.00012247479812861508, 0.0003681881943424738, 0.002018858119755459, 0.01569840618787248, 0.02582398750269583, 0.05994259988173201, 0.00018507210640379793, 0.005267790949392175, 0.057594694117688236, 2.3710310463009953e-10, 0.027362062544014278, 8.595918411969532e-06, 0.0022336677118659646, 0.03703847955257504, 0.018771697577762987, 0.003543894753757944, 0.0009405756662724154, 0.0060002487878003065, 5.826458455674982e-07, 2.917189947909358e-11, 0.0009261508656808782, 0.0010700827225025597, 0.006954479737321695, 8.066040975038111e-06, 0.0035226708814170126, 1.3491524367803663e-07, 8.580475358705408e-05, 0.016922858447546638, 9.308450511514255e-05, 2.9429231611031185e-06, 0.06233562341336468, 4.9756278895847706e-14, 6.239083565752146e-08, 0.0002532021036675337, 0.017281515252360994, 0.007560357576244103, 0.03925956511493978, 0.0023536877309386986, 1.9184824741607763e-07, 0.05575925120189493, 0.0026488245260607, 0.004173167999491415, 0.014060811473815516, 9.433125697792146e-07, 0.016562391201432488, 0.005986969458038239, 2.0172254115456425e-14, 0.03062307054676896, 0.009971568000581472, 0.010972094918310601, 0.018660848727588636] \n",
      "Saved model: results/lstm/cluster_0/lstm_cluster_0_round_4_kr_softmax.pt\n",
      " Processing other with 428 clients\n",
      "Sampling 64 Clients\n"
     ]
    },
    {
     "name": "stderr",
     "output_type": "stream",
     "text": [
      "Training other: 100%|██████████| 64/64 [00:34<00:00,  1.85it/s]\n"
     ]
    },
    {
     "name": "stdout",
     "output_type": "stream",
     "text": [
      "SYNC Weights:[2.239567481815046e-16, 1.60481996257725e-08, 4.9586594615639677e-23, 2.089383435155809e-18, 6.818863006996553e-09, 0.16372145588554063, 3.683045146701762e-23, 1.4735225034255597e-06, 2.2484502160330554e-07, 0.0017830028999998825, 9.125795680282461e-06, 0.0014411525441646775, 0.008518435862097572, 1.1653219889632634e-27, 6.086064703699011e-10, 5.617691951476881e-23, 1.473338918349263e-22, 0.4256895863302397, 1.6991150385474545e-17, 7.575865934091304e-11, 5.027137138687772e-08, 4.0384851719959855e-12, 0.0007445781432939517, 7.992922233086701e-13, 3.6195210293387115e-31, 0.020361985286324567, 0.021714196918767206, 2.9558764151633914e-05, 4.0704110341545974e-19, 5.413903293632804e-08, 7.730680578868615e-10, 2.8920069209801512e-05, 1.65986406441669e-21, 1.1515177853437717e-25, 4.392051444474806e-10, 2.183040506896879e-11, 3.7743705106386757e-06, 7.625508470916693e-07, 7.810454700361079e-13, 1.0928408776055391e-23, 1.0575968332917578e-11, 7.120257049545556e-09, 1.0181431310179995e-07, 3.48181293302578e-07, 8.39279571085178e-27, 0.3357117311977361, 1.4830179492525744e-05, 1.4171727152761883e-15, 8.214908682895647e-14, 6.596630535947643e-18, 1.6237549981834163e-06, 0.002314219589863881, 0.012909295673250599, 2.944766156397968e-23, 6.74129805564517e-07, 1.4107792764360238e-07, 3.7074933811177335e-11, 1.3065197517918191e-24, 0.004998588532033289, 7.457302856166317e-11, 2.279398575257901e-25, 6.22003673159836e-11, 6.412807586576259e-08, 7.189641840725162e-09] \n",
      "Saved model: results/lstm/other/lstm_other_round_4_kr_softmax.pt\n",
      " Processing cluster_1 with 269 clients\n",
      "Sampling 40 Clients\n"
     ]
    },
    {
     "name": "stderr",
     "output_type": "stream",
     "text": [
      "Training cluster_1: 100%|██████████| 40/40 [00:21<00:00,  1.87it/s]\n"
     ]
    },
    {
     "name": "stdout",
     "output_type": "stream",
     "text": [
      "SYNC Weights:[6.3917465938213925e-06, 0.009065949068448547, 1.120828670574846e-05, 6.578141626461793e-05, 5.572989426568493e-10, 0.07815175974334732, 0.003717973717196714, 0.01800064837347494, 2.5320357808541307e-09, 0.04828371282713197, 0.0952793386558267, 0.028489012097891928, 0.0030891993026192967, 0.0032550289992017583, 0.006962607629233764, 8.886647103469781e-07, 0.13758318724239038, 0.07265250348054612, 3.7443458311201493e-06, 0.00224738668948729, 0.002744603686905636, 0.0010383831481658539, 0.003833390558883265, 0.0015893343835795112, 1.1271369472659786e-19, 0.0011185957033225968, 0.09803150310023244, 0.02023656066489347, 1.1728958742605903e-05, 0.00023045179396332196, 0.03452582142413668, 0.24881688528169302, 0.05763583205210831, 1.4518361410126875e-05, 1.64034834988826e-07, 0.0028248665230508813, 0.002101204166266703, 0.002296049743550102, 0.013674517346690658, 0.002409261203163989] \n",
      "Saved model: results/lstm/cluster_1/lstm_cluster_1_round_4_kr_softmax.pt\n",
      " Processing cluster_2 with 179 clients\n",
      "Sampling 26 Clients\n"
     ]
    },
    {
     "name": "stderr",
     "output_type": "stream",
     "text": [
      "Training cluster_2: 100%|██████████| 26/26 [00:13<00:00,  1.98it/s]\n"
     ]
    },
    {
     "name": "stdout",
     "output_type": "stream",
     "text": [
      "SYNC Weights:[1.6794978047521307e-09, 0.006740858476724654, 4.138126072362197e-06, 5.736358386213478e-07, 5.5428388620459994e-14, 0.9879294518352908, 1.3948642461339747e-16, 3.6333298453393495e-06, 9.065617658999684e-14, 2.0435389819655693e-16, 1.5122092776144008e-09, 2.6008089488565944e-44, 1.5337586809854215e-23, 0.005319078484193066, 1.4277160525128292e-16, 9.541874230690694e-13, 1.2103691493699196e-13, 8.327016827961358e-09, 5.202925482961316e-32, 2.242657137670857e-06, 1.1847096280474093e-15, 2.0556001495899594e-09, 3.3561941404032797e-39, 1.7876490503281372e-24, 1.157466614024221e-18, 5.6002109083782e-14] \n",
      "Saved model: results/lstm/cluster_2/lstm_cluster_2_round_4_kr_softmax.pt\n",
      "\\Round 5/10\n",
      " Processing cluster_0 with 537 clients\n",
      "Sampling 80 Clients\n"
     ]
    },
    {
     "name": "stderr",
     "output_type": "stream",
     "text": [
      "Training cluster_0: 100%|██████████| 80/80 [00:39<00:00,  2.03it/s]\n"
     ]
    },
    {
     "name": "stdout",
     "output_type": "stream",
     "text": [
      "SYNC Weights:[0.037750775231725126, 0.00017155052169986852, 7.114702072992897e-13, 8.216191535659332e-07, 3.0492027519076266e-06, 0.0011784960620992615, 0.04607558757134047, 1.342080543407702e-14, 5.700366074446459e-07, 8.134751416238955e-05, 1.4973943856448463e-06, 3.47772980458975e-08, 8.696289605496873e-08, 3.313577677314974e-13, 1.8499328486967055e-05, 0.015865909286406393, 0.00011014618754634579, 0.000619490660104947, 0.0065672432268720285, 7.946935855254565e-06, 0.0001283939669337157, 8.823358929398043e-05, 3.752566073105766e-12, 1.6667547575772901e-09, 9.445503868668011e-08, 2.2345800750555442e-13, 9.048656633433482e-12, 8.08965001767279e-05, 0.02577316830359439, 2.3136378677516204e-16, 0.01175250470850556, 0.005653531057922184, 1.7710042910196833e-13, 0.005966164480865947, 0.00037065292561228106, 3.717803660711713e-05, 0.018135514857320633, 0.000449790310799512, 3.376378326069579e-05, 8.801425367879934e-08, 0.005162135760127155, 0.0637282200775721, 1.7295467581945945e-06, 1.140008954417205e-07, 8.94545148113171e-06, 2.2884983506325917e-07, 5.638975055537515e-05, 1.7830880860438228e-28, 0.0003618238055190651, 0.005738406051590153, 9.380128277926365e-05, 0.09059960254590625, 8.736614745409035e-08, 2.158342897799947e-07, 0.0033312675692313623, 0.027898977819590283, 0.026342643214832304, 3.381642019312328e-13, 0.011430664374942473, 3.359567028208161e-07, 0.018562668129732396, 0.0008709358270163514, 0.0001277345553701023, 0.0011692795283417066, 8.120821927035928e-06, 9.149964948263382e-05, 0.0015549605925453019, 6.509119182357057e-05, 2.075222048605732e-05, 8.046991377520586e-05, 0.03640077555117896, 2.1145649930222635e-05, 9.911538890250991e-06, 0.5138757960980841, 0.00014266334815167796, 0.00023624887557216544, 1.1630387947029043e-05, 3.243514479614604e-05, 0.008409107110032461, 0.0066301502764749606] \n",
      "Saved model: results/lstm/cluster_0/lstm_cluster_0_round_5_kr_softmax.pt\n",
      " Processing other with 428 clients\n",
      "Sampling 64 Clients\n"
     ]
    },
    {
     "name": "stderr",
     "output_type": "stream",
     "text": [
      "Training other: 100%|██████████| 64/64 [00:31<00:00,  2.00it/s]\n"
     ]
    },
    {
     "name": "stdout",
     "output_type": "stream",
     "text": [
      "SYNC Weights:[0.0064452120949306125, 0.0013770797775713751, 4.442117524242481e-12, 0.003195495364756468, 0.012090753261464977, 0.11035389485172385, 0.04604995774093673, 0.007093130987158374, 7.611126480217727e-05, 0.0002039175509363588, 0.001216786170385213, 0.015671520319980915, 0.014408028501034157, 0.050067609649435615, 0.00952563138472725, 0.009044893295907136, 0.014809126706378331, 0.07223362712444095, 0.005068263912406675, 0.0009124039689717651, 2.6950572120632192e-08, 0.07881684160350001, 9.280224228500321e-06, 0.02574048485067012, 0.0012107203952517987, 0.005616082778647941, 0.010261589471463193, 0.03544587549266699, 0.00044695894828630025, 0.028610055145915914, 0.008747301440672383, 4.714902862101791e-05, 0.005107242820725912, 0.00010197145062785418, 2.738732882206571e-06, 0.013076708762000308, 5.600767460824999e-05, 0.001085279070613027, 0.0002723027983183461, 0.00014460070267073634, 0.008447173514260935, 0.023369714602637807, 0.01023430050895658, 0.03170633221541813, 0.00029392750367750707, 0.02621436260804636, 0.007309098578924263, 0.004297268219376627, 0.009975281245663777, 0.0002363637114587202, 0.009353598216854954, 0.0017327378884385532, 0.017829109348528875, 0.0012586421608513062, 0.13621403557924505, 0.0025461249046959855, 0.055167086645149375, 0.006517780579795333, 0.02511920038403261, 1.703594141650799e-05, 0.003437256885944983, 0.012263928941829136, 2.5114894016300423e-05, 0.011791861283305994] \n",
      "Saved model: results/lstm/other/lstm_other_round_5_kr_softmax.pt\n",
      " Processing cluster_1 with 269 clients\n",
      "Sampling 40 Clients\n"
     ]
    },
    {
     "name": "stderr",
     "output_type": "stream",
     "text": [
      "Training cluster_1: 100%|██████████| 40/40 [00:21<00:00,  1.88it/s]\n"
     ]
    },
    {
     "name": "stdout",
     "output_type": "stream",
     "text": [
      "SYNC Weights:[1.7903762923884405e-08, 7.755671575001669e-14, 3.701166796844736e-21, 7.291196082085959e-06, 0.025477693307012824, 0.015320382200014422, 2.2889861529803447e-06, 5.19315069897382e-06, 1.2390270112557472e-05, 8.581937109186686e-11, 0.17034000151230186, 2.107107088539026e-07, 2.957585592058157e-11, 0.03913067246832995, 5.5437704229856765e-11, 7.881147716871886e-08, 0.1421274888684968, 0.0013327970331124576, 0.01063734058088654, 7.952649947735911e-07, 5.3443262316237184e-15, 4.202464762721594e-05, 0.04229718447816797, 9.79488559970669e-05, 0.002280253444559061, 0.0019520568052126634, 1.0987107476190849e-08, 3.4710989011885836e-08, 3.693010842645032e-08, 0.0004639921750086152, 0.12645791326609024, 3.095323556293814e-07, 2.691709863959156e-06, 9.107346930952575e-06, 0.012265028469544572, 8.16256225250428e-13, 0.382040861211167, 0.023019973452495436, 1.187767281038737e-11, 0.0046759257086112374] \n",
      "Saved model: results/lstm/cluster_1/lstm_cluster_1_round_5_kr_softmax.pt\n",
      " Processing cluster_2 with 179 clients\n",
      "Sampling 26 Clients\n"
     ]
    },
    {
     "name": "stderr",
     "output_type": "stream",
     "text": [
      "Training cluster_2: 100%|██████████| 26/26 [00:14<00:00,  1.77it/s]\n"
     ]
    },
    {
     "name": "stdout",
     "output_type": "stream",
     "text": [
      "SYNC Weights:[2.0809172453202837e-23, 2.5314855866723904e-84, 2.281061036256247e-12, 4.3682212969580145e-57, 6.704857245683252e-34, 4.9829159166030096e-216, 5.869858772321566e-19, 7.066323418009768e-88, 7.371293399476335e-110, 1.255782719879608e-101, 2.391621889190132e-34, 2.158367809098512e-80, 2.0022364728322582e-35, 1.3028401351567838e-119, 1.1033313333600244e-91, 1.2270212085570013e-83, 3.0539712178262927e-108, 4.5042612417170105e-67, 2.678226206630573e-179, 4.277275702087341e-135, 0.9999999899977191, 4.321349491479753e-77, 3.237300362717046e-38, 1.0470061007171736e-50, 1.8047970228711094e-77, 2.4100246544568246e-60] \n",
      "Saved model: results/lstm/cluster_2/lstm_cluster_2_round_5_kr_softmax.pt\n",
      "\\Round 6/10\n",
      " Processing cluster_0 with 537 clients\n",
      "Sampling 80 Clients\n"
     ]
    },
    {
     "name": "stderr",
     "output_type": "stream",
     "text": [
      "Training cluster_0: 100%|██████████| 80/80 [00:44<00:00,  1.79it/s]\n"
     ]
    },
    {
     "name": "stdout",
     "output_type": "stream",
     "text": [
      "SYNC Weights:[1.477662170293035e-33, 1.844489595886445e-07, 8.52242174191012e-13, 1.4613741925165347e-06, 2.9163750540758058e-08, 6.962645305081026e-07, 6.1845632340475876e-15, 9.323503851234223e-07, 5.059007090461534e-06, 0.00036186091446530045, 6.128124098102467e-09, 1.6200463932243368e-13, 1.1210845230528898e-13, 1.2936812173857554e-13, 8.008493951403818e-05, 0.6168194487854589, 1.2253969360416878e-05, 5.324876754149578e-08, 2.0056766127601785e-54, 9.432890685814785e-10, 2.8080526041391174e-05, 3.4205566665842392e-12, 2.5285929265385947e-30, 1.8123461889984246e-15, 0.0003309974773046125, 3.355868865766921e-08, 4.3678259022080515e-11, 8.146411305928992e-12, 3.939894534335528e-10, 0.002855420183113805, 1.3329468963934477e-18, 1.0158420966428498e-09, 2.922899128144706e-10, 1.8450228619833577e-09, 3.946711871406502e-32, 8.50518907560473e-06, 2.17643409793416e-12, 8.414949249354819e-10, 0.00148580121053138, 1.6283705265455148e-20, 5.229206189891644e-07, 2.431475704181611e-09, 6.407339763264807e-09, 0.0007550320876446809, 2.6608246632296657e-08, 1.550561724362097e-06, 2.5369099241694588e-05, 1.8193250167003028e-07, 8.893293240572285e-11, 5.072602403101411e-29, 9.929984194668502e-09, 0.0428172161884855, 2.5259694093239267e-08, 9.292167975959348e-10, 1.7503852253592077e-06, 3.2879389621389576e-05, 0.0826173558106334, 1.4212128999719e-12, 5.673891675949602e-06, 5.169233758855548e-07, 2.379885522849931e-10, 2.8776209939041018e-18, 5.9036666579022515e-09, 9.688109436274532e-08, 5.614927484785935e-32, 9.771299460640615e-08, 0.048368455048435934, 9.885985484452168e-06, 6.138615649445506e-07, 0.00027956716469762244, 6.00386661534494e-11, 4.538194612558148e-14, 6.439624615502649e-06, 0.13798515321133628, 0.04731686494484792, 6.518337847370464e-06, 0.017437996630378583, 7.861687983236306e-15, 8.685219167434465e-08, 0.00033917639754055555] \n",
      "Saved model: results/lstm/cluster_0/lstm_cluster_0_round_6_kr_softmax.pt\n",
      " Processing other with 428 clients\n",
      "Sampling 64 Clients\n"
     ]
    },
    {
     "name": "stderr",
     "output_type": "stream",
     "text": [
      "Training other: 100%|██████████| 64/64 [00:36<00:00,  1.76it/s]\n"
     ]
    },
    {
     "name": "stdout",
     "output_type": "stream",
     "text": [
      "SYNC Weights:[9.864295248848804e-19, 1.7236330644691645e-23, 1.4796334466196733e-10, 5.69963237907334e-25, 1.2824898173088443e-10, 5.630099347702563e-36, 1.5129601756120318e-38, 4.1088382579266795e-77, 4.5715944629907146e-32, 1.615957627033181e-23, 5.313618790846336e-76, 7.161776661136301e-34, 4.6710079542187275e-20, 3.00924585388062e-28, 2.167152924506954e-19, 3.217721720310903e-76, 3.2735690253245425e-26, 2.937784901752272e-26, 1.261716956722384e-20, 8.366179300182286e-22, 4.6029897629110325e-19, 8.849143369927144e-21, 8.020433792849658e-27, 4.7217374760934924e-21, 1.5694432881412513e-14, 1.5843811170817326e-23, 1.0945050556186724e-24, 5.632975532240678e-18, 3.9240619152058907e-23, 6.010200467663938e-79, 2.443169836515227e-84, 4.399237472255141e-16, 2.6023106184618792e-17, 8.857192768507041e-39, 9.724228958520255e-32, 8.078718102599843e-26, 4.177185846900276e-23, 5.745412186203688e-34, 1.361742098810534e-82, 6.705751805163291e-16, 3.6702286133759605e-14, 2.720336246314145e-40, 1.0250158303248024e-15, 7.938343452951721e-27, 1.8631139809929703e-79, 4.897317118186565e-27, 0.9999999895382746, 1.2513596916273627e-24, 6.123806662546484e-22, 3.1759455250452705e-27, 1.854584386019458e-10, 1.6117314356069976e-34, 1.2282583699050218e-16, 1.3470313753544859e-30, 3.0230214276245927e-21, 1.0214246623301048e-27, 1.7427601524165815e-20, 2.0541427873611236e-41, 6.03371365402866e-28, 2.703119208071792e-31, 3.616926467853124e-31, 2.1381439043005751e-38, 2.843867972986432e-20, 1.1907655294856492e-20] \n",
      "Saved model: results/lstm/other/lstm_other_round_6_kr_softmax.pt\n",
      " Processing cluster_1 with 269 clients\n",
      "Sampling 40 Clients\n"
     ]
    },
    {
     "name": "stderr",
     "output_type": "stream",
     "text": [
      "Training cluster_1: 100%|██████████| 40/40 [00:22<00:00,  1.76it/s]\n"
     ]
    },
    {
     "name": "stdout",
     "output_type": "stream",
     "text": [
      "SYNC Weights:[2.5096736225077006e-12, 9.401844412631495e-17, 2.7715634458229636e-33, 1.7212252586139324e-12, 1.1569472846322565e-07, 1.124164827452542e-52, 9.369317618228527e-34, 1.1072275044715895e-05, 0.9989435258665196, 1.4046570664769068e-13, 1.4408108818546696e-13, 1.1593350867329297e-17, 1.4808807351547566e-70, 6.306509220222118e-07, 8.073206511479891e-07, 1.0509712533897579e-07, 1.2074413284193518e-20, 3.991682785394762e-05, 7.600225014141964e-08, 5.948591876410137e-26, 5.837871281197322e-09, 2.0089518313142543e-42, 8.532357286588721e-49, 9.872259757028713e-20, 9.018989733697092e-05, 4.561730778557361e-18, 8.300761938158262e-25, 6.040654305475251e-22, 4.834098751993827e-25, 1.9525457474921173e-17, 2.41777713627027e-21, 7.54072279802569e-12, 8.158004183354762e-26, 3.2985568146296537e-15, 3.3312758360510235e-21, 8.299652693378769e-05, 8.115735332923482e-05, 0.0006922072714103182, 1.1380392851439905e-18, 5.718337652822898e-05] \n",
      "Saved model: results/lstm/cluster_1/lstm_cluster_1_round_6_kr_softmax.pt\n",
      " Processing cluster_2 with 179 clients\n",
      "Sampling 26 Clients\n"
     ]
    },
    {
     "name": "stderr",
     "output_type": "stream",
     "text": [
      "Training cluster_2: 100%|██████████| 26/26 [00:15<00:00,  1.73it/s]\n"
     ]
    },
    {
     "name": "stdout",
     "output_type": "stream",
     "text": [
      "SYNC Weights:[0.0, 0.9999999900000002, 0.0, 0.0, 0.0, 0.0, 0.0, 0.0, 0.0, 0.0, 0.0, 0.0, 0.0, 0.0, 0.0, 0.0, 0.0, 0.0, 0.0, 0.0, 0.0, 0.0, 0.0, 0.0, 0.0, 0.0] \n",
      "Saved model: results/lstm/cluster_2/lstm_cluster_2_round_6_kr_softmax.pt\n",
      "\\Round 7/10\n",
      " Processing cluster_0 with 537 clients\n",
      "Sampling 80 Clients\n"
     ]
    },
    {
     "name": "stderr",
     "output_type": "stream",
     "text": [
      "Training cluster_0: 100%|██████████| 80/80 [00:44<00:00,  1.79it/s]\n"
     ]
    },
    {
     "name": "stdout",
     "output_type": "stream",
     "text": [
      "SYNC Weights:[3.3789966915261786e-20, 0.14627311567052412, 0.08786626000875745, 7.879561436553177e-22, 0.01876390965454826, 3.4842763409817763e-07, 0.002179560083708495, 9.824503358056922e-08, 0.0011003619808690893, 0.019576203107780455, 0.004316739950433943, 0.0029139193294054604, 0.0026232191734033793, 0.0002549014743985435, 0.00019908097143546538, 0.015856909161999062, 0.00019122298042080344, 0.0012741685544536373, 0.0002706020480548554, 0.060084423649862634, 9.795910746376596e-06, 8.349225915199458e-05, 0.0005986805694327827, 0.04364001461629792, 0.005883064389097695, 5.606419421139036e-08, 2.2831835631169063e-05, 0.0002617124176390981, 0.005126690399255341, 1.1138510687162772e-32, 1.2576123374031478e-20, 0.0034712621908253257, 5.898570702919516e-13, 0.00019929833569517613, 0.230721042831232, 6.459916873600243e-05, 0.000324437899388076, 0.00032249602403284995, 0.0013884771755842307, 0.015295441091716645, 0.0042178156235445925, 0.002848645443007134, 0.0006399238919862657, 0.1020074077224153, 0.0018373235485476612, 2.2362368029104188e-05, 3.2613232191637193e-06, 0.00016952666946950642, 0.0004720994136154678, 0.0011328994093262297, 0.00030577173341119417, 0.0011052216848055755, 0.02267725050729587, 8.770448541291863e-05, 0.05580027748563274, 0.008349409801680035, 0.004595309600660426, 3.0325072469723096e-31, 0.016348256735836685, 0.09590057083633168, 0.0006305061936605063, 0.0006696359366559505, 8.282511776625653e-08, 6.9123232805574345e-06, 0.0006734984351761765, 2.2484108097838432e-20, 2.3404650594617037e-19, 0.000786954742775728, 0.0006010798007013385, 0.00029823367331099936, 1.5051685116084493e-07, 7.165750839760056e-18, 0.0014829563243785409, 6.369139442121075e-05, 6.716711714323878e-07, 0.0005824338205370503, 0.00013559791580694582, 4.546206035702149e-08, 0.0003767812694362596, 0.004011289451249989] \n",
      "Saved model: results/lstm/cluster_0/lstm_cluster_0_round_7_kr_softmax.pt\n",
      " Processing other with 428 clients\n",
      "Sampling 64 Clients\n"
     ]
    },
    {
     "name": "stderr",
     "output_type": "stream",
     "text": [
      "Training other: 100%|██████████| 64/64 [00:35<00:00,  1.80it/s]\n"
     ]
    },
    {
     "name": "stdout",
     "output_type": "stream",
     "text": [
      "SYNC Weights:[0.005060883692906099, 0.0001374923073037732, 7.803627396120715e-09, 0.00022157445687799856, 4.300266751709894e-05, 0.0001053175572682699, 0.0028846818007209774, 6.270686872495098e-05, 1.5009965856574068e-31, 0.00028318755729102643, 3.288203731750904e-06, 1.0063593268328289e-07, 3.42859274257838e-30, 2.6924765412847217e-32, 3.3242036174927363e-31, 4.155907872348623e-09, 2.8910263077200475e-09, 0.00024243194973137407, 5.823991619462349e-32, 0.00048482702256081336, 0.0001591018766586178, 2.445669082753251e-07, 1.0607538457131207e-06, 0.0004160679037418874, 0.004780942413011694, 2.989927966144633e-06, 3.7643862871598426e-06, 0.0028149856846021643, 1.475344875849969e-05, 6.6385383831652626e-12, 0.00012608766521383209, 8.909688038134732e-07, 9.590456266595526e-05, 0.2757408154272153, 3.3409186362219386e-06, 6.979972497087922e-32, 6.125783983597189e-09, 0.0009722345357552752, 0.00022715088990389313, 0.0001001150247515803, 1.410977086519944e-05, 0.001089610255924858, 1.9587400594813283e-05, 2.2553458627817966e-08, 0.05795269734717681, 2.053844944488739e-11, 0.0054992409295370045, 2.893125475676869e-06, 0.6257859138710566, 4.242376292392491e-32, 4.571808089201298e-07, 4.4145278099760036e-05, 7.09713983997545e-06, 4.181553074105516e-05, 8.253396977064196e-31, 2.761026544206128e-05, 1.7634924126598085e-05, 2.606679076766285e-32, 2.992970434068172e-07, 0.014503750779017372, 2.007868930793525e-11, 7.81928698723016e-07, 5.347661338332761e-47, 2.359465339390513e-06] \n",
      "Saved model: results/lstm/other/lstm_other_round_7_kr_softmax.pt\n",
      " Processing cluster_1 with 269 clients\n",
      "Sampling 40 Clients\n"
     ]
    },
    {
     "name": "stderr",
     "output_type": "stream",
     "text": [
      "Training cluster_1: 100%|██████████| 40/40 [00:22<00:00,  1.79it/s]\n"
     ]
    },
    {
     "name": "stdout",
     "output_type": "stream",
     "text": [
      "SYNC Weights:[2.5052200370639264e-17, 1.061387143129635e-08, 6.906859036982295e-08, 3.1351238827213072e-12, 0.007650743774675685, 3.6800529613229975e-81, 8.918021490007683e-05, 1.0092204793629996e-06, 0.006937905553693358, 0.051111941922346686, 8.056105700924784e-21, 4.784887091598314e-06, 2.7717949574788485e-07, 5.130382371356757e-86, 1.6657022611894454e-12, 7.208078530488915e-06, 6.5697988634398095e-18, 2.7136546316682113e-25, 1.9740217001756037e-80, 0.0030141692453536056, 1.6030277571270536e-08, 0.10440058899103304, 3.631291790196999e-24, 0.6174975743582723, 0.000956796798836888, 1.856300292023159e-08, 6.214811259978304e-08, 2.9908231719430085e-83, 1.3654427971736866e-27, 8.006867387696339e-06, 5.2584049781576063e-11, 1.0907280308853096e-28, 2.0434688690682514e-14, 8.219662013205203e-05, 1.0246732498088148e-12, 1.2904620216601005e-15, 2.602224161259283e-09, 0.004920813859659614, 0.20331661716862565, 9.714741213887496e-25] \n",
      "Saved model: results/lstm/cluster_1/lstm_cluster_1_round_7_kr_softmax.pt\n",
      " Processing cluster_2 with 179 clients\n",
      "Sampling 26 Clients\n"
     ]
    },
    {
     "name": "stderr",
     "output_type": "stream",
     "text": [
      "Training cluster_2: 100%|██████████| 26/26 [00:14<00:00,  1.74it/s]\n"
     ]
    },
    {
     "name": "stdout",
     "output_type": "stream",
     "text": [
      "SYNC Weights:[2.1568958829639094e-12, 0.00010263820018071756, 2.2758790151124487e-14, 5.871687502450464e-33, 5.606464937752124e-16, 0.05751500462087854, 5.1157202248705035e-27, 2.4253538093719135e-08, 1.9273613656936566e-99, 4.4388490449756685e-15, 7.008585120473374e-27, 9.623802281335527e-15, 0.9423750712706991, 2.2795884639425354e-19, 4.5072181492406475e-06, 1.575488340996992e-30, 6.476573931400027e-22, 1.969441250199815e-06, 6.199631508029903e-12, 3.4293357249168035e-08, 7.412360859884206e-07, 5.027121597140955e-154, 1.6370218357637444e-17, 1.3713639454238843e-11, 2.531904641791851e-13, 1.9749367918663673e-11] \n",
      "Saved model: results/lstm/cluster_2/lstm_cluster_2_round_7_kr_softmax.pt\n",
      "\\Round 8/10\n",
      " Processing cluster_0 with 537 clients\n",
      "Sampling 80 Clients\n"
     ]
    },
    {
     "name": "stderr",
     "output_type": "stream",
     "text": [
      "Training cluster_0: 100%|██████████| 80/80 [00:45<00:00,  1.77it/s]\n"
     ]
    },
    {
     "name": "stdout",
     "output_type": "stream",
     "text": [
      "SYNC Weights:[0.016611880377012698, 0.024368370411327386, 0.005341678154601642, 0.007426166550203579, 0.004341023407459949, 1.3288814342350514e-14, 0.0024598616922161705, 0.03471449991613396, 0.00855302065404911, 0.045799585385125074, 2.39961475315535e-16, 0.016780003894086952, 2.302474851447641e-15, 0.0018223337462139808, 0.11263435563937278, 0.01660943047729659, 0.008017761706817613, 0.002253306046494921, 0.014132381340825248, 0.005301163617969944, 0.007655220564283469, 0.0015892485550945666, 0.009834313513750595, 0.0066050140054733815, 0.02570202065047415, 0.0074507934501430746, 0.007418451529133029, 0.002816281693540217, 0.016348335195487562, 2.2370927684731705e-09, 1.955590963882338e-05, 0.009501634843530813, 0.18548618189355537, 0.01621542303522637, 0.0038420685158683156, 0.0026538281052469787, 0.004744301132354823, 0.029430149506333908, 0.0030002087838323184, 0.006090752389267083, 0.01064363752627506, 0.015876666146778275, 3.316852036080745e-14, 0.01689196822294837, 0.0113612679963943, 0.01679743529553419, 0.013152571304615907, 0.00481361026806371, 6.131385074273776e-22, 8.842982267560299e-06, 0.006116508273132341, 0.0029314847859061273, 0.007392027933478432, 1.3909235616697963e-06, 3.0905938105957447e-13, 4.3183442795787474e-10, 7.657732605539273e-08, 0.002473279183092187, 0.028153598060901345, 0.004319305091741796, 0.025817920525751874, 6.604174180221196e-27, 2.1811183948705287e-14, 0.00036743287945600385, 0.00144065710313398, 8.964524156357702e-06, 5.048111737182731e-06, 0.002115511710044035, 6.887405136010768e-06, 1.2795016021745402e-22, 0.013883478048771, 0.0033773924191087498, 0.09042650568988463, 0.011738317999064812, 4.83835582323601e-06, 0.010056147562662342, 0.017231182971328494, 0.0046956297430872105, 0.0010000175482580967, 0.0033197860169673597] \n",
      "Saved model: results/lstm/cluster_0/lstm_cluster_0_round_8_kr_softmax.pt\n",
      " Processing other with 428 clients\n",
      "Sampling 64 Clients\n"
     ]
    },
    {
     "name": "stderr",
     "output_type": "stream",
     "text": [
      "Training other: 100%|██████████| 64/64 [00:36<00:00,  1.77it/s]\n"
     ]
    },
    {
     "name": "stdout",
     "output_type": "stream",
     "text": [
      "SYNC Weights:[5.008463939445574e-12, 2.2819168510792586e-05, 4.51939847696882e-08, 5.303753015490686e-13, 1.973358311299363e-08, 1.7108004540183435e-27, 0.967127935726467, 3.759780818780788e-07, 9.871835470607552e-12, 1.2700704060402555e-07, 1.7000868271786296e-57, 7.660925689428657e-06, 8.739024292012417e-11, 3.18694306835852e-06, 1.6807688114945422e-38, 2.825257985735287e-08, 7.494521081538833e-06, 2.3345157470647776e-06, 2.780995495185384e-07, 2.160686911079108e-09, 6.787227489814415e-13, 8.926110093948656e-09, 3.3338010240551947e-13, 3.6977389333511486e-12, 9.154529263091948e-06, 2.4019329942139667e-12, 4.034327290644097e-06, 1.6762886665617928e-05, 0.006782798494664997, 3.61647797354832e-07, 1.3055315161964101e-11, 6.690958519914645e-07, 9.649936419404977e-07, 4.5227429070265856e-10, 1.1222273648435294e-38, 2.0850201788967607e-08, 6.251788927259074e-05, 3.517069031616266e-05, 4.5957251305355175e-05, 9.817777002016424e-07, 1.4270294908197059e-07, 5.682519056605542e-38, 6.472613886631992e-07, 1.556517682017847e-06, 9.303510509246545e-10, 1.2217612293925375e-16, 7.564748720021876e-14, 0.0009713141268372245, 1.0139076225380014e-05, 8.629107651079971e-09, 5.801090085868469e-39, 0.00014320788758343618, 2.9529260630673184e-37, 3.650231436431548e-08, 3.246742033144291e-13, 5.082096728724481e-05, 1.2297586732116009e-06, 0.0024806974653709332, 0.00439785838359186, 2.97034022867622e-39, 0.017772901927204578, 1.1976813743881113e-12, 3.708033562616049e-05, 6.356935347557167e-07] \n",
      "Saved model: results/lstm/other/lstm_other_round_8_kr_softmax.pt\n",
      " Processing cluster_1 with 269 clients\n",
      "Sampling 40 Clients\n"
     ]
    },
    {
     "name": "stderr",
     "output_type": "stream",
     "text": [
      "Training cluster_1: 100%|██████████| 40/40 [00:22<00:00,  1.77it/s]\n"
     ]
    },
    {
     "name": "stdout",
     "output_type": "stream",
     "text": [
      "SYNC Weights:[3.195274495911216e-05, 8.723189100780166e-21, 2.9534364994723467e-78, 7.80410282561887e-06, 3.3139043065386154e-06, 5.825287466835354e-08, 1.6118062279943989e-09, 6.378871700648453e-25, 5.403420704455201e-10, 1.725992100497095e-08, 0.0016525461844197884, 4.3799278680071553e-10, 1.3438010175834255e-08, 1.837993767957753e-06, 7.267457956116484e-05, 2.5079935005704736e-12, 8.197693256249265e-77, 8.36375684749332e-15, 0.9975914737428958, 1.1946371228491082e-05, 6.5435262161975924e-24, 1.1550862084367283e-77, 1.2180841017105487e-07, 1.3273936893112493e-06, 1.5850283212085588e-07, 5.115336894180848e-75, 1.7627124167374055e-09, 2.067220263062018e-07, 2.491538564713471e-78, 6.03741822435467e-15, 2.7256793547368355e-17, 1.9206220946589213e-11, 3.0736349909670072e-19, 1.3890056162092808e-08, 5.097607720097095e-10, 3.701786262526368e-26, 0.0006228098217374903, 1.7084136367457942e-06, 1.2583800252366494e-11, 3.214549483190457e-29] \n",
      "Saved model: results/lstm/cluster_1/lstm_cluster_1_round_8_kr_softmax.pt\n",
      " Processing cluster_2 with 179 clients\n",
      "Sampling 26 Clients\n"
     ]
    },
    {
     "name": "stderr",
     "output_type": "stream",
     "text": [
      "Training cluster_2: 100%|██████████| 26/26 [00:14<00:00,  1.75it/s]\n"
     ]
    },
    {
     "name": "stdout",
     "output_type": "stream",
     "text": [
      "SYNC Weights:[6.93565555192306e-08, 0.01221043889015529, 1.246682178949344e-19, 5.237276648885346e-06, 0.00023700654291580685, 3.2783375757276033e-94, 6.3014582962976025e-06, 1.8890833789303503e-10, 7.890185328883348e-99, 1.4500139247231725e-111, 1.308168309227263e-05, 2.0681033929659235e-06, 0.9860219307380057, 4.503782861929672e-24, 7.834135528031235e-07, 6.071680254318409e-18, 1.5278034516400623e-16, 2.0438179257347118e-05, 0.0007105248817240423, 3.0063850738374075e-16, 7.84264518236532e-09, 2.629461061590668e-06, 0.0007412805326138749, 7.28225872451039e-09, 4.029567859543332e-23, 2.818430869579397e-05] \n",
      "Saved model: results/lstm/cluster_2/lstm_cluster_2_round_8_kr_softmax.pt\n",
      "\\Round 9/10\n",
      " Processing cluster_0 with 537 clients\n",
      "Sampling 80 Clients\n"
     ]
    },
    {
     "name": "stderr",
     "output_type": "stream",
     "text": [
      "Training cluster_0: 100%|██████████| 80/80 [00:45<00:00,  1.75it/s]\n"
     ]
    },
    {
     "name": "stdout",
     "output_type": "stream",
     "text": [
      "SYNC Weights:[0.013621177709727804, 0.004015687038174605, 0.0058880575041509176, 0.009754981308223781, 2.467046115755045e-19, 0.005195444859582562, 0.005881712920651324, 0.005208134753496774, 3.5675909857473794e-13, 0.006975413363503625, 0.004172405534398884, 0.022111379908270234, 0.011231233006377603, 3.414708501998173e-05, 0.010069437570829674, 0.017571818651420424, 0.0019076867864954237, 0.00015100229332592338, 0.001284593872904362, 0.014624465160410978, 4.1090364218253296e-13, 0.061658207371769004, 4.2452141281323784e-05, 0.0076209714981661705, 0.01062329576511972, 2.132942793331679e-22, 0.02425186048162359, 1.593644259813453e-26, 0.001743539859198285, 2.333821661800738e-06, 0.010120988702424324, 0.02957867736089029, 3.635266829122807e-05, 0.021405920411157475, 0.06182279341389867, 0.005184853859311147, 0.015835593431822594, 0.011689879736563793, 0.005081737276684566, 0.0443209453761858, 5.672236430109342e-10, 0.007094475462397839, 0.03250910764391155, 0.005542994788389534, 2.480129892987892e-05, 0.013014960733479275, 0.0047640446896455215, 0.053931393346617534, 0.006284317831435621, 0.009838388019891954, 0.05467382328902408, 0.018536139853288558, 0.0019415401590684896, 0.036741068589142195, 7.951178719003722e-10, 0.010753440077623326, 0.015411742079884938, 0.004506731578570408, 0.0037498040021560117, 0.012010873560282598, 9.465188478929568e-05, 0.011363783375938772, 0.02210447488246405, 0.000891182188822983, 0.035899376463652356, 0.012989262377434583, 5.802083316968171e-12, 0.0018030985843842662, 0.02209026147039593, 2.0072537019230148e-05, 0.004927024830876532, 0.010352235107199936, 0.007827098608803089, 1.4863152881487587e-13, 0.014205026206250995, 0.025558374657678785, 0.046562713271392386, 0.005318899654516361, 0.021650089815453435, 0.01429354258888526] \n",
      "Saved model: results/lstm/cluster_0/lstm_cluster_0_round_9_kr_softmax.pt\n",
      " Processing other with 428 clients\n",
      "Sampling 64 Clients\n"
     ]
    },
    {
     "name": "stderr",
     "output_type": "stream",
     "text": [
      "Training other: 100%|██████████| 64/64 [00:36<00:00,  1.76it/s]\n"
     ]
    },
    {
     "name": "stdout",
     "output_type": "stream",
     "text": [
      "SYNC Weights:[8.473434355700175e-06, 8.676656137154619e-05, 1.29712524206742e-15, 2.2096081374631154e-06, 0.00045636613595436505, 0.00021577482978535846, 2.3094377173842925e-50, 0.009340466459546204, 1.373436456659453e-37, 2.3113072410489552e-06, 4.888410768792528e-05, 5.151329198163779e-16, 0.00010200008244570754, 1.7143339780331747e-10, 3.722652495927701e-07, 0.00013829693929527745, 0.15979301477387986, 0.8194073790453963, 1.0701531671154802e-06, 0.0016371275370638076, 4.4668597423786323e-10, 0.0007476958697974121, 2.0970997074488587e-07, 9.517807526023528e-10, 2.463410443856216e-16, 2.188452948202835e-06, 2.6264243961194444e-57, 1.0561504957368554e-07, 7.654064554413183e-54, 2.810350162549932e-17, 0.00010350361144518877, 0.0002517061553085173, 5.1176471430520814e-14, 0.00024769143626397533, 2.7269578542586526e-06, 5.682303616444689e-06, 8.334561237101274e-05, 1.7196462479509712e-05, 2.2252789286380928e-07, 1.6283543968540276e-05, 6.755547594371882e-08, 2.0213756928787543e-05, 4.4737301010953334e-10, 9.954831253314091e-36, 2.929551832161494e-06, 2.151621476555184e-09, 1.7000632920167207e-05, 8.931987863787865e-06, 1.2422033899855398e-08, 8.064695957200651e-07, 6.009403917868764e-08, 2.894911767610698e-07, 8.474027364149338e-05, 1.380581561906962e-06, 0.007099996247393954, 8.732025177548415e-63, 5.22231071952069e-10, 1.4446954798528219e-05, 1.6344474286934298e-07, 2.611001881153823e-05, 1.9499449411594964e-08, 3.7466329377234176e-06, 6.666925652541111e-18, 5.20116764932647e-52] \n",
      "Saved model: results/lstm/other/lstm_other_round_9_kr_softmax.pt\n",
      " Processing cluster_1 with 269 clients\n",
      "Sampling 40 Clients\n"
     ]
    },
    {
     "name": "stderr",
     "output_type": "stream",
     "text": [
      "Training cluster_1: 100%|██████████| 40/40 [00:22<00:00,  1.82it/s]\n"
     ]
    },
    {
     "name": "stdout",
     "output_type": "stream",
     "text": [
      "SYNC Weights:[4.888099560117288e-07, 2.4071409236225175e-60, 3.857719530956227e-06, 0.001513569703142514, 0.0004848020833675403, 0.0004024024930414452, 0.14615883790210718, 0.011583556912154127, 4.074033245058592e-06, 5.492799275904831e-07, 0.01525454192140117, 0.00040637005939640026, 6.1020093172888555e-05, 0.00122322990491992, 4.164761952829392e-06, 4.724408347784671e-39, 0.0001086752823017792, 7.159344708195539e-07, 1.7764915843102227e-05, 2.933252408133336e-42, 0.350493456005962, 2.2379696501455203e-07, 1.5110638803965057e-07, 0.006700653427460127, 0.0064513312791456895, 0.42445936939445356, 1.1415941542246367e-38, 0.0002908392733234397, 7.10465409338931e-39, 5.460629358988012e-07, 6.0501850541981585e-43, 4.0876546547109765e-10, 0.001035960584098659, 7.777094534364813e-05, 0.013908692246377639, 0.00036375065121190995, 0.013166974002655239, 0.0013010492536457802, 0.004361787108992766, 0.00015881839775029014] \n",
      "Saved model: results/lstm/cluster_1/lstm_cluster_1_round_9_kr_softmax.pt\n",
      " Processing cluster_2 with 179 clients\n",
      "Sampling 26 Clients\n"
     ]
    },
    {
     "name": "stderr",
     "output_type": "stream",
     "text": [
      "Training cluster_2: 100%|██████████| 26/26 [00:14<00:00,  1.74it/s]\n"
     ]
    },
    {
     "name": "stdout",
     "output_type": "stream",
     "text": [
      "SYNC Weights:[4.0677466060708515e-125, 5.115289765407017e-10, 9.262458744340682e-11, 7.032283526720739e-06, 0.011155198875005722, 3.013813284803422e-15, 5.330874481483305e-107, 5.035403264972434e-12, 6.661934594873291e-12, 1.697901018293062e-17, 9.508960692288732e-10, 1.6922104615696288e-16, 7.777610403788251e-26, 1.8036334359544397e-08, 1.870759235379698e-14, 2.1079141976029895e-11, 4.2134039238085616e-16, 4.178122701700871e-15, 4.538199253938079e-30, 0.0018944685556576027, 5.9729505557886235e-05, 1.034608293660046e-07, 1.7116186761131157e-05, 0.9868663211203216, 2.8379495920614146e-10, 2.3569495721171225e-10] \n",
      "Saved model: results/lstm/cluster_2/lstm_cluster_2_round_9_kr_softmax.pt\n",
      "\\Round 10/10\n",
      " Processing cluster_0 with 537 clients\n",
      "Sampling 80 Clients\n"
     ]
    },
    {
     "name": "stderr",
     "output_type": "stream",
     "text": [
      "Training cluster_0: 100%|██████████| 80/80 [00:44<00:00,  1.79it/s]\n"
     ]
    },
    {
     "name": "stdout",
     "output_type": "stream",
     "text": [
      "SYNC Weights:[5.973480355943771e-06, 0.00015031844508215728, 0.0026778058846916105, 3.192475739641666e-05, 0.0005457182308170886, 9.34545290334033e-14, 7.778208294737369e-06, 2.1550861150697026e-15, 3.661272680817713e-14, 0.13598729265158996, 0.0003871532412889299, 0.00020940766196273254, 3.755315298966581e-43, 0.6780821857916417, 1.7200794303256186e-05, 0.005282069554005182, 2.1972564604386268e-14, 0.0008749337109128817, 0.005144747566968362, 0.0008979231125040572, 1.8113889125311773e-06, 1.823722718377644e-13, 2.3830948976395506e-05, 0.00027731033127295846, 1.0670683407511959e-26, 3.145740078111566e-10, 0.11461505780026136, 4.859877037861296e-05, 1.3677208957201262e-06, 3.000704667994581e-07, 1.70631896752154e-05, 6.510286915044798e-06, 0.0005558745484216481, 4.0097463701504655e-44, 1.1083969725355976e-06, 0.00014228522777276815, 2.5736409654637656e-29, 3.6726322375349e-05, 2.051508025356287e-14, 8.927515211827971e-05, 0.0003647559711928008, 3.136532632334708e-05, 0.0066039997537525276, 1.805350026255902e-12, 1.776399302093554e-05, 0.021837772772221164, 8.299750536317886e-46, 0.0004175507652851438, 5.084484632082813e-05, 1.0024896922208564e-08, 2.6054257452586726e-17, 3.3165236554068575e-45, 0.0005142494110913591, 2.3793784407225265e-47, 0.007795292433256157, 0.00602083734887187, 6.096596957791214e-05, 1.6649194454671227e-44, 0.00023318195726362815, 2.7595809476066942e-12, 2.627868129497072e-06, 0.0005751811010755785, 7.652509458432667e-30, 2.768089040442156e-23, 7.577057251046713e-14, 2.928833112291498e-06, 4.8503351205928175e-06, 1.778564586967439e-05, 0.0005085923727114488, 3.28412995393831e-13, 2.9424977264693697e-05, 1.6922124059685364e-13, 0.008267257958135883, 2.9442571784810285e-07, 0.0001392745709047979, 3.1932606402012715e-53, 4.010564231816425e-08, 0.00011732148981311926, 1.1382971259613076e-05, 0.000254886424046809] \n",
      "Saved model: results/lstm/cluster_0/lstm_cluster_0_round_10_kr_softmax.pt\n",
      " Processing other with 428 clients\n",
      "Sampling 64 Clients\n"
     ]
    },
    {
     "name": "stderr",
     "output_type": "stream",
     "text": [
      "Training other: 100%|██████████| 64/64 [00:35<00:00,  1.81it/s]\n"
     ]
    },
    {
     "name": "stdout",
     "output_type": "stream",
     "text": [
      "SYNC Weights:[0.02178826218753952, 0.003757288984583561, 0.0012243695974767032, 0.005104270517595527, 0.024334301928753122, 5.345340115074726e-19, 9.444956325981803e-20, 0.0013851473818444042, 0.029316981014691292, 0.024137492648897883, 0.004864409516751303, 0.007009396236391787, 0.2521948739759493, 0.03986003620510808, 0.0009484183989203632, 0.031698254651339866, 0.000515557003429648, 0.03130795529904084, 5.6238881580900185e-05, 0.0030665298669414593, 6.127356912817984e-11, 6.16919017315745e-20, 0.0020559583694449604, 0.006243701869382366, 0.005860603369028622, 0.00040248671196896774, 2.087932531295079e-20, 0.0017770319449942023, 2.647332200768532e-39, 3.970687714529148e-20, 0.08162954615618104, 0.03601177973961209, 0.0035843497040555254, 4.437029694545994e-06, 0.0029727508200760207, 4.167479502006313e-06, 0.0007924152719696068, 0.008509944677361912, 0.012161014017761335, 0.020617608129683714, 0.003294278238185578, 0.024682768375188686, 0.00017463735151743783, 0.030514994198864165, 1.1345448677282415e-19, 2.1447158651491125e-16, 0.052998200551852545, 0.002184140056855309, 0.011062672711734228, 0.016168959228382122, 0.0008697839998920582, 0.010685889919301165, 2.9662388276625956e-20, 0.05375798933849541, 5.95041076511611e-20, 0.01140857023643377, 8.46725318080849e-19, 0.0036026181808680776, 0.000674087448073239, 0.010033065485995031, 0.04173876918615284, 0.016565762630504962, 0.043087188730212944, 0.0012980419607153467] \n",
      "Saved model: results/lstm/other/lstm_other_round_10_kr_softmax.pt\n",
      " Processing cluster_1 with 269 clients\n",
      "Sampling 40 Clients\n"
     ]
    },
    {
     "name": "stderr",
     "output_type": "stream",
     "text": [
      "Training cluster_1: 100%|██████████| 40/40 [00:22<00:00,  1.79it/s]\n"
     ]
    },
    {
     "name": "stdout",
     "output_type": "stream",
     "text": [
      "SYNC Weights:[0.0025393372129134135, 0.037373608521658844, 0.09409844082003893, 0.024157210916490847, 3.3159446116194976e-05, 0.04847026032039923, 0.00011943848290299188, 0.008740149186717028, 2.0856590984788485e-13, 0.01169672649040939, 0.10472930009963662, 0.041924272802764395, 0.027394525319125264, 0.0010855467707588094, 0.05837682538920195, 0.013261315796874706, 0.004281139347446245, 1.8264591959873212e-13, 0.0011102567574888267, 0.011524046468314796, 0.0405108405931759, 0.05925995777687621, 0.06802966862962889, 0.15045251026172762, 4.946057833836151e-05, 0.02282913161304006, 0.034472663295572525, 0.010201469199063243, 1.76313321843493e-31, 0.021501542415766038, 0.02227175556530031, 0.0003877616986971676, 0.007708005190444674, 6.154154251992839e-13, 0.015586701364114938, 0.020434499574071636, 0.007621985339266714, 0.022692777108538353, 0.005073708141366304, 2.2077603873916182e-13] \n",
      "Saved model: results/lstm/cluster_1/lstm_cluster_1_round_10_kr_softmax.pt\n",
      " Processing cluster_2 with 179 clients\n",
      "Sampling 26 Clients\n"
     ]
    },
    {
     "name": "stderr",
     "output_type": "stream",
     "text": [
      "Training cluster_2: 100%|██████████| 26/26 [00:14<00:00,  1.82it/s]\n"
     ]
    },
    {
     "name": "stdout",
     "output_type": "stream",
     "text": [
      "SYNC Weights:[0.04666902959024838, 5.5609192938464225e-08, 0.0029476566879870973, 0.004549118925153787, 4.777596244298421e-115, 3.2582700548404402e-15, 1.1681052440556021e-113, 8.687521611297805e-11, 0.024328545209645325, 7.836194822794877e-09, 0.19799669940414433, 0.002400722301660178, 1.993341719978109e-05, 1.5763565653249302e-116, 0.7210770065395364, 4.9967934340116935e-09, 2.354608630349149e-08, 8.673443093076088e-06, 1.405602834189702e-06, 1.2585116106240803e-31, 1.7664834721666347e-17, 1.7106323670236544e-56, 1.4920458103751305e-18, 1.1087222568733565e-06, 8.703245251693471e-10, 1.609125807160605e-22] \n",
      "Saved model: results/lstm/cluster_2/lstm_cluster_2_round_10_kr_softmax.pt\n",
      "Starting experiments for model: gru\n",
      "\\Round 1/10\n",
      " Processing cluster_0 with 537 clients\n",
      "Sampling 80 Clients\n"
     ]
    },
    {
     "name": "stderr",
     "output_type": "stream",
     "text": [
      "Training cluster_0: 100%|██████████| 80/80 [00:44<00:00,  1.79it/s]\n"
     ]
    },
    {
     "name": "stdout",
     "output_type": "stream",
     "text": [
      "SYNC Weights:[0.002683621132746339, 0.011727371253073215, 0.00015590866678394377, 0.010634733363986015, 0.01628786139190197, 0.004258886910974979, 0.019691186025738716, 0.01780819706618786, 0.0054673380218446255, 0.0038330242969095707, 0.017933828756213188, 0.01981239765882492, 0.014227560721337795, 0.011424439959228039, 0.016962897032499313, 0.0005141384899616241, 0.017784619703888893, 0.018138093873858452, 0.00801811832934618, 0.0117387929931283, 0.016645800322294235, 0.0006342804408632219, 0.02120620757341385, 0.016305387020111084, 0.01929003931581974, 0.016629774123430252, 0.0029192573856562376, 0.013498934917151928, 0.013074798509478569, 0.0005469409516081214, 0.016153840348124504, 0.015452997758984566, 0.0016441202023997903, 0.01965682953596115, 0.01588016003370285, 0.00032673130044713616, 0.015269708819687366, 0.020906895399093628, 0.004182085860520601, 0.017924346029758453, 0.012595517560839653, 0.01645432598888874, 0.007253305986523628, 0.011369077488780022, 0.017437003552913666, 0.003986868541687727, 0.0005738475592806935, 0.02048252336680889, 0.01930440403521061, 0.017364313825964928, 0.013707633130252361, 0.01977582275867462, 0.013542435131967068, 0.01650954596698284, 0.018741736188530922, 0.015872258692979813, 0.006111653055995703, 0.005523600149899721, 0.011868568137288094, 0.014056318439543247, 0.004232885781675577, 0.018729165196418762, 0.019411936402320862, 0.0020141652785241604, 0.0036252846475690603, 0.01839926280081272, 0.011208764277398586, 0.008852671831846237, 0.016145016998052597, 0.013895147480070591, 0.010625498369336128, 0.015031684190034866, 0.014807622879743576, 0.018736274912953377, 0.01842825673520565, 0.012340039014816284, 0.011448308825492859, 0.008290974423289299, 0.01673175022006035, 0.017262358218431473] \n",
      "Saved model: results/gru/cluster_0/gru_cluster_0_round_1_kr_softmax.pt\n",
      " Processing other with 428 clients\n",
      "Sampling 64 Clients\n"
     ]
    },
    {
     "name": "stderr",
     "output_type": "stream",
     "text": [
      "Training other: 100%|██████████| 64/64 [00:36<00:00,  1.77it/s]\n"
     ]
    },
    {
     "name": "stdout",
     "output_type": "stream",
     "text": [
      "SYNC Weights:[0.00028073336579836905, 0.04488934576511383, 0.002305094851180911, 0.011423787102103233, 0.0004983631079085171, 0.0016949789132922888, 0.06132039427757263, 0.00851939246058464, 0.024281730875372887, 0.009810494258999825, 0.03594787046313286, 8.699877980689052e-06, 0.015670686960220337, 8.394403749889534e-08, 0.0006268839933909476, 0.03193091228604317, 0.00013830514217261225, 0.02843821793794632, 0.06065622717142105, 0.015003606677055359, 4.276940046565869e-07, 0.01470743678510189, 0.01457072515040636, 0.00835871696472168, 0.005851206369698048, 0.0019158594077453017, 0.004028830211609602, 0.00015720166265964508, 4.798795805172063e-10, 0.03622695803642273, 0.00030936457915231586, 0.007097073830664158, 0.016513202339410782, 0.011606020852923393, 0.02963859587907791, 0.00138669996522367, 0.04801899939775467, 0.0006271800375543535, 0.003485453315079212, 0.0008954096119850874, 0.06256011873483658, 0.00355886435136199, 0.010213581845164299, 0.002321371342986822, 4.737059134640731e-05, 0.008217833004891872, 0.05686493217945099, 0.00033878558315336704, 3.6322701362223597e-06, 0.01141309179365635, 0.0016023428179323673, 0.0007921662763692439, 0.0004588227311614901, 0.00018960764282383025, 0.001759978011250496, 0.0009110263781622052, 0.052530307322740555, 0.03853293135762215, 0.006649218033999205, 0.029985336586833, 0.009844020009040833, 0.05700957402586937, 0.06408248841762543, 0.021271420642733574] \n",
      "Saved model: results/gru/other/gru_other_round_1_kr_softmax.pt\n",
      " Processing cluster_1 with 269 clients\n",
      "Sampling 40 Clients\n"
     ]
    },
    {
     "name": "stderr",
     "output_type": "stream",
     "text": [
      "Training cluster_1: 100%|██████████| 40/40 [00:22<00:00,  1.78it/s]\n"
     ]
    },
    {
     "name": "stdout",
     "output_type": "stream",
     "text": [
      "SYNC Weights:[0.0269471388310194, 4.495519897318445e-05, 0.027477798983454704, 4.2575105908326805e-05, 0.02229860983788967, 7.568082174402163e-14, 0.11056485027074814, 0.038620393723249435, 0.03794538974761963, 0.0817495808005333, 0.019589370116591454, 0.037730541080236435, 0.07435105741024017, 3.6398325846676016e-06, 0.00038173978100530803, 4.141446879657451e-06, 1.6711157968529733e-06, 0.03170781210064888, 5.2912140814653785e-12, 0.0006253210594877601, 0.010718279518187046, 0.03567986190319061, 0.001945348340086639, 0.0012632736470550299, 0.03375817835330963, 0.0004542533424682915, 0.037961695343256, 0.0030298882629722357, 6.22753068455495e-05, 0.05683276057243347, 0.003920135088264942, 0.11504437774419785, 1.5263680325006135e-05, 0.0773342102766037, 1.6855382867220214e-08, 0.0008850109879858792, 0.00033955814433284104, 1.3256401416583685e-06, 1.6918766050366685e-05, 0.11065077036619186] \n",
      "Saved model: results/gru/cluster_1/gru_cluster_1_round_1_kr_softmax.pt\n",
      " Processing cluster_2 with 179 clients\n",
      "Sampling 26 Clients\n"
     ]
    },
    {
     "name": "stderr",
     "output_type": "stream",
     "text": [
      "Training cluster_2: 100%|██████████| 26/26 [00:14<00:00,  1.76it/s]\n"
     ]
    },
    {
     "name": "stdout",
     "output_type": "stream",
     "text": [
      "SYNC Weights:[0.004565942566841841, 0.018346799537539482, 0.08525820076465607, 0.06123346462845802, 0.05877626687288284, 5.313086148817092e-05, 0.05168166756629944, 0.09052948653697968, 0.02536661922931671, 0.05335092172026634, 0.07383409142494202, 0.06162283197045326, 8.824986252875533e-06, 0.019436180591583252, 1.114842007154948e-06, 0.029312025755643845, 0.02583831362426281, 0.0118172075599432, 0.01287560723721981, 0.083730548620224, 0.09241313487291336, 0.027584128081798553, 0.051568470895290375, 0.010598644614219666, 0.008118454366922379, 0.042077820748090744] \n",
      "Saved model: results/gru/cluster_2/gru_cluster_2_round_1_kr_softmax.pt\n",
      "\\Round 2/10\n",
      " Processing cluster_0 with 537 clients\n",
      "Sampling 80 Clients\n"
     ]
    },
    {
     "name": "stderr",
     "output_type": "stream",
     "text": [
      "Training cluster_0: 100%|██████████| 80/80 [00:44<00:00,  1.80it/s]\n"
     ]
    },
    {
     "name": "stdout",
     "output_type": "stream",
     "text": [
      "SYNC Weights:[0.007278527373185614, 0.0014801968687906699, 0.007153661552588102, 0.02949664180863888, 0.00715435237705989, 0.0059685768118408564, 0.0069626406931789404, 2.9466685761204e-12, 0.000321769998326986, 9.04496397825198e-11, 1.9054823203264533e-07, 0.1402675168170666, 0.006100421644385305, 1.7607729824136144e-06, 0.12302224019595995, 0.046278624936341994, 2.4087071273776796e-05, 0.006635597704988479, 0.0003808411613136268, 5.494360481787249e-05, 0.0037016171808794004, 0.0037142241359581422, 0.0009815082747861418, 1.4704171760428774e-07, 3.228774671716623e-05, 3.8628942439130574e-07, 1.476046534709786e-07, 0.0005688866425307193, 0.001258239724403923, 0.004214164841701393, 0.0017316629550811068, 1.1531107462341925e-07, 0.017822529240205612, 7.615974390192641e-10, 3.900904187122997e-08, 0.00010251344893804443, 7.83043056202564e-09, 0.013733409010277958, 0.0007905769401012787, 0.04556705121065649, 0.037556073070975436, 0.014019588609739397, 0.03450411009562658, 0.07184960062076826, 1.3883807054497973e-06, 0.00015329690376754122, 0.08198880938919936, 0.049993609440420084, 4.110332324487701e-05, 9.70089197539624e-07, 4.562668459541915e-17, 0.0008730860689966508, 0.000595274219478446, 0.0007398533217149187, 0.03875759440103053, 0.0002924751884511599, 6.978643161953248e-06, 1.701462905057388e-06, 0.00016567271427598716, 4.363357503961348e-09, 0.0034642102501370093, 3.0179120515650944e-07, 1.8107240774012303e-12, 0.08563968188143604, 0.05206793311202959, 0.00015157117203000274, 4.284897154004803e-05, 0.00025342352199326677, 1.7061844202750883e-13, 2.5039520614375875e-12, 0.0038919609202547776, 6.287536974306071e-08, 1.482811014706957e-07, 9.155777744384369e-07, 1.308587241583185e-05, 4.206481172255896e-12, 3.438747423526483e-05, 0.03914781608695759, 0.0009483532584121768, 1.7825723908112397e-13] \n",
      "Saved model: results/gru/cluster_0/gru_cluster_0_round_2_kr_softmax.pt\n",
      " Processing other with 428 clients\n",
      "Sampling 64 Clients\n"
     ]
    },
    {
     "name": "stderr",
     "output_type": "stream",
     "text": [
      "Training other: 100%|██████████| 64/64 [00:35<00:00,  1.79it/s]\n"
     ]
    },
    {
     "name": "stdout",
     "output_type": "stream",
     "text": [
      "SYNC Weights:[3.6557628646526298e-06, 0.00045826668140973477, 0.020955441201271106, 5.939214729093841e-07, 1.7543921567648864e-06, 8.708322942924149e-11, 0.013364339403933447, 2.7027678114207745e-05, 0.233313006410183, 0.00022616422205705468, 1.4963674405443167e-06, 7.317028265799792e-07, 1.727411205948932e-05, 7.480202409962339e-11, 2.5640551248324026e-06, 0.008371802121232267, 2.904223294503723e-07, 1.5330039171049157e-11, 3.0912122555043122e-06, 6.504884275734524e-15, 5.598493245100656e-06, 1.7939830213200688e-06, 1.1216220519843896e-08, 0.08580812883256295, 5.482465005878421e-08, 1.9567825217833405e-14, 5.938218042582618e-06, 6.012591538272249e-15, 7.455186952615742e-06, 0.11559818754487168, 4.979919983643688e-06, 0.3172660524865683, 6.682611330098372e-05, 9.49162339601928e-11, 1.60746592790057e-06, 1.711154084932069e-06, 0.00014631156056411096, 1.936871181565754e-13, 6.554927093879308e-05, 7.089667193078165e-05, 9.938294562695729e-25, 1.0340641740194616e-05, 0.14392081203678214, 0.05514696267740575, 0.0003910433619260065, 0.0011972728616372037, 4.787985334847826e-07, 4.1840862903502346e-10, 4.4704248967025426e-05, 2.2532170548975345e-10, 1.819364375788966e-08, 0.0007044047422145473, 2.2955824134549017e-06, 2.254822344117992e-05, 0.0017686613743673895, 4.3634127576162177e-08, 0.0007023348179255746, 3.0110209883812968e-05, 0.0002559089135179979, 5.01140095050431e-13, 3.4437551494973377e-06, 8.287262805693662e-09, 7.892745613085166e-11, 8.612861225898809e-10] \n",
      "Saved model: results/gru/other/gru_other_round_2_kr_softmax.pt\n",
      " Processing cluster_1 with 269 clients\n",
      "Sampling 40 Clients\n"
     ]
    },
    {
     "name": "stderr",
     "output_type": "stream",
     "text": [
      "Training cluster_1: 100%|██████████| 40/40 [00:22<00:00,  1.78it/s]\n"
     ]
    },
    {
     "name": "stdout",
     "output_type": "stream",
     "text": [
      "SYNC Weights:[0.011015876430327524, 0.00044409540591053563, 0.023773597889172025, 3.16437302781701e-06, 2.1180265498573506e-08, 1.5913583923548153e-06, 0.00046163128078076805, 0.000215835666600583, 0.012025372472962318, 0.001022801802569792, 0.005723028669516058, 0.0017908768640954832, 0.0239392769165516, 0.08849363473216376, 0.1966544336397833, 0.010451517091448112, 6.33686263626035e-05, 0.0032756846344171287, 0.19509459501848014, 0.003234985463736257, 0.0009326751099521173, 2.8066867619049504e-06, 9.367515419451759e-09, 6.435673462866579e-10, 0.06627785399602146, 2.993382432420107e-07, 0.0023435050963832894, 0.0004934861811932017, 2.0898405996113137e-09, 6.561954058380616e-08, 0.0009153307197621145, 0.0026020786376039057, 0.29188508185041384, 0.022492196887727148, 2.2053918737973995e-06, 1.4076201123857913e-19, 1.7058834813335557e-05, 0.03349723578188132, 0.0005945557990401019, 0.00025815953245090194] \n",
      "Saved model: results/gru/cluster_1/gru_cluster_1_round_2_kr_softmax.pt\n",
      " Processing cluster_2 with 179 clients\n",
      "Sampling 26 Clients\n"
     ]
    },
    {
     "name": "stderr",
     "output_type": "stream",
     "text": [
      "Training cluster_2: 100%|██████████| 26/26 [00:15<00:00,  1.73it/s]\n"
     ]
    },
    {
     "name": "stdout",
     "output_type": "stream",
     "text": [
      "SYNC Weights:[4.4799484344890234e-39, 2.81250377638278e-20, 0.003096033923964179, 1.6399037944287205e-42, 5.165834476124237e-46, 1.8371357223599978e-23, 6.377403448037562e-32, 2.2955109571402817e-23, 3.553216421306583e-59, 5.257660030572475e-32, 5.795705462118838e-56, 1.684766766555811e-06, 8.025636751314543e-26, 3.27556314762077e-23, 1.6416284302642187e-43, 3.534617217230007e-47, 1.2273900013257049e-08, 0.00045444154321253017, 8.301188059551198e-24, 4.511592428522912e-07, 3.6833592978659964e-42, 3.5851017280832894e-31, 4.193128415104086e-82, 5.793170062188548e-07, 0.9964452812250403, 1.5058264145788148e-06] \n",
      "Saved model: results/gru/cluster_2/gru_cluster_2_round_2_kr_softmax.pt\n",
      "\\Round 3/10\n",
      " Processing cluster_0 with 537 clients\n",
      "Sampling 80 Clients\n"
     ]
    },
    {
     "name": "stderr",
     "output_type": "stream",
     "text": [
      "Training cluster_0: 100%|██████████| 80/80 [00:45<00:00,  1.77it/s]\n"
     ]
    },
    {
     "name": "stdout",
     "output_type": "stream",
     "text": [
      "SYNC Weights:[0.0004570401999078807, 0.007751980732005124, 6.19015812411308e-05, 0.00847205527928081, 0.00016543034477692605, 0.0001608382890811784, 0.015968702132195405, 0.0009591093324967481, 0.004988784074897169, 0.06027922935961537, 0.03146012393495723, 0.0003605534606594469, 0.005670783293030354, 4.339206798369276e-05, 0.0002558141541360809, 0.0032497095971266124, 0.02306646702195375, 0.00022239446496679816, 0.004288911404820793, 0.023769608761475366, 0.04961203341205902, 0.007455026075145576, 0.01226651363950296, 0.03099045715252688, 0.06742654214629648, 3.3973312958294176e-05, 0.028028255993764316, 0.013885329582392377, 7.220661903501008e-05, 1.5064199665666742e-05, 0.0002735300871227731, 0.03603175961631686, 0.02042635903211092, 0.0023263520127967162, 0.0018237557456261867, 0.03360371174493134, 0.008580222689947405, 4.267834947219677e-05, 0.025282944434066413, 0.008707445923334778, 0.004867543530448676, 0.005509095159647092, 0.0003140111287047282, 0.01824647282884713, 0.038335250266211436, 1.8961228910701023e-05, 0.003961690465487693, 0.006661511568231051, 0.004464216505674492, 0.0013160014036157055, 0.01643410697955199, 1.4360263145474767e-07, 0.01681014659141184, 0.02602579745427681, 0.051252606774745066, 0.011622890307361229, 4.930444846827169e-06, 0.008988298209491692, 0.03934300432587809, 0.018842349326126204, 0.0003713259886990752, 0.020039478986668722, 0.0160348194355836, 5.563961783985155e-07, 0.022695047877690513, 0.037703833490745145, 0.010145533389540188, 0.006770472891104542, 0.000488970776600623, 0.00594076884371323, 0.00018507351086129086, 0.015480039548320055, 0.0006682384108559646, 0.0006424668938469491, 0.000997555208818304, 0.01619363178527578, 0.0027681031430952133, 0.000160795219137732, 6.523943955870876e-06, 0.03115074422726335] \n",
      "Saved model: results/gru/cluster_0/gru_cluster_0_round_3_kr_softmax.pt\n",
      " Processing other with 428 clients\n",
      "Sampling 64 Clients\n"
     ]
    },
    {
     "name": "stderr",
     "output_type": "stream",
     "text": [
      "Training other: 100%|██████████| 64/64 [00:36<00:00,  1.77it/s]\n"
     ]
    },
    {
     "name": "stdout",
     "output_type": "stream",
     "text": [
      "SYNC Weights:[9.090289687356296e-47, 0.830055647247022, 3.91439716413816e-58, 8.725600382808144e-55, 5.289241237941692e-40, 6.271893316152545e-19, 1.2719087078918381e-101, 5.508323292556449e-90, 1.5313825737276783e-71, 1.465975759189475e-72, 6.617449004265692e-36, 1.4920158357558804e-122, 5.976453715516677e-74, 4.116928422084631e-44, 4.997268309332836e-116, 3.2044339925545568e-12, 5.528712189374396e-59, 1.2381446075032748e-78, 1.0600651825767514e-112, 2.0433199982610266e-98, 2.4903760844807006e-80, 2.7359672678740208e-92, 8.334395372227471e-101, 2.9082751796878763e-08, 1.2322537049825852e-46, 3.7962644195791534e-27, 3.027216542937524e-116, 4.920023545751902e-88, 1.1591184895419703e-101, 2.2103034964976533e-45, 1.8240652443157617e-19, 2.5921075519161667e-62, 5.247707739702716e-15, 7.043251056205998e-52, 7.98742689318555e-47, 3.169113260501858e-96, 7.445390151140975e-22, 9.257169993412872e-15, 2.398915191763768e-59, 4.11198416565211e-29, 5.676741642168933e-99, 3.430523391000014e-67, 1.99308474621115e-16, 2.513292717000971e-64, 2.694757779393885e-23, 0.16994431536645074, 1.333135897184653e-43, 1.1632832232510835e-85, 2.407311089341863e-60, 7.288123678169893e-123, 4.63022663237662e-35, 8.357487424836753e-106, 5.411964688738018e-31, 1.0539692869155542e-75, 1.7788702219553897e-17, 1.7730434617334195e-101, 2.8131449070383484e-34, 5.4654438702438495e-86, 3.888693364300183e-40, 9.049577527591757e-141, 3.972613707578215e-45, 3.413764561592892e-47, 2.2065967728965664e-71, 1.791363616677552e-100] \n",
      "Saved model: results/gru/other/gru_other_round_3_kr_softmax.pt\n",
      " Processing cluster_1 with 269 clients\n",
      "Sampling 40 Clients\n"
     ]
    },
    {
     "name": "stderr",
     "output_type": "stream",
     "text": [
      "Training cluster_1: 100%|██████████| 40/40 [00:23<00:00,  1.73it/s]\n"
     ]
    },
    {
     "name": "stdout",
     "output_type": "stream",
     "text": [
      "SYNC Weights:[0.0012019112832492341, 1.9711234960501906e-07, 0.030548830853001443, 4.313802585092563e-05, 0.04613384632500786, 1.0114954498228445e-09, 1.083671408610037e-06, 0.0007996991621158866, 3.7614476825980626e-05, 0.06327839515701283, 0.16448990288399049, 0.04266808199687619, 1.7393605326068323e-13, 0.0007688048994047664, 0.06390369767130348, 0.0011489533990355798, 0.0004891312910831263, 0.011438665284472849, 0.006352203732994813, 1.0885642015838375e-10, 4.0905052853380523e-07, 0.0037933543004328853, 0.0018157158531203227, 0.03865406118979783, 2.5868962320490873e-06, 6.349756249206788e-10, 0.0055501624964461, 2.6129624375564938e-08, 0.02891962924434964, 7.785811995689891e-08, 0.06490974289511654, 0.00925090198470298, 0.11184580613489535, 0.05279109917059349, 0.04369053101105511, 0.0002141567144847596, 0.13030821941952822, 0.03850032944198652, 1.0096970010170735e-06, 0.03644801988560017] \n",
      "Saved model: results/gru/cluster_1/gru_cluster_1_round_3_kr_softmax.pt\n",
      " Processing cluster_2 with 179 clients\n",
      "Sampling 26 Clients\n"
     ]
    },
    {
     "name": "stderr",
     "output_type": "stream",
     "text": [
      "Training cluster_2: 100%|██████████| 26/26 [00:14<00:00,  1.74it/s]\n"
     ]
    },
    {
     "name": "stdout",
     "output_type": "stream",
     "text": [
      "SYNC Weights:[0.00014881045385208735, 0.019004619822791204, 5.798163999111971e-05, 0.24637176799133884, 0.02443376993914723, 0.0003767418174368562, 0.0003730093154443417, 0.03495733344198713, 0.0422202290267153, 0.0033995564706020467, 0.01227221257524394, 0.00012338256556572176, 0.0054727722463624486, 0.14057943266253098, 0.16170265915944707, 0.12915658674713149, 0.04306363724230797, 4.458840026505335e-12, 0.008541176042638389, 0.04353257308649469, 0.009315070781215466, 0.02335953323792242, 8.222549608266887e-09, 0.012705626328529788, 0.02231862923014431, 0.01651287748443315] \n",
      "Saved model: results/gru/cluster_2/gru_cluster_2_round_3_kr_softmax.pt\n",
      "\\Round 4/10\n",
      " Processing cluster_0 with 537 clients\n",
      "Sampling 80 Clients\n"
     ]
    },
    {
     "name": "stderr",
     "output_type": "stream",
     "text": [
      "Training cluster_0: 100%|██████████| 80/80 [00:45<00:00,  1.77it/s]\n"
     ]
    },
    {
     "name": "stdout",
     "output_type": "stream",
     "text": [
      "SYNC Weights:[0.001217225419175017, 0.0012476902934572202, 0.015797138042275914, 0.04682666694890657, 2.735769548521661e-06, 0.0008167891639135081, 0.00046686682783647214, 0.0002856487140072462, 3.0903360489976855e-11, 0.001188986881654639, 2.9853355593011736e-12, 0.008105785634932906, 1.1049968029967286e-08, 0.01738447283006299, 0.10124448680990311, 4.5540864094134e-06, 3.73310958261008e-05, 2.2411815496623446e-05, 0.0001858479868731663, 0.0004200783046497084, 2.427531805774378e-06, 2.8498775636448323e-06, 1.171720982016557e-08, 0.0017392392108401403, 0.0002984724586720378, 0.06968682118126124, 0.0032801587133923994, 1.3503103311369426e-05, 2.9246456132911926e-05, 1.7364031038313002e-07, 8.974452282906334e-08, 0.03685000740458324, 4.9819313470171524e-05, 0.07747754273070592, 4.01427295932804e-06, 0.0012545043128229937, 7.570205757691204e-08, 0.00022991991223313035, 0.006855784807463447, 9.732568233992968e-10, 0.018502803318086604, 9.606041468786465e-05, 0.0026053519866953883, 0.0001496317345691552, 0.3692145048710291, 1.855387478669345e-06, 6.886243678766512e-06, 0.009304727032512667, 0.0006942189016119276, 0.002070194662219235, 3.74448780571216e-05, 0.0001971306806442766, 1.6662109463514084e-07, 0.04858404182987765, 0.0023444740910901433, 2.357054044952178e-06, 3.056612227696613e-07, 5.1029296763094264e-05, 1.0981239096711431e-07, 2.215174023533101e-05, 2.710258987402445e-06, 9.377808632630116e-07, 0.010938365608343487, 0.003975827973381704, 3.2620779397094027e-09, 0.023621393260066608, 0.012331470367575922, 0.04665008901174225, 4.0668720687488176e-12, 0.0039603378104384685, 0.03733697522814489, 2.325995980806684e-07, 3.743156823065362e-06, 8.703953704775702e-06, 2.928824208413005e-05, 0.00025101196302400585, 2.530492070492972e-10, 0.013151491590825858, 0.0006687689203659046, 0.0001538080713397918] \n",
      "Saved model: results/gru/cluster_0/gru_cluster_0_round_4_kr_softmax.pt\n",
      " Processing other with 428 clients\n",
      "Sampling 64 Clients\n"
     ]
    },
    {
     "name": "stderr",
     "output_type": "stream",
     "text": [
      "Training other: 100%|██████████| 64/64 [00:36<00:00,  1.77it/s]\n"
     ]
    },
    {
     "name": "stdout",
     "output_type": "stream",
     "text": [
      "SYNC Weights:[0.0017368605263707586, 0.02230297829829876, 0.00015701058229528175, 0.016703500300380227, 0.05099288644004016, 4.866301939530776e-05, 6.787792427443813e-06, 0.005587045942239481, 0.22319094018322533, 0.01741545042455047, 0.17634324635884185, 0.00016352812856292845, 0.01982888512099174, 6.021434083167116e-07, 0.0027153266558926, 0.0002530106144361386, 0.002369904003742962, 1.9377309758911197e-06, 0.0006193319470311172, 1.3373408896251614e-05, 0.006553824989853379, 0.03806822045363683, 1.4921472144107246e-05, 0.013545781272637492, 0.009355961741298708, 8.701044019827095e-06, 0.008578288615282084, 0.0011431467724202834, 0.0012351759589943171, 8.863349098805261e-05, 0.0007791552353999768, 0.001861653480470623, 0.0017174392750106354, 0.04403359895648196, 0.002704289950846804, 0.0001614375324502099, 0.00770452583428798, 0.0025083902430979173, 0.039730639117488496, 0.0003349527552148872, 0.0009384011436879374, 0.009508109179727529, 0.053827566444364094, 0.0007067574373547687, 1.1842770521366465e-07, 3.705650657549127e-05, 0.000853870940138529, 0.010629698540620477, 0.0030322822356375493, 0.00046344189675845404, 0.031175968189974396, 0.0020065734025942767, 0.01582128838100457, 0.04024565323569765, 0.09205150915736006, 0.00046262253976561034, 3.985190774262216e-08, 4.8708296530877135e-11, 8.452110995145371e-06, 0.004122580006639045, 0.00036164251761373255, 0.009583951075632115, 0.0034505240946395396, 0.0001318825889609301] \n",
      "Saved model: results/gru/other/gru_other_round_4_kr_softmax.pt\n",
      " Processing cluster_1 with 269 clients\n",
      "Sampling 40 Clients\n"
     ]
    },
    {
     "name": "stderr",
     "output_type": "stream",
     "text": [
      "Training cluster_1: 100%|██████████| 40/40 [00:22<00:00,  1.75it/s]\n"
     ]
    },
    {
     "name": "stdout",
     "output_type": "stream",
     "text": [
      "SYNC Weights:[5.156865540319731e-05, 2.3601993370915415e-05, 4.2377792753291146e-08, 0.0018751468482629044, 0.18250634875273905, 0.002498588627479523, 1.2553822071246987e-08, 0.16945394194782162, 0.00048252480085642937, 0.07559246532914403, 4.5186264369331873e-10, 0.0034835637215268242, 0.15374474719201714, 1.391117343288356e-06, 1.4098395582913352e-08, 3.324421465982159e-09, 0.0003707586846873432, 1.439644214828863e-07, 2.800861792709707e-06, 0.05932594768026823, 0.0002467599138216139, 0.06042286428944167, 0.0006495204047065776, 1.198049256530326e-06, 0.19911040144550476, 3.7683800805498007e-07, 0.002049459159477583, 0.021330473760371865, 1.1559281388041678e-17, 0.06493116377743076, 4.580464594834279e-05, 1.1654570644124534e-06, 5.9731632813149775e-09, 0.00120450120535433, 1.5155463970633582e-05, 0.00023765868564780635, 7.722776466475296e-06, 0.00022068161529042237, 6.094042301704696e-18, 0.00011147156454173716] \n",
      "Saved model: results/gru/cluster_1/gru_cluster_1_round_4_kr_softmax.pt\n",
      " Processing cluster_2 with 179 clients\n",
      "Sampling 26 Clients\n"
     ]
    },
    {
     "name": "stderr",
     "output_type": "stream",
     "text": [
      "Training cluster_2: 100%|██████████| 26/26 [00:14<00:00,  1.75it/s]\n"
     ]
    },
    {
     "name": "stdout",
     "output_type": "stream",
     "text": [
      "SYNC Weights:[0.00424888828506581, 4.877677941793378e-07, 0.045242088736658755, 1.7553768795659255e-07, 1.402015881102549e-07, 0.010412426092601998, 0.16616698990113973, 0.0004743831149195977, 0.0001183405579127898, 9.728554533267798e-08, 5.181589245570007e-12, 0.3220647959180218, 1.6918162938921433e-07, 1.0640559219488709e-18, 0.09379548148817199, 0.0036560587479616334, 5.050299234361796e-15, 4.513557259274492e-22, 4.466619025687617e-08, 0.3537881250955449, 2.397531457441921e-05, 2.2766553603748845e-06, 1.2040956492548168e-09, 3.929685087224163e-06, 1.1207037188415322e-06, 3.156614999798758e-10] \n",
      "Saved model: results/gru/cluster_2/gru_cluster_2_round_4_kr_softmax.pt\n",
      "\\Round 5/10\n",
      " Processing cluster_0 with 537 clients\n",
      "Sampling 80 Clients\n"
     ]
    },
    {
     "name": "stderr",
     "output_type": "stream",
     "text": [
      "Training cluster_0: 100%|██████████| 80/80 [00:45<00:00,  1.76it/s]\n"
     ]
    },
    {
     "name": "stdout",
     "output_type": "stream",
     "text": [
      "SYNC Weights:[1.934177132758048e-21, 0.00015870970068474578, 0.007243411795399956, 0.023913241391173103, 7.564805294620317e-10, 8.904269270690695e-06, 0.04768288123829121, 0.0033891774244322772, 0.008248545005215704, 0.004674937622021125, 0.00012572316957590397, 0.0072122443074992566, 1.9005837439930613e-06, 1.5149372902819183e-10, 5.471664281805196e-11, 4.083543598441162e-06, 0.001112115940191644, 7.938092055554407e-07, 1.9221280196730826e-05, 0.0757131307317533, 0.0012564116428214788, 0.0005147021503023534, 1.5581768247432115e-11, 0.0002385129992149169, 2.2057415104455655e-06, 7.524806780503148e-05, 1.1237540083247516e-05, 0.10205834227633467, 6.931468058558535e-08, 0.0007131724225387585, 2.7904467741136117e-09, 8.367990240333951e-10, 8.619254586633149e-06, 0.0032957687660288117, 0.0001674784655502733, 8.369525043139867e-08, 0.005962372026708144, 0.027924709688819487, 7.679174304182778e-07, 0.054917243000048174, 7.482851640466477e-05, 3.5580033257608917e-07, 5.757117159315082e-10, 1.4503189128425054e-05, 0.29527792436070116, 0.07592057877932534, 0.00020900821350513924, 0.010777073966087488, 2.1772958640636703e-11, 0.0009263036418002922, 0.0021895394061711925, 2.549686761073758e-05, 0.0003254603806966314, 4.913156242704523e-05, 0.031135079228305218, 0.005805770795100077, 0.011903914424896573, 2.8191491322899715e-05, 0.005569589271254415, 3.102793011203991e-08, 0.022005861574903064, 0.048188464964948004, 0.024016785464726517, 0.0014594753491020405, 0.00011614702445934796, 4.023336827604122e-06, 1.435511630872483e-16, 1.418540982294678e-05, 4.0867664318722104e-08, 0.006494770462091772, 6.997163755237778e-06, 0.00874755950678483, 0.06473025106739841, 5.7309205889619e-07, 0.004780450594202651, 3.909245900100049e-05, 4.07124527066343e-05, 0.0023765758249468883, 4.035939018497686e-05, 4.891813366465127e-05] \n",
      "Saved model: results/gru/cluster_0/gru_cluster_0_round_5_kr_softmax.pt\n",
      " Processing other with 428 clients\n",
      "Sampling 64 Clients\n"
     ]
    },
    {
     "name": "stderr",
     "output_type": "stream",
     "text": [
      "Training other: 100%|██████████| 64/64 [00:36<00:00,  1.78it/s]\n"
     ]
    },
    {
     "name": "stdout",
     "output_type": "stream",
     "text": [
      "SYNC Weights:[1.3056215808724834e-31, 1.3282221621367059e-25, 2.6479749921992153e-36, 7.812416323689827e-33, 1.6490231943046711e-71, 5.9276177471381295e-65, 3.673985075821767e-56, 6.292420606312345e-91, 7.132236756873428e-57, 1.5732517066565036e-28, 0.006347592321232885, 3.3667572454225317e-17, 4.631761384248036e-86, 6.5228346673638e-38, 2.7165076357067663e-36, 1.098327840277161e-09, 6.41557362024293e-21, 3.202066585690971e-14, 3.8734899623082595e-24, 1.6240573179159547e-20, 9.199624170219504e-18, 9.509947412318074e-31, 1.8539962849093638e-59, 4.4739468784658096e-17, 1.2604145767571071e-07, 1.4146242656678316e-17, 1.0112774219316478e-25, 2.629076775149361e-84, 3.927523287637427e-12, 1.7631450729518125e-21, 2.852655974329577e-07, 4.051980381124175e-27, 1.7206632817131172e-76, 2.943964006689192e-32, 1.78972371447917e-59, 8.950677137930923e-21, 8.068381109646194e-25, 1.5165084923465228e-35, 1.1473649102916733e-05, 1.4157607098372495e-16, 1.1360230975357999e-28, 4.1823838508826585e-19, 1.6180524607093527e-21, 6.295455947466179e-71, 9.217367573249486e-94, 9.507605430676866e-59, 1.5521576160836614e-18, 7.508086806253398e-18, 3.4284407531161034e-24, 9.857773223940783e-22, 1.9656435140221464e-53, 1.0216921976736402e-36, 8.476979414637131e-42, 7.824940098251445e-13, 2.0232691086879873e-21, 1.2438392408986164e-41, 4.272829684010989e-25, 3.4680276985916487e-12, 5.7843904835153925e-37, 8.628923827704451e-22, 7.550808972839756e-31, 3.2930861572200224e-53, 1.6622438939212266e-37, 0.9936405116796658] \n",
      "Saved model: results/gru/other/gru_other_round_5_kr_softmax.pt\n",
      " Processing cluster_1 with 269 clients\n",
      "Sampling 40 Clients\n"
     ]
    },
    {
     "name": "stderr",
     "output_type": "stream",
     "text": [
      "Training cluster_1: 100%|██████████| 40/40 [00:22<00:00,  1.76it/s]\n"
     ]
    },
    {
     "name": "stdout",
     "output_type": "stream",
     "text": [
      "SYNC Weights:[2.1325983949744187e-22, 1.920050561569377e-24, 3.703105362750272e-34, 7.172017953178178e-100, 8.022051529111932e-51, 8.543920527756349e-29, 2.686356886197377e-95, 4.6413488163386635e-14, 5.808538481811802e-113, 1.4471755533175131e-55, 1.2913871305130333e-38, 6.395321656109996e-31, 5.541516513055555e-84, 2.1624411845827856e-37, 1.0109522781008709e-10, 1.1357184347718211e-34, 0.9999999898988586, 9.293225961426437e-32, 6.688202107488285e-19, 5.711684005541554e-41, 7.420233275409394e-39, 7.203035843851919e-47, 1.0015320041743946e-21, 3.053625529746645e-38, 1.406827718871699e-34, 2.495608784597353e-46, 1.772496012897244e-28, 2.179559659294488e-17, 4.729405121179686e-37, 1.1737746932735146e-67, 2.5235235096242373e-34, 1.0313067574596383e-33, 1.7670120192694639e-59, 1.328060364399816e-105, 2.5254439070644816e-103, 1.0128224207153755e-22, 2.7956499052315825e-23, 8.625116897246742e-29, 5.5890547065317015e-64, 9.777652380431188e-118] \n",
      "Saved model: results/gru/cluster_1/gru_cluster_1_round_5_kr_softmax.pt\n",
      " Processing cluster_2 with 179 clients\n",
      "Sampling 26 Clients\n"
     ]
    },
    {
     "name": "stderr",
     "output_type": "stream",
     "text": [
      "Training cluster_2: 100%|██████████| 26/26 [00:15<00:00,  1.73it/s]\n"
     ]
    },
    {
     "name": "stdout",
     "output_type": "stream",
     "text": [
      "SYNC Weights:[1.638329734799328e-30, 2.6560803539131903e-46, 1.1317445827098268e-68, 0.8104465441743692, 0.18954903939806567, 2.3815148862050285e-83, 5.11296982394725e-41, 2.585967640215671e-32, 3.751263334820277e-129, 1.2375982332083298e-07, 1.9197408768833537e-26, 3.2082104343934865e-65, 7.397133327821839e-19, 5.840356537780398e-25, 1.5511001247547052e-08, 9.044034113789164e-23, 1.590228323522278e-88, 7.778263016817246e-51, 2.4318635171897186e-19, 1.7063833027536518e-22, 4.773164306989319e-39, 1.4519072711336813e-20, 2.6991282266635474e-23, 2.57928562347786e-95, 9.516871462275812e-71, 4.2690522752413105e-06] \n",
      "Saved model: results/gru/cluster_2/gru_cluster_2_round_5_kr_softmax.pt\n",
      "\\Round 6/10\n",
      " Processing cluster_0 with 537 clients\n",
      "Sampling 80 Clients\n"
     ]
    },
    {
     "name": "stderr",
     "output_type": "stream",
     "text": [
      "Training cluster_0: 100%|██████████| 80/80 [00:45<00:00,  1.74it/s]\n"
     ]
    },
    {
     "name": "stdout",
     "output_type": "stream",
     "text": [
      "SYNC Weights:[0.02122674682410213, 9.548130652818026e-11, 1.2404935296421259e-06, 8.458280517694728e-06, 0.00015041015459826064, 0.0008122818918193426, 4.804575177024774e-07, 0.006775091616007891, 9.011193442047795e-07, 3.3370580406442135e-06, 1.7000818798101242e-07, 0.00037870708161740006, 3.252336597937527e-08, 1.1168352828180403e-05, 0.23390821489509975, 0.028245869249245, 2.9325405868731404e-07, 0.03200375239248367, 0.0031317964790176563, 1.9809539062788923e-05, 5.570283127722367e-05, 3.9045720055600306e-05, 1.1662229262414547e-06, 2.738146901600383e-07, 3.942707923430782e-32, 1.2766770249275958e-05, 8.005604114962525e-07, 2.105472757679711e-13, 1.3768222725938193e-07, 1.1515552730544333e-07, 2.223068780706591e-06, 1.5297894572441648e-10, 5.305759862132199e-06, 2.9302734448349693e-10, 1.3003351497634825e-06, 0.007451303189893129, 1.6569465161662556e-05, 2.2515315089413515e-07, 0.24115326768192738, 9.904624331286782e-05, 4.769076615140886e-08, 1.5261443108684526e-05, 0.0017829082793642723, 4.069373412296736e-08, 0.00033844975695007234, 0.0001245758045107851, 5.4085951615617974e-08, 8.37168595230948e-05, 3.537931933607029e-16, 1.8002243238371552e-06, 9.439665816203137e-05, 1.5111097281857107e-06, 2.829902406306291e-22, 7.411514662829659e-08, 2.0113522709825622e-06, 0.0518043796617251, 2.2363236306283394e-08, 0.0001429997375384255, 3.381493225821467e-17, 0.0002772718129387604, 0.0032384373888078477, 1.0251665039041277e-12, 0.0005251076889123674, 0.00020699443960039513, 0.000164439631407868, 7.995376494454977e-09, 9.916827766866013e-08, 0.00011260312340484954, 5.709026687470061e-08, 0.024843895344103653, 6.779043385264909e-08, 0.00862794264963829, 1.9152221060059846e-15, 2.083158517919873e-12, 4.9619560388386865e-05, 0.3210445359659297, 5.1136924152273055e-06, 5.753124303812515e-11, 0.010993492245153696, 4.9439070875641425e-08] \n",
      "Saved model: results/gru/cluster_0/gru_cluster_0_round_6_kr_softmax.pt\n",
      " Processing other with 428 clients\n",
      "Sampling 64 Clients\n"
     ]
    },
    {
     "name": "stderr",
     "output_type": "stream",
     "text": [
      "Training other: 100%|██████████| 64/64 [00:35<00:00,  1.81it/s]\n"
     ]
    },
    {
     "name": "stdout",
     "output_type": "stream",
     "text": [
      "SYNC Weights:[1.289963535522668e-11, 1.1483585229190646e-31, 1.8484344455377515e-25, 8.101851873807918e-08, 1.940749287229716e-09, 6.649044957680077e-20, 3.3088843604952065e-10, 3.740393662313362e-12, 1.0489315530560702e-15, 1.8502282166195626e-17, 1.634784183898251e-29, 5.408940820627068e-09, 3.838972378041006e-07, 1.2025146501463649e-06, 2.716651050481606e-37, 8.770283800411605e-09, 6.535062286826469e-34, 7.416540985348878e-26, 1.7579426482389848e-15, 3.4370669690640383e-19, 1.4478517474718673e-18, 2.0428665545102197e-11, 6.205660568233997e-19, 1.8550882482532182e-09, 1.5055527253054613e-09, 2.411494722919537e-08, 3.0065653861384706e-30, 1.6459368780880124e-05, 6.411109847283121e-09, 1.2232775425731592e-07, 0.9971844579439817, 7.797281112269442e-06, 0.00015971624058461244, 1.551692117773558e-07, 6.89047759498767e-09, 6.030850007000536e-10, 4.1284865525947503e-07, 2.5085210448770956e-27, 2.0425617935920167e-35, 1.237903503839368e-10, 3.287408678985986e-10, 1.2960544597195678e-19, 5.918730268111291e-23, 5.019412279192915e-21, 5.565830474334744e-07, 8.461547746699488e-31, 2.464027088299263e-07, 2.584427303256412e-31, 1.7728969312849798e-35, 1.5570784765297366e-13, 3.2294352803321745e-07, 3.839033436253881e-06, 1.6163857294487738e-18, 7.555255356801761e-06, 1.237627174570804e-06, 3.471051761573525e-06, 1.8015852056465786e-58, 4.1572120736086696e-11, 7.656680984827397e-32, 9.696723076774264e-06, 0.0025256149396829988, 2.286171184576902e-10, 7.658499937520475e-05, 1.7267448922151987e-08] \n",
      "Saved model: results/gru/other/gru_other_round_6_kr_softmax.pt\n",
      " Processing cluster_1 with 269 clients\n",
      "Sampling 40 Clients\n"
     ]
    },
    {
     "name": "stderr",
     "output_type": "stream",
     "text": [
      "Training cluster_1: 100%|██████████| 40/40 [00:23<00:00,  1.73it/s]\n"
     ]
    },
    {
     "name": "stdout",
     "output_type": "stream",
     "text": [
      "SYNC Weights:[0.0015361911776026439, 4.4841985978383486e-05, 0.0003314911980800486, 3.095099047521458e-05, 0.01334443492127945, 9.082141719223727e-09, 1.711846891035083e-25, 1.9597313019494587e-05, 6.954831395152097e-09, 0.0035956023188739128, 0.0007576236878791547, 5.744551127812827e-18, 1.1588311644565759e-10, 0.00010676816877714334, 9.327803732005812e-07, 3.8291022711545166e-09, 0.0014204618562620001, 0.5952766567416772, 1.1318232849623242e-09, 0.0006858517739994757, 0.00015772814435302028, 0.0011364559115326837, 0.08134866386211453, 0.07204417367095407, 0.0003508217906574766, 0.18424691272129107, 0.0014812481530047555, 3.078593900295824e-05, 6.173646908271142e-08, 1.6392495827055555e-10, 0.004395663665751171, 0.0025549159581494613, 0.010968792407469416, 0.00010527715483335393, 0.0012975855259140842, 3.8417059890295395e-05, 0.0003323479569244265, 0.003678624922480728, 0.018678699818963227, 1.3914554935381947e-06] \n",
      "Saved model: results/gru/cluster_1/gru_cluster_1_round_6_kr_softmax.pt\n",
      " Processing cluster_2 with 179 clients\n",
      "Sampling 26 Clients\n"
     ]
    },
    {
     "name": "stderr",
     "output_type": "stream",
     "text": [
      "Training cluster_2: 100%|██████████| 26/26 [00:14<00:00,  1.76it/s]\n"
     ]
    },
    {
     "name": "stdout",
     "output_type": "stream",
     "text": [
      "SYNC Weights:[2.630114766301583e-107, 3.9512263340635565e-77, 7.866035318731485e-251, 7.489674614182162e-248, 4.27783857276775e-53, 9.226081174333243e-102, 2.7151305218737925e-91, 2.6388410675898713e-49, 1.3322721747159598e-88, 6.138062333386235e-73, 8.12031646279084e-83, 3.4859198052244855e-122, 1.6543311091466943e-96, 2.700421883748492e-174, 6.0031248025060975e-62, 2.8667779568592878e-108, 0.9999999900000002, 4.554248928278388e-75, 2.6111280395690053e-57, 4.718436659390134e-59, 1.4579158294847851e-96, 7.218368797936924e-100, 1.8192314516910572e-82, 4.813842057282586e-152, 1.90544345560843e-61, 1.996937759596298e-83] \n",
      "Saved model: results/gru/cluster_2/gru_cluster_2_round_6_kr_softmax.pt\n",
      "\\Round 7/10\n",
      " Processing cluster_0 with 537 clients\n",
      "Sampling 80 Clients\n"
     ]
    },
    {
     "name": "stderr",
     "output_type": "stream",
     "text": [
      "Training cluster_0: 100%|██████████| 80/80 [00:45<00:00,  1.75it/s]\n"
     ]
    },
    {
     "name": "stdout",
     "output_type": "stream",
     "text": [
      "SYNC Weights:[1.9024337438863364e-08, 1.3275527735238231e-05, 7.109952187946756e-06, 9.635371324960988e-11, 1.1958904932812396e-07, 1.7552650384171246e-10, 0.008144081296694744, 0.003351154732538722, 0.0009297394546845181, 1.6741486558636976e-05, 0.002530452235764956, 0.04791010624950979, 1.908635095731992e-05, 1.1240533477168435e-07, 9.091186301793263e-05, 0.002199323863236498, 0.002059834225673779, 0.0006059495656071882, 0.028789645891609858, 0.0071688630219870885, 0.41906288087355564, 0.00025457982403871834, 0.012667406687692813, 1.6702786534359972e-16, 0.0016094313910753832, 8.959419781217856e-07, 0.004759726630949669, 1.521667843096156e-10, 1.9196673695422033e-06, 2.4356353656851074e-16, 4.466985031077131e-06, 6.204799363421964e-16, 1.799322167823351e-05, 0.005416619819562491, 3.029156135004665e-12, 2.8703519461252915e-09, 0.0003346499278431307, 0.0016814806886168282, 0.036150590118179636, 0.04421692705965391, 0.0077584965071468195, 0.006321518738749617, 5.155118324399682e-05, 4.407660528778742e-06, 0.00015262918304016283, 0.08729699895716565, 0.0004969983251651479, 0.0026270193304608782, 6.065175324484623e-05, 5.513704470851987e-09, 0.0021790105954567723, 0.0015211748626737976, 0.00015155741875757782, 2.3420521958116617e-05, 0.0007240450306362933, 0.03623201584672212, 1.310568708269083e-27, 0.001832174634984496, 8.645726121903925e-06, 7.116305375995805e-09, 0.00021156900121677163, 6.926983172547843e-07, 7.247265727159111e-08, 1.4186152867412921e-05, 0.021613675232195314, 0.0008571043214408147, 0.00010422352187417625, 0.04782400946588124, 0.0009256331136091112, 0.04361265633376731, 0.008340602368759237, 0.0736089050532327, 2.7696572333582593e-17, 0.0024452176875963878, 7.441890713160124e-05, 0.009148281755419771, 0.012430555321789048, 0.00013407587045412644, 4.090317605503421e-09, 0.0011956846636370663] \n",
      "Saved model: results/gru/cluster_0/gru_cluster_0_round_7_kr_softmax.pt\n",
      " Processing other with 428 clients\n",
      "Sampling 64 Clients\n"
     ]
    },
    {
     "name": "stderr",
     "output_type": "stream",
     "text": [
      "Training other: 100%|██████████| 64/64 [00:35<00:00,  1.79it/s]\n"
     ]
    },
    {
     "name": "stdout",
     "output_type": "stream",
     "text": [
      "SYNC Weights:[1.887076186141484e-05, 2.7110351347095503e-06, 5.680478227390461e-06, 2.7385291639593346e-59, 1.8354002386602652e-17, 4.2338885975723e-11, 7.969545672531493e-57, 1.1687463577886609e-05, 4.308500198431023e-46, 2.3097779832265326e-30, 5.867842813393458e-22, 5.462494298280336e-28, 1.276548472245958e-10, 2.4574745079212805e-24, 2.414313919791865e-15, 3.8413418977385885e-10, 1.0907948680270034e-56, 1.627329768869358e-63, 0.0019469141658483057, 0.0005367840145937493, 0.15876897578129298, 5.3669902286702606e-08, 6.59279776987636e-12, 1.2899523847064695e-49, 1.1319792736493263e-08, 5.464215122056801e-72, 1.5355675124519398e-61, 2.1863620026753723e-19, 8.511592877558545e-58, 3.9700203016201203e-10, 1.3713326860131449e-05, 1.063527067457775e-06, 9.747491308530236e-76, 5.309619475951299e-20, 8.155810248793973e-48, 1.3489506415572836e-52, 3.376148564702395e-08, 1.7905357744552706e-29, 7.240746552194795e-32, 9.098075952621377e-15, 2.6398066554014865e-09, 1.8907131259633425e-09, 2.6299128012266705e-40, 1.5166588515078453e-07, 6.949114075069563e-53, 2.0425207858092298e-41, 6.57380366676293e-35, 2.6488583551942514e-05, 1.0228688203262153e-34, 6.353772032884153e-13, 1.8409370619822717e-12, 1.4499375219902107e-19, 6.473289058472597e-13, 2.0954740536542534e-34, 1.3568013962630924e-32, 2.476759665064629e-61, 1.3166025406137572e-39, 1.6188696408144118e-18, 4.6771949207261585e-40, 1.4418329183107306e-85, 1.494355084251424e-28, 0.8386667512158972, 1.1152887075909628e-12, 9.534986055180375e-08] \n",
      "Saved model: results/gru/other/gru_other_round_7_kr_softmax.pt\n",
      " Processing cluster_1 with 269 clients\n",
      "Sampling 40 Clients\n"
     ]
    },
    {
     "name": "stderr",
     "output_type": "stream",
     "text": [
      "Training cluster_1: 100%|██████████| 40/40 [00:22<00:00,  1.77it/s]\n"
     ]
    },
    {
     "name": "stdout",
     "output_type": "stream",
     "text": [
      "SYNC Weights:[0.00037030502733102386, 0.017949181450953818, 0.0012447130802108219, 8.514825495297775e-10, 2.814303113480149e-14, 0.0053564243229549825, 1.0209062408827331e-08, 2.523121432789698e-11, 1.989264310748916e-18, 0.0580874869420141, 0.3218420880318768, 0.13382807186063284, 0.0003671254475639143, 0.002423811892417774, 3.664015191109751e-07, 9.252322942688246e-06, 0.006142925763581909, 3.1764870330584e-13, 0.02746918958394231, 8.404583456106479e-36, 0.2442405655582448, 1.4196656447535984e-07, 1.7127587467388453e-20, 0.0016955207705166603, 1.5461538738654282e-17, 0.02023296338576505, 0.05882077586956815, 4.866824991136318e-05, 0.00832587253704405, 0.07020395367464724, 1.157985677865226e-11, 0.015877515707750603, 0.00040646396741384714, 0.0006806467598541528, 7.439918986620081e-07, 0.00016115077640494103, 2.3615658517898626e-13, 1.1208515052385848e-12, 0.004214021995597411, 3.834339681735697e-08] \n",
      "Saved model: results/gru/cluster_1/gru_cluster_1_round_7_kr_softmax.pt\n",
      " Processing cluster_2 with 179 clients\n",
      "Sampling 26 Clients\n"
     ]
    },
    {
     "name": "stderr",
     "output_type": "stream",
     "text": [
      "Training cluster_2: 100%|██████████| 26/26 [00:15<00:00,  1.71it/s]\n"
     ]
    },
    {
     "name": "stdout",
     "output_type": "stream",
     "text": [
      "SYNC Weights:[1.0443844232308489e-38, 2.440196767911085e-113, 7.289523347909204e-94, 1.0927763055495651e-35, 5.426199331213203e-28, 5.301734706083615e-37, 0.9999999899779305, 2.2594917245379286e-36, 1.956743032853305e-62, 2.3800666095139657e-43, 1.398004738373338e-122, 1.1985996685864304e-105, 8.435510551516855e-41, 8.09432234835855e-34, 5.206308374680462e-13, 1.3177807746090934e-73, 6.824722746062309e-96, 9.12352396391154e-18, 1.4341330013487327e-12, 4.277306978913058e-55, 3.875197765071371e-158, 2.0114872461755638e-11, 2.010723984545019e-27, 2.814006373204514e-103, 2.4795205652373874e-78, 1.5796278810184255e-33] \n",
      "Saved model: results/gru/cluster_2/gru_cluster_2_round_7_kr_softmax.pt\n",
      "\\Round 8/10\n",
      " Processing cluster_0 with 537 clients\n",
      "Sampling 80 Clients\n"
     ]
    },
    {
     "name": "stderr",
     "output_type": "stream",
     "text": [
      "Training cluster_0: 100%|██████████| 80/80 [00:45<00:00,  1.74it/s]\n"
     ]
    },
    {
     "name": "stdout",
     "output_type": "stream",
     "text": [
      "SYNC Weights:[0.004537450724022261, 0.0022665024782800615, 0.02039336354972909, 0.024486950453543557, 2.035241829728825e-06, 7.573166154308615e-05, 0.012035541749237488, 0.004639130474453689, 0.0003294430472622815, 0.004112594823501533, 0.011251071722789352, 0.014745497546839525, 0.03370173049569383, 9.385060287633867e-07, 0.019936479299691164, 0.00666633542805515, 0.008813495939345441, 9.944644918431623e-06, 0.0004725449740313447, 0.015887655321403307, 0.009759740446066631, 0.006561673173614249, 0.007549561418435927, 0.019049320074032823, 0.014297079982286994, 1.250943916902971e-05, 0.006075344771424503, 0.028516368325144863, 0.03706062870336805, 0.0004992846321535666, 0.0013333541185075945, 0.005028363153393893, 0.0005768032802905854, 2.9209513229645394e-08, 0.017655068184188837, 0.0022628554105071624, 0.006326404125400175, 0.011023997779622369, 0.007892178451467762, 0.019802248091441522, 0.04588728046502407, 0.0013964911861403704, 1.8410441904337344e-07, 0.0009322451970215072, 1.999345121709783e-06, 0.01695616812754682, 0.009032698694028085, 0.0008747201859358813, 0.004636785116282864, 0.0008758864535479232, 2.0007220393432857e-06, 0.0009086640978746328, 0.021872023210836415, 9.489921370264025e-06, 0.018656775833486756, 0.09504959694210918, 9.863009876811746e-05, 0.014223423281180017, 0.00882649580334326, 0.0010690047115684764, 0.005027738957922709, 0.00519200384120374, 1.2294611290233342e-06, 0.018175386901232327, 0.012868962394354264, 0.003593474328037491, 0.0011246216334841873, 0.06298593357676234, 0.001297523486965493, 0.007220644662668046, 0.0038047850549406373, 0.040757057119216046, 0.032716815023746015, 0.015465391648664497, 0.1248444457052242, 1.2121617512292087e-11, 0.0006671404293335113, 0.022836495905322052, 0.014462534259335722, 1.7992989040634672e-14] \n",
      "Saved model: results/gru/cluster_0/gru_cluster_0_round_8_kr_softmax.pt\n",
      " Processing other with 428 clients\n",
      "Sampling 64 Clients\n"
     ]
    },
    {
     "name": "stderr",
     "output_type": "stream",
     "text": [
      "Training other: 100%|██████████| 64/64 [00:36<00:00,  1.76it/s]\n"
     ]
    },
    {
     "name": "stdout",
     "output_type": "stream",
     "text": [
      "SYNC Weights:[8.401606728707631e-56, 1.3446351466858123e-12, 1.3473428537814344e-13, 0.0582904239522642, 2.4244434454357595e-05, 0.013394013038183236, 6.606696159017585e-05, 9.837663224126344e-19, 7.181044429020677e-16, 2.3474491610602317e-16, 5.51820707054163e-25, 2.1793607295718783e-07, 9.377501824685325e-08, 3.6789969241134756e-08, 2.37980395030409e-26, 5.240661484875066e-07, 4.331070593588201e-18, 2.2728831699226372e-11, 1.981721632834556e-22, 9.475681366930864e-07, 3.4066071300719944e-07, 1.4489174372869386e-24, 7.573053783234927e-33, 1.0891225792740867e-37, 6.254408618117854e-27, 6.863248575888412e-17, 0.013365016433191832, 0.10063132028028003, 2.8361140985173e-26, 2.1240686926086834e-05, 0.0008058079380915493, 3.0950120777520766e-08, 6.565740692836333e-24, 0.19829253659698384, 3.5757480278860835e-16, 0.0004389452718716829, 5.114646593857133e-25, 1.3407971130518331e-05, 1.5104416283909435e-24, 6.805280455459462e-09, 0.09193304437828567, 0.40706470928939925, 4.355286466763331e-30, 4.260346852164317e-15, 6.623214090572503e-07, 1.0925727976976518e-24, 7.194652920088984e-34, 1.9567767884910644e-31, 0.008462703779122853, 1.7754386575796744e-05, 1.2932122603838495e-25, 2.745438355450947e-22, 7.488679475304655e-08, 3.919073759778491e-22, 0.04994190102979992, 5.01674699276569e-12, 5.977404846699174e-13, 0.0005360569313296529, 8.38034802498449e-10, 0.005198561356651581, 1.234701129664183e-05, 0.003443409178123995, 0.04804354839627314, 1.5013936682459876e-30] \n",
      "Saved model: results/gru/other/gru_other_round_8_kr_softmax.pt\n",
      " Processing cluster_1 with 269 clients\n",
      "Sampling 40 Clients\n"
     ]
    },
    {
     "name": "stderr",
     "output_type": "stream",
     "text": [
      "Training cluster_1: 100%|██████████| 40/40 [00:23<00:00,  1.71it/s]\n"
     ]
    },
    {
     "name": "stdout",
     "output_type": "stream",
     "text": [
      "SYNC Weights:[1.7182662414987077e-17, 8.081727826078762e-12, 6.160176957313117e-43, 6.980361389062764e-09, 8.413650005883418e-11, 9.854720563226941e-94, 1.9873941312607755e-07, 3.082758986211248e-14, 7.788121678559226e-09, 6.2322296848981964e-18, 2.0521548938555342e-08, 0.9996619834344898, 5.470008020316284e-25, 3.634333146824142e-10, 2.2630418976001913e-16, 3.4790871580895812e-28, 2.0328992023561003e-09, 3.839206044967695e-16, 3.51236977111249e-35, 3.045261627974933e-37, 6.22797459122712e-13, 4.9610090525387563e-48, 2.698781840933314e-15, 1.4671318943309215e-10, 8.591274972054754e-07, 2.7423583331023968e-12, 1.296960323554208e-17, 5.148578600358316e-42, 6.290654865787446e-38, 3.3934959301641733e-17, 5.99130307222419e-07, 3.496619110708496e-15, 7.326977564693278e-54, 0.00028160143362455134, 2.2429791455836548e-32, 2.044616558082582e-11, 4.112851997357815e-15, 1.3219098890720247e-09, 2.449656515057376e-11, 5.4708842492745596e-05] \n",
      "Saved model: results/gru/cluster_1/gru_cluster_1_round_8_kr_softmax.pt\n",
      " Processing cluster_2 with 179 clients\n",
      "Sampling 26 Clients\n"
     ]
    },
    {
     "name": "stderr",
     "output_type": "stream",
     "text": [
      "Training cluster_2: 100%|██████████| 26/26 [00:15<00:00,  1.72it/s]\n"
     ]
    },
    {
     "name": "stdout",
     "output_type": "stream",
     "text": [
      "SYNC Weights:[0.07145013776502256, 4.0934243552868104e-33, 3.4202321581781686e-09, 6.139041303519009e-50, 3.406853292523336e-05, 3.301846371776566e-09, 0.010412629005836952, 1.409877809694447e-19, 0.00018941453832965378, 4.946171296259591e-12, 7.167251727604294e-11, 1.3107804168989036e-63, 2.356221711706919e-06, 6.123050054282588e-07, 3.6418880328928654e-32, 9.800678072488102e-29, 7.77888784552835e-12, 1.766449515506016e-08, 7.348580272170328e-67, 4.753962143681411e-61, 0.08597808108881413, 3.35967612730401e-12, 0.8319326676957549, 1.3184545674004524e-27, 1.4248988028704742e-47, 5.2941779173176794e-11] \n",
      "Saved model: results/gru/cluster_2/gru_cluster_2_round_8_kr_softmax.pt\n",
      "\\Round 9/10\n",
      " Processing cluster_0 with 537 clients\n",
      "Sampling 80 Clients\n"
     ]
    },
    {
     "name": "stderr",
     "output_type": "stream",
     "text": [
      "Training cluster_0: 100%|██████████| 80/80 [00:45<00:00,  1.74it/s]\n"
     ]
    },
    {
     "name": "stdout",
     "output_type": "stream",
     "text": [
      "SYNC Weights:[7.472369722933484e-06, 9.723405299362679e-15, 0.022460726680795486, 2.0387829503934693e-06, 0.0036664578232198965, 1.1851309165000398e-06, 1.2531955567183028e-05, 3.565422621060324e-07, 0.0008612097395770215, 0.0031914120088993446, 0.006555889846275003, 7.87068486026512e-06, 0.0020294298615843647, 1.8031707671131544e-05, 0.0006456136441231131, 2.3308206458480595e-27, 2.3357415204947853e-09, 0.0037121559301652304, 0.00012322776853793206, 0.0035582165800819507, 9.307825825253486e-11, 0.011057294684067872, 0.01773127747480859, 2.996876613872019e-06, 0.0407937419555846, 0.2832448763483307, 5.273906427445048e-05, 0.0005226372074013156, 0.004220628926907445, 0.0014496611670589124, 8.508971136179615e-06, 0.05099550155597719, 4.7683963145174595e-08, 0.0023959548469080134, 7.390772261125663e-06, 0.014053085897909707, 2.5897580798636683e-05, 3.483465310396504e-11, 0.03285282169115734, 0.002344836004406526, 1.1368413620776572e-06, 0.0027977930143036726, 3.7381205479281307e-07, 2.3941876342321913e-10, 2.322306560179289e-12, 0.00781703522496054, 5.5614496172961395e-12, 0.00013555716944664814, 0.002847265129708539, 4.998863409274027e-09, 3.721252154299273e-14, 0.0005445340432503663, 1.8528609511918318e-06, 2.844555233451459e-13, 0.05076644590427294, 0.0019565006776650325, 0.09995750032929707, 0.04060710392765378, 4.339141352311603e-05, 2.9062095836208026e-05, 0.02503680798454521, 2.7295810416987663e-13, 0.0006808637961714703, 1.0678193898060792e-10, 3.0828935999911133e-05, 0.004324228710553967, 0.00024375045760362208, 0.00665075148968548, 0.0002177894206415663, 0.0006457877201725888, 0.002458948583247247, 0.017161639943632657, 0.06941156006487346, 0.0020103112842412966, 0.00020358243014115978, 0.043184314251568566, 0.04651864446834172, 0.06489218467092292, 0.00020871692694015775, 1.2765731372789373e-16] \n",
      "Saved model: results/gru/cluster_0/gru_cluster_0_round_9_kr_softmax.pt\n",
      " Processing other with 428 clients\n",
      "Sampling 64 Clients\n"
     ]
    },
    {
     "name": "stderr",
     "output_type": "stream",
     "text": [
      "Training other: 100%|██████████| 64/64 [00:35<00:00,  1.79it/s]\n"
     ]
    },
    {
     "name": "stdout",
     "output_type": "stream",
     "text": [
      "SYNC Weights:[1.0516845026794112e-05, 2.6189751308476037e-49, 6.2617835809072206e-52, 1.1180013500542892e-31, 4.543602698197881e-12, 3.290539702032152e-08, 3.557192491634882e-09, 2.254199168186993e-16, 1.420963467274019e-10, 6.542703111780088e-47, 4.374273623506017e-56, 1.5049293235761604e-42, 1.3655250602780688e-08, 2.4216555669957036e-09, 1.484809955484676e-48, 3.348647748616332e-11, 1.6702465307794707e-18, 4.539878373903231e-05, 2.3416130906049463e-08, 1.5513359386554445e-12, 2.143465760956031e-12, 8.657158291210488e-18, 7.718397645697855e-39, 7.026019005710771e-20, 3.741436025033846e-14, 7.614082911411516e-32, 1.4845761046612226e-38, 0.9999338856569858, 2.779631779972459e-34, 2.0577361314682084e-64, 4.711057943600379e-45, 3.8551688112701644e-36, 1.4374392629069023e-13, 1.671697257471547e-53, 2.053146871336251e-08, 3.110116194615605e-26, 5.478711771720063e-08, 2.679123557892307e-06, 1.5003539202112993e-18, 2.3537562387714123e-14, 5.181791887803023e-45, 7.089053572837209e-06, 2.9455174941575604e-84, 1.347109956895384e-23, 6.445959068484409e-35, 1.3545961829256324e-49, 9.936426047923387e-45, 1.0282580282301532e-09, 3.8451808729793526e-60, 1.0241641168133147e-27, 2.5266622090141786e-07, 9.030376398079457e-34, 3.1127623838115734e-13, 2.989800154812348e-34, 1.2402886697670681e-08, 3.499408906685663e-48, 2.549828239511268e-10, 1.1526275016882435e-10, 2.3470394895116907e-09, 6.47296086683959e-48, 2.2707436925946895e-43, 6.471376882119445e-47, 3.0305115253117503e-19, 2.645777486383157e-10] \n",
      "Saved model: results/gru/other/gru_other_round_9_kr_softmax.pt\n",
      " Processing cluster_1 with 269 clients\n",
      "Sampling 40 Clients\n"
     ]
    },
    {
     "name": "stderr",
     "output_type": "stream",
     "text": [
      "Training cluster_1: 100%|██████████| 40/40 [00:22<00:00,  1.76it/s]\n"
     ]
    },
    {
     "name": "stdout",
     "output_type": "stream",
     "text": [
      "SYNC Weights:[2.5723367289083812e-36, 2.6074485390321955e-12, 4.641690748161251e-05, 7.328780930072729e-12, 0.00012489781188452186, 0.00012550061371631528, 0.000578759276234551, 6.744912262028037e-10, 1.8877833018174886e-72, 3.6930455328489913e-28, 4.382741454329156e-59, 6.953411677904104e-26, 8.832543538221482e-11, 2.0257459445143077e-09, 6.437095219993339e-52, 3.043117344033925e-05, 3.701543164073831e-08, 3.18120761163693e-23, 6.414416296511158e-12, 1.9252975297396745e-18, 1.682438705508669e-09, 1.0657112566235122e-18, 9.035613121109263e-15, 0.9990660716128202, 3.8048060126425893e-19, 1.2507007886882967e-05, 2.040119051421485e-22, 8.870917595135316e-15, 1.2273710839378176e-44, 4.738734936112169e-39, 2.9589096269769566e-12, 1.5330909041555474e-05, 3.1111140531535986e-44, 8.97199010265255e-45, 1.1262000421950099e-09, 1.0043897294079438e-17, 1.0147248448612849e-10, 3.196340013472436e-08, 7.949186751446682e-26, 1.2506833544162187e-17] \n",
      "Saved model: results/gru/cluster_1/gru_cluster_1_round_9_kr_softmax.pt\n",
      " Processing cluster_2 with 179 clients\n",
      "Sampling 26 Clients\n"
     ]
    },
    {
     "name": "stderr",
     "output_type": "stream",
     "text": [
      "Training cluster_2: 100%|██████████| 26/26 [00:15<00:00,  1.70it/s]\n"
     ]
    },
    {
     "name": "stdout",
     "output_type": "stream",
     "text": [
      "SYNC Weights:[1.0669259002670311e-22, 4.685291214984276e-57, 1.0410441810981287e-11, 1.6488761330174122e-73, 1.4620596348508234e-12, 0.9988480737249797, 1.2312017624962747e-67, 1.2515656277963063e-14, 5.361598929628768e-26, 2.0667150949033995e-08, 4.676652607159642e-11, 1.6506076979197688e-24, 1.108312059169059e-11, 1.30622661662345e-16, 1.6617625470189475e-59, 2.321984155420247e-80, 5.668813620148687e-34, 0.00054187565421279, 5.023187237703463e-86, 3.835177199230235e-09, 4.807949663916586e-62, 1.3450389540916806e-24, 5.124700469261209e-14, 4.0560576007074426e-30, 0.0006100160602125059, 1.6074927836625632e-18] \n",
      "Saved model: results/gru/cluster_2/gru_cluster_2_round_9_kr_softmax.pt\n",
      "\\Round 10/10\n",
      " Processing cluster_0 with 537 clients\n",
      "Sampling 80 Clients\n"
     ]
    },
    {
     "name": "stderr",
     "output_type": "stream",
     "text": [
      "Training cluster_0:  39%|███▉      | 31/80 [00:18<00:30,  1.63it/s]"
     ]
    }
   ],
   "source": [
    "\n",
    "# Main experiment loop\n",
    "for model_name in MODEL_NAMES:\n",
    "    print(f\"Starting experiments for model: {model_name}\")\n",
    "\n",
    "    # Initialize per-cluster model weights\n",
    "    cluster_models = {}\n",
    "    cluster_weights = {}\n",
    "\n",
    "    for cluster_name in CLUSTERS:\n",
    "        model = model_fn(model_name).to(DEVICE)\n",
    "        cluster_models[cluster_name] = model\n",
    "        cluster_weights[cluster_name] = get_weights(model)\n",
    "\n",
    "    for rnd in range(NUM_ROUNDS):\n",
    "        print(f\"\\Round {rnd+1}/{NUM_ROUNDS}\")\n",
    "\n",
    "        for cluster_name, client_ids in CLUSTERS.items():\n",
    "            print(f\" Processing {cluster_name} with {len(client_ids)} clients\")\n",
    "\n",
    "            # Sample a fraction of clients from the cluster\n",
    "            sampled_clients = random.sample(client_ids, k=int(CLIENT_FRAC * len(client_ids)))\n",
    "            print(f\"Sampling {len(sampled_clients)} Clients\")\n",
    "            local_weights = []\n",
    "\n",
    "            for cid in tqdm(sampled_clients, desc=f\"Training {cluster_name}\"):\n",
    "                local_model = model_fn(model_name).to(DEVICE)\n",
    "                set_weights(local_model, cluster_weights[cluster_name])\n",
    "\n",
    "                train_loader, test_loader = load_energy_data_feather(cid, filepath=DATA_FILE)\n",
    "                updated_weights, fin_loss = train_model(\n",
    "                    local_model, train_loader,\n",
    "                    device=DEVICE,\n",
    "                    learning_rate=LR,\n",
    "                    loss_fn=None,\n",
    "                    optimizer_class=optim.Adam,\n",
    "                    epochs=LOCAL_EPOCHS\n",
    "                )\n",
    "                local_weights.append(updated_weights)\n",
    "\n",
    "            # Aggregate and update cluster model\n",
    "            updated_cluster_weights = sync_aggregate_softmax(cluster_weights[cluster_name],local_weights)\n",
    "            set_weights(cluster_models[cluster_name], updated_cluster_weights)\n",
    "            cluster_weights[cluster_name] = updated_cluster_weights\n",
    "\n",
    "            # Save checkpoint\n",
    "            ckpt_path = os.path.join(\"results\", model_name, cluster_name, f\"{model_name}_{cluster_name}_round_{rnd+1}_kr_softmax.pt\")\n",
    "            torch.save(cluster_models[cluster_name].state_dict(), ckpt_path)\n",
    "            print(f\"Saved model: {ckpt_path}\")\n"
   ]
  },
  {
   "cell_type": "markdown",
   "id": "bda8d984",
   "metadata": {},
   "source": [
    "### Kuramoto Norm FedAvg"
   ]
  },
  {
   "cell_type": "code",
   "execution_count": null,
   "id": "04da54ad",
   "metadata": {},
   "outputs": [
    {
     "data": {
      "text/plain": [
       "'cuda'"
      ]
     },
     "execution_count": 13,
     "metadata": {},
     "output_type": "execute_result"
    }
   ],
   "source": [
    "# DEVICE\n",
    "# Main experiment loop\n",
    "for model_name in MODEL_NAMES:\n",
    "    print(f\"Starting experiments for model: {model_name}\")\n",
    "\n",
    "    # Initialize per-cluster model weights\n",
    "    cluster_models = {}\n",
    "    cluster_weights = {}\n",
    "\n",
    "    for cluster_name in CLUSTERS:\n",
    "        model = model_fn(model_name).to(DEVICE)\n",
    "        cluster_models[cluster_name] = model\n",
    "        cluster_weights[cluster_name] = get_weights(model)\n",
    "\n",
    "    for rnd in range(NUM_ROUNDS):\n",
    "        print(f\"\\Round {rnd+1}/{NUM_ROUNDS}\")\n",
    "\n",
    "        for cluster_name, client_ids in CLUSTERS.items():\n",
    "            print(f\" Processing {cluster_name} with {len(client_ids)} clients\")\n",
    "\n",
    "            # Sample a fraction of clients from the cluster\n",
    "            sampled_clients = random.sample(client_ids, k=int(CLIENT_FRAC * len(client_ids)))\n",
    "            print(f\"Sampling {len(sampled_clients)} Clients\")\n",
    "            local_weights = []\n",
    "\n",
    "            for cid in tqdm(sampled_clients, desc=f\"Training {cluster_name}\"):\n",
    "                local_model = model_fn(model_name).to(DEVICE)\n",
    "                set_weights(local_model, cluster_weights[cluster_name])\n",
    "\n",
    "                train_loader, test_loader = load_energy_data_feather(cid, filepath=DATA_FILE)\n",
    "                updated_weights, fin_loss = train_model(\n",
    "                    local_model, train_loader,\n",
    "                    device=DEVICE,\n",
    "                    learning_rate=LR,\n",
    "                    loss_fn=None,\n",
    "                    optimizer_class=optim.Adam,\n",
    "                    epochs=LOCAL_EPOCHS\n",
    "                )\n",
    "                local_weights.append(updated_weights)\n",
    "\n",
    "            # Aggregate and update cluster model\n",
    "            updated_cluster_weights = sync_aggregate_softmax(updated_cluster_weights,local_weights)\n",
    "            set_weights(cluster_models[cluster_name], updated_cluster_weights)\n",
    "            cluster_weights[cluster_name] = updated_cluster_weights\n",
    "\n",
    "            # Save checkpoint\n",
    "            ckpt_path = os.path.join(\"results\", model_name, cluster_name, f\"{model_name}_{cluster_name}_round_{rnd+1}_kr_norm.pt\")\n",
    "            torch.save(cluster_models[cluster_name].state_dict(), ckpt_path)\n",
    "            print(f\"Saved model: {ckpt_path}\")\n"
   ]
  },
  {
   "cell_type": "markdown",
   "id": "cdad6e28",
   "metadata": {},
   "source": [
    "### Clustered"
   ]
  },
  {
   "cell_type": "code",
   "execution_count": null,
   "id": "2e11cce6",
   "metadata": {},
   "outputs": [],
   "source": []
  },
  {
   "cell_type": "code",
   "execution_count": null,
   "id": "e26cc4b8",
   "metadata": {},
   "outputs": [
    {
     "name": "stdout",
     "output_type": "stream",
     "text": [
      "Starting experiments for model: lstm\n",
      "\\Round 1/10\n",
      " Processing cluster_0 with 537 clients\n",
      "Sampling 80 Clients\n"
     ]
    },
    {
     "name": "stderr",
     "output_type": "stream",
     "text": [
      "Training cluster_0: 100%|██████████| 80/80 [00:36<00:00,  2.19it/s]\n"
     ]
    },
    {
     "name": "stdout",
     "output_type": "stream",
     "text": [
      "Saved model: results/lstm/cluster_0/lstm_cluster_0_round_1.pt\n",
      " Processing other with 428 clients\n",
      "Sampling 64 Clients\n"
     ]
    },
    {
     "name": "stderr",
     "output_type": "stream",
     "text": [
      "Training other: 100%|██████████| 64/64 [00:28<00:00,  2.24it/s]\n"
     ]
    },
    {
     "name": "stdout",
     "output_type": "stream",
     "text": [
      "Saved model: results/lstm/other/lstm_other_round_1.pt\n",
      " Processing cluster_1 with 269 clients\n",
      "Sampling 40 Clients\n"
     ]
    },
    {
     "name": "stderr",
     "output_type": "stream",
     "text": [
      "Training cluster_1: 100%|██████████| 40/40 [00:17<00:00,  2.22it/s]\n"
     ]
    },
    {
     "name": "stdout",
     "output_type": "stream",
     "text": [
      "Saved model: results/lstm/cluster_1/lstm_cluster_1_round_1.pt\n",
      " Processing cluster_2 with 179 clients\n",
      "Sampling 26 Clients\n"
     ]
    },
    {
     "name": "stderr",
     "output_type": "stream",
     "text": [
      "Training cluster_2: 100%|██████████| 26/26 [00:11<00:00,  2.17it/s]\n"
     ]
    },
    {
     "name": "stdout",
     "output_type": "stream",
     "text": [
      "Saved model: results/lstm/cluster_2/lstm_cluster_2_round_1.pt\n",
      "\\Round 2/10\n",
      " Processing cluster_0 with 537 clients\n",
      "Sampling 80 Clients\n"
     ]
    },
    {
     "name": "stderr",
     "output_type": "stream",
     "text": [
      "Training cluster_0: 100%|██████████| 80/80 [00:35<00:00,  2.25it/s]\n"
     ]
    },
    {
     "name": "stdout",
     "output_type": "stream",
     "text": [
      "Saved model: results/lstm/cluster_0/lstm_cluster_0_round_2.pt\n",
      " Processing other with 428 clients\n",
      "Sampling 64 Clients\n"
     ]
    },
    {
     "name": "stderr",
     "output_type": "stream",
     "text": [
      "Training other: 100%|██████████| 64/64 [00:28<00:00,  2.27it/s]\n"
     ]
    },
    {
     "name": "stdout",
     "output_type": "stream",
     "text": [
      "Saved model: results/lstm/other/lstm_other_round_2.pt\n",
      " Processing cluster_1 with 269 clients\n",
      "Sampling 40 Clients\n"
     ]
    },
    {
     "name": "stderr",
     "output_type": "stream",
     "text": [
      "Training cluster_1: 100%|██████████| 40/40 [00:18<00:00,  2.21it/s]\n"
     ]
    },
    {
     "name": "stdout",
     "output_type": "stream",
     "text": [
      "Saved model: results/lstm/cluster_1/lstm_cluster_1_round_2.pt\n",
      " Processing cluster_2 with 179 clients\n",
      "Sampling 26 Clients\n"
     ]
    },
    {
     "name": "stderr",
     "output_type": "stream",
     "text": [
      "Training cluster_2: 100%|██████████| 26/26 [00:12<00:00,  2.14it/s]\n"
     ]
    },
    {
     "name": "stdout",
     "output_type": "stream",
     "text": [
      "Saved model: results/lstm/cluster_2/lstm_cluster_2_round_2.pt\n",
      "\\Round 3/10\n",
      " Processing cluster_0 with 537 clients\n",
      "Sampling 80 Clients\n"
     ]
    },
    {
     "name": "stderr",
     "output_type": "stream",
     "text": [
      "Training cluster_0: 100%|██████████| 80/80 [00:35<00:00,  2.24it/s]\n"
     ]
    },
    {
     "name": "stdout",
     "output_type": "stream",
     "text": [
      "Saved model: results/lstm/cluster_0/lstm_cluster_0_round_3.pt\n",
      " Processing other with 428 clients\n",
      "Sampling 64 Clients\n"
     ]
    },
    {
     "name": "stderr",
     "output_type": "stream",
     "text": [
      "Training other: 100%|██████████| 64/64 [00:28<00:00,  2.22it/s]\n"
     ]
    },
    {
     "name": "stdout",
     "output_type": "stream",
     "text": [
      "Saved model: results/lstm/other/lstm_other_round_3.pt\n",
      " Processing cluster_1 with 269 clients\n",
      "Sampling 40 Clients\n"
     ]
    },
    {
     "name": "stderr",
     "output_type": "stream",
     "text": [
      "Training cluster_1: 100%|██████████| 40/40 [00:18<00:00,  2.15it/s]\n"
     ]
    },
    {
     "name": "stdout",
     "output_type": "stream",
     "text": [
      "Saved model: results/lstm/cluster_1/lstm_cluster_1_round_3.pt\n",
      " Processing cluster_2 with 179 clients\n",
      "Sampling 26 Clients\n"
     ]
    },
    {
     "name": "stderr",
     "output_type": "stream",
     "text": [
      "Training cluster_2: 100%|██████████| 26/26 [00:11<00:00,  2.23it/s]\n"
     ]
    },
    {
     "name": "stdout",
     "output_type": "stream",
     "text": [
      "Saved model: results/lstm/cluster_2/lstm_cluster_2_round_3.pt\n",
      "\\Round 4/10\n",
      " Processing cluster_0 with 537 clients\n",
      "Sampling 80 Clients\n"
     ]
    },
    {
     "name": "stderr",
     "output_type": "stream",
     "text": [
      "Training cluster_0: 100%|██████████| 80/80 [00:36<00:00,  2.19it/s]\n"
     ]
    },
    {
     "name": "stdout",
     "output_type": "stream",
     "text": [
      "Saved model: results/lstm/cluster_0/lstm_cluster_0_round_4.pt\n",
      " Processing other with 428 clients\n",
      "Sampling 64 Clients\n"
     ]
    },
    {
     "name": "stderr",
     "output_type": "stream",
     "text": [
      "Training other: 100%|██████████| 64/64 [00:29<00:00,  2.16it/s]\n"
     ]
    },
    {
     "name": "stdout",
     "output_type": "stream",
     "text": [
      "Saved model: results/lstm/other/lstm_other_round_4.pt\n",
      " Processing cluster_1 with 269 clients\n",
      "Sampling 40 Clients\n"
     ]
    },
    {
     "name": "stderr",
     "output_type": "stream",
     "text": [
      "Training cluster_1: 100%|██████████| 40/40 [00:18<00:00,  2.20it/s]\n"
     ]
    },
    {
     "name": "stdout",
     "output_type": "stream",
     "text": [
      "Saved model: results/lstm/cluster_1/lstm_cluster_1_round_4.pt\n",
      " Processing cluster_2 with 179 clients\n",
      "Sampling 26 Clients\n"
     ]
    },
    {
     "name": "stderr",
     "output_type": "stream",
     "text": [
      "Training cluster_2: 100%|██████████| 26/26 [00:12<00:00,  2.12it/s]\n"
     ]
    },
    {
     "name": "stdout",
     "output_type": "stream",
     "text": [
      "Saved model: results/lstm/cluster_2/lstm_cluster_2_round_4.pt\n",
      "\\Round 5/10\n",
      " Processing cluster_0 with 537 clients\n",
      "Sampling 80 Clients\n"
     ]
    },
    {
     "name": "stderr",
     "output_type": "stream",
     "text": [
      "Training cluster_0: 100%|██████████| 80/80 [00:37<00:00,  2.15it/s]\n"
     ]
    },
    {
     "name": "stdout",
     "output_type": "stream",
     "text": [
      "Saved model: results/lstm/cluster_0/lstm_cluster_0_round_5.pt\n",
      " Processing other with 428 clients\n",
      "Sampling 64 Clients\n"
     ]
    },
    {
     "name": "stderr",
     "output_type": "stream",
     "text": [
      "Training other: 100%|██████████| 64/64 [00:29<00:00,  2.19it/s]\n"
     ]
    },
    {
     "name": "stdout",
     "output_type": "stream",
     "text": [
      "Saved model: results/lstm/other/lstm_other_round_5.pt\n",
      " Processing cluster_1 with 269 clients\n",
      "Sampling 40 Clients\n"
     ]
    },
    {
     "name": "stderr",
     "output_type": "stream",
     "text": [
      "Training cluster_1: 100%|██████████| 40/40 [00:18<00:00,  2.21it/s]\n"
     ]
    },
    {
     "name": "stdout",
     "output_type": "stream",
     "text": [
      "Saved model: results/lstm/cluster_1/lstm_cluster_1_round_5.pt\n",
      " Processing cluster_2 with 179 clients\n",
      "Sampling 26 Clients\n"
     ]
    },
    {
     "name": "stderr",
     "output_type": "stream",
     "text": [
      "Training cluster_2: 100%|██████████| 26/26 [00:11<00:00,  2.19it/s]\n"
     ]
    },
    {
     "name": "stdout",
     "output_type": "stream",
     "text": [
      "Saved model: results/lstm/cluster_2/lstm_cluster_2_round_5.pt\n",
      "\\Round 6/10\n",
      " Processing cluster_0 with 537 clients\n",
      "Sampling 80 Clients\n"
     ]
    },
    {
     "name": "stderr",
     "output_type": "stream",
     "text": [
      "Training cluster_0: 100%|██████████| 80/80 [00:36<00:00,  2.17it/s]\n"
     ]
    },
    {
     "name": "stdout",
     "output_type": "stream",
     "text": [
      "Saved model: results/lstm/cluster_0/lstm_cluster_0_round_6.pt\n",
      " Processing other with 428 clients\n",
      "Sampling 64 Clients\n"
     ]
    },
    {
     "name": "stderr",
     "output_type": "stream",
     "text": [
      "Training other: 100%|██████████| 64/64 [00:29<00:00,  2.20it/s]\n"
     ]
    },
    {
     "name": "stdout",
     "output_type": "stream",
     "text": [
      "Saved model: results/lstm/other/lstm_other_round_6.pt\n",
      " Processing cluster_1 with 269 clients\n",
      "Sampling 40 Clients\n"
     ]
    },
    {
     "name": "stderr",
     "output_type": "stream",
     "text": [
      "Training cluster_1: 100%|██████████| 40/40 [00:18<00:00,  2.17it/s]\n"
     ]
    },
    {
     "name": "stdout",
     "output_type": "stream",
     "text": [
      "Saved model: results/lstm/cluster_1/lstm_cluster_1_round_6.pt\n",
      " Processing cluster_2 with 179 clients\n",
      "Sampling 26 Clients\n"
     ]
    },
    {
     "name": "stderr",
     "output_type": "stream",
     "text": [
      "Training cluster_2: 100%|██████████| 26/26 [00:11<00:00,  2.17it/s]\n"
     ]
    },
    {
     "name": "stdout",
     "output_type": "stream",
     "text": [
      "Saved model: results/lstm/cluster_2/lstm_cluster_2_round_6.pt\n",
      "\\Round 7/10\n",
      " Processing cluster_0 with 537 clients\n",
      "Sampling 80 Clients\n"
     ]
    },
    {
     "name": "stderr",
     "output_type": "stream",
     "text": [
      "Training cluster_0: 100%|██████████| 80/80 [00:37<00:00,  2.15it/s]\n"
     ]
    },
    {
     "name": "stdout",
     "output_type": "stream",
     "text": [
      "Saved model: results/lstm/cluster_0/lstm_cluster_0_round_7.pt\n",
      " Processing other with 428 clients\n",
      "Sampling 64 Clients\n"
     ]
    },
    {
     "name": "stderr",
     "output_type": "stream",
     "text": [
      "Training other: 100%|██████████| 64/64 [00:28<00:00,  2.25it/s]\n"
     ]
    },
    {
     "name": "stdout",
     "output_type": "stream",
     "text": [
      "Saved model: results/lstm/other/lstm_other_round_7.pt\n",
      " Processing cluster_1 with 269 clients\n",
      "Sampling 40 Clients\n"
     ]
    },
    {
     "name": "stderr",
     "output_type": "stream",
     "text": [
      "Training cluster_1: 100%|██████████| 40/40 [00:18<00:00,  2.20it/s]\n"
     ]
    },
    {
     "name": "stdout",
     "output_type": "stream",
     "text": [
      "Saved model: results/lstm/cluster_1/lstm_cluster_1_round_7.pt\n",
      " Processing cluster_2 with 179 clients\n",
      "Sampling 26 Clients\n"
     ]
    },
    {
     "name": "stderr",
     "output_type": "stream",
     "text": [
      "Training cluster_2: 100%|██████████| 26/26 [00:11<00:00,  2.17it/s]\n"
     ]
    },
    {
     "name": "stdout",
     "output_type": "stream",
     "text": [
      "Saved model: results/lstm/cluster_2/lstm_cluster_2_round_7.pt\n",
      "\\Round 8/10\n",
      " Processing cluster_0 with 537 clients\n",
      "Sampling 80 Clients\n"
     ]
    },
    {
     "name": "stderr",
     "output_type": "stream",
     "text": [
      "Training cluster_0: 100%|██████████| 80/80 [00:36<00:00,  2.22it/s]\n"
     ]
    },
    {
     "name": "stdout",
     "output_type": "stream",
     "text": [
      "Saved model: results/lstm/cluster_0/lstm_cluster_0_round_8.pt\n",
      " Processing other with 428 clients\n",
      "Sampling 64 Clients\n"
     ]
    },
    {
     "name": "stderr",
     "output_type": "stream",
     "text": [
      "Training other: 100%|██████████| 64/64 [00:29<00:00,  2.20it/s]\n"
     ]
    },
    {
     "name": "stdout",
     "output_type": "stream",
     "text": [
      "Saved model: results/lstm/other/lstm_other_round_8.pt\n",
      " Processing cluster_1 with 269 clients\n",
      "Sampling 40 Clients\n"
     ]
    },
    {
     "name": "stderr",
     "output_type": "stream",
     "text": [
      "Training cluster_1: 100%|██████████| 40/40 [00:18<00:00,  2.19it/s]\n"
     ]
    },
    {
     "name": "stdout",
     "output_type": "stream",
     "text": [
      "Saved model: results/lstm/cluster_1/lstm_cluster_1_round_8.pt\n",
      " Processing cluster_2 with 179 clients\n",
      "Sampling 26 Clients\n"
     ]
    },
    {
     "name": "stderr",
     "output_type": "stream",
     "text": [
      "Training cluster_2: 100%|██████████| 26/26 [00:11<00:00,  2.25it/s]\n"
     ]
    },
    {
     "name": "stdout",
     "output_type": "stream",
     "text": [
      "Saved model: results/lstm/cluster_2/lstm_cluster_2_round_8.pt\n",
      "\\Round 9/10\n",
      " Processing cluster_0 with 537 clients\n",
      "Sampling 80 Clients\n"
     ]
    },
    {
     "name": "stderr",
     "output_type": "stream",
     "text": [
      "Training cluster_0: 100%|██████████| 80/80 [00:35<00:00,  2.22it/s]\n"
     ]
    },
    {
     "name": "stdout",
     "output_type": "stream",
     "text": [
      "Saved model: results/lstm/cluster_0/lstm_cluster_0_round_9.pt\n",
      " Processing other with 428 clients\n",
      "Sampling 64 Clients\n"
     ]
    },
    {
     "name": "stderr",
     "output_type": "stream",
     "text": [
      "Training other: 100%|██████████| 64/64 [00:28<00:00,  2.23it/s]\n"
     ]
    },
    {
     "name": "stdout",
     "output_type": "stream",
     "text": [
      "Saved model: results/lstm/other/lstm_other_round_9.pt\n",
      " Processing cluster_1 with 269 clients\n",
      "Sampling 40 Clients\n"
     ]
    },
    {
     "name": "stderr",
     "output_type": "stream",
     "text": [
      "Training cluster_1: 100%|██████████| 40/40 [00:18<00:00,  2.18it/s]\n"
     ]
    },
    {
     "name": "stdout",
     "output_type": "stream",
     "text": [
      "Saved model: results/lstm/cluster_1/lstm_cluster_1_round_9.pt\n",
      " Processing cluster_2 with 179 clients\n",
      "Sampling 26 Clients\n"
     ]
    },
    {
     "name": "stderr",
     "output_type": "stream",
     "text": [
      "Training cluster_2: 100%|██████████| 26/26 [00:11<00:00,  2.21it/s]\n"
     ]
    },
    {
     "name": "stdout",
     "output_type": "stream",
     "text": [
      "Saved model: results/lstm/cluster_2/lstm_cluster_2_round_9.pt\n",
      "\\Round 10/10\n",
      " Processing cluster_0 with 537 clients\n",
      "Sampling 80 Clients\n"
     ]
    },
    {
     "name": "stderr",
     "output_type": "stream",
     "text": [
      "Training cluster_0: 100%|██████████| 80/80 [00:36<00:00,  2.17it/s]\n"
     ]
    },
    {
     "name": "stdout",
     "output_type": "stream",
     "text": [
      "Saved model: results/lstm/cluster_0/lstm_cluster_0_round_10.pt\n",
      " Processing other with 428 clients\n",
      "Sampling 64 Clients\n"
     ]
    },
    {
     "name": "stderr",
     "output_type": "stream",
     "text": [
      "Training other: 100%|██████████| 64/64 [00:29<00:00,  2.20it/s]\n"
     ]
    },
    {
     "name": "stdout",
     "output_type": "stream",
     "text": [
      "Saved model: results/lstm/other/lstm_other_round_10.pt\n",
      " Processing cluster_1 with 269 clients\n",
      "Sampling 40 Clients\n"
     ]
    },
    {
     "name": "stderr",
     "output_type": "stream",
     "text": [
      "Training cluster_1: 100%|██████████| 40/40 [00:18<00:00,  2.20it/s]\n"
     ]
    },
    {
     "name": "stdout",
     "output_type": "stream",
     "text": [
      "Saved model: results/lstm/cluster_1/lstm_cluster_1_round_10.pt\n",
      " Processing cluster_2 with 179 clients\n",
      "Sampling 26 Clients\n"
     ]
    },
    {
     "name": "stderr",
     "output_type": "stream",
     "text": [
      "Training cluster_2:  19%|█▉        | 5/26 [00:02<00:10,  1.94it/s]"
     ]
    }
   ],
   "source": []
  },
  {
   "cell_type": "markdown",
   "id": "1a5e2e5e",
   "metadata": {},
   "source": [
    "### FedAVG"
   ]
  },
  {
   "cell_type": "code",
   "execution_count": null,
   "id": "0a335fc1",
   "metadata": {},
   "outputs": [
    {
     "name": "stdout",
     "output_type": "stream",
     "text": [
      "Starting experiment with model: lstm\n",
      "Round 1/10\n"
     ]
    },
    {
     "name": "stderr",
     "output_type": "stream",
     "text": [
      "Training clients:   0%|          | 0/150 [00:00<?, ?it/s]"
     ]
    },
    {
     "name": "stderr",
     "output_type": "stream",
     "text": [
      "Training clients: 100%|██████████| 150/150 [00:48<00:00,  3.07it/s]\n"
     ]
    },
    {
     "name": "stdout",
     "output_type": "stream",
     "text": [
      "Saved global model to results/lstm/lstm_round_1_fedAvg.pt\n",
      "Round 2/10\n"
     ]
    },
    {
     "name": "stderr",
     "output_type": "stream",
     "text": [
      "Training clients: 100%|██████████| 150/150 [00:47<00:00,  3.14it/s]\n"
     ]
    },
    {
     "name": "stdout",
     "output_type": "stream",
     "text": [
      "Saved global model to results/lstm/lstm_round_2_fedAvg.pt\n",
      "Round 3/10\n"
     ]
    },
    {
     "name": "stderr",
     "output_type": "stream",
     "text": [
      "Training clients: 100%|██████████| 150/150 [00:48<00:00,  3.11it/s]\n"
     ]
    },
    {
     "name": "stdout",
     "output_type": "stream",
     "text": [
      "Saved global model to results/lstm/lstm_round_3_fedAvg.pt\n",
      "Round 4/10\n"
     ]
    },
    {
     "name": "stderr",
     "output_type": "stream",
     "text": [
      "Training clients: 100%|██████████| 150/150 [00:48<00:00,  3.12it/s]\n"
     ]
    },
    {
     "name": "stdout",
     "output_type": "stream",
     "text": [
      "Saved global model to results/lstm/lstm_round_4_fedAvg.pt\n",
      "Round 5/10\n"
     ]
    },
    {
     "name": "stderr",
     "output_type": "stream",
     "text": [
      "Training clients: 100%|██████████| 150/150 [00:47<00:00,  3.14it/s]\n"
     ]
    },
    {
     "name": "stdout",
     "output_type": "stream",
     "text": [
      "Saved global model to results/lstm/lstm_round_5_fedAvg.pt\n",
      "Round 6/10\n"
     ]
    },
    {
     "name": "stderr",
     "output_type": "stream",
     "text": [
      "Training clients:  97%|█████████▋| 145/150 [00:46<00:01,  2.96it/s]"
     ]
    }
   ],
   "source": [
    "import os\n",
    "import torch\n",
    "import torch.optim as optim\n",
    "from tqdm import tqdm\n",
    "\n",
    "\n",
    "# # Weighted averaging function (uniform weights for now)\n",
    "# def average_weights(weights_list):\n",
    "#     return [np.mean(np.stack(layer_weights), axis=0) for layer_weights in zip(*weights_list)]\n",
    "\n",
    "# Make sure your model_fn is already defined as in your message\n",
    "\n",
    "# Main experiment loop\n",
    "for model_name in MODEL_NAMES:\n",
    "    print(f\"Starting experiment with model: {model_name}\")\n",
    "\n",
    "    # Directory to save checkpoints\n",
    "    model_dir = os.path.join(\"results\", model_name)\n",
    "    os.makedirs(model_dir, exist_ok=True)\n",
    "\n",
    "    # Init model and weights\n",
    "    global_model = model_fn(model_name).to(DEVICE)\n",
    "    global_weights = get_weights(global_model)\n",
    "\n",
    "    for rnd in range(NUM_ROUNDS):\n",
    "        print(f\"Round {rnd+1}/{NUM_ROUNDS}\")\n",
    "        sampled_clients = random.sample(range(NUM_CLIENTS), k=int(CLIENT_FRAC * NUM_CLIENTS))\n",
    "        local_weights = []\n",
    "\n",
    "        for cid in tqdm(sampled_clients, desc=\"Training clients\"):\n",
    "            local_model = model_fn(model_name).to(DEVICE)\n",
    "            set_weights(local_model, global_weights)\n",
    "            train_loader, test_loader = load_energy_data_feather(cid, filepath=DATA_FILE)\n",
    "\n",
    "            updated_weights, fin_loss = train_model(\n",
    "                local_model, train_loader,\n",
    "                device=DEVICE,\n",
    "                learning_rate=LR,\n",
    "                loss_fn=None,\n",
    "                optimizer_class=optim.Adam,\n",
    "                epochs=LOCAL_EPOCHS\n",
    "            )\n",
    "            local_weights.append(updated_weights)\n",
    "\n",
    "        # Federated averaging\n",
    "        global_weights = average_weights(local_weights)\n",
    "        set_weights(global_model, global_weights)\n",
    "\n",
    "        # Save model checkpoint\n",
    "        checkpoint_path = os.path.join(model_dir, f\"{model_name}_round_{rnd+1}_fedAvg.pt\")\n",
    "        torch.save(global_model.state_dict(), checkpoint_path)\n",
    "        print(f\"Saved global model to {checkpoint_path}\")\n"
   ]
  },
  {
   "cell_type": "code",
   "execution_count": null,
   "id": "654e44db",
   "metadata": {},
   "outputs": [],
   "source": []
  },
  {
   "cell_type": "markdown",
   "id": "02a8a8d1",
   "metadata": {},
   "source": [
    "### FedAvgM"
   ]
  },
  {
   "cell_type": "code",
   "execution_count": null,
   "id": "0e7f6818",
   "metadata": {},
   "outputs": [],
   "source": [
    "\n",
    "\n",
    "# Config\n",
    "# List of models to experiment with\n",
    "MODEL_NAMES = [\"lstm\", \"gru\", \"moe_lstm\", \"moe_gru\"]\n",
    "\n",
    "# Config\n",
    "NUM_CLIENTS = 1000\n",
    "CLIENT_FRAC = 0.15\n",
    "NUM_ROUNDS = 10\n",
    "LOCAL_EPOCHS = 10\n",
    "LR = 0.001\n",
    "DEVICE = \"cuda\" if torch.cuda.is_available() else \"cpu\"\n",
    "DATA_FILE =\"train_cleaned_reindex.feather\" # \"meter_0_data_cleaned.feather\"\n"
   ]
  },
  {
   "cell_type": "code",
   "execution_count": null,
   "id": "8a6693f9",
   "metadata": {},
   "outputs": [
    {
     "name": "stdout",
     "output_type": "stream",
     "text": [
      "Starting experiment with model: lstm\n",
      "Round 1/10\n"
     ]
    },
    {
     "name": "stderr",
     "output_type": "stream",
     "text": [
      "Training clients: 100%|██████████| 15/15 [00:42<00:00,  2.83s/it]\n"
     ]
    },
    {
     "name": "stdout",
     "output_type": "stream",
     "text": [
      "Saved global model to results\\lstm\\lstm_round_1_kr_norm.pt\n",
      "Round 2/10\n"
     ]
    },
    {
     "name": "stderr",
     "output_type": "stream",
     "text": [
      "Training clients:  40%|████      | 6/15 [00:20<00:30,  3.39s/it]\n"
     ]
    },
    {
     "ename": "KeyboardInterrupt",
     "evalue": "",
     "output_type": "error",
     "traceback": [
      "\u001b[1;31m---------------------------------------------------------------------------\u001b[0m",
      "\u001b[1;31mKeyboardInterrupt\u001b[0m                         Traceback (most recent call last)",
      "Cell \u001b[1;32mIn[7], line 37\u001b[0m\n\u001b[0;32m     34\u001b[0m     set_weights(local_model, global_weights)\n\u001b[0;32m     35\u001b[0m     train_loader, test_loader \u001b[38;5;241m=\u001b[39m load_energy_data_feather(cid, filepath\u001b[38;5;241m=\u001b[39mDATA_FILE)\n\u001b[1;32m---> 37\u001b[0m     updated_weights, fin_loss \u001b[38;5;241m=\u001b[39m \u001b[43mtrain_model\u001b[49m\u001b[43m(\u001b[49m\n\u001b[0;32m     38\u001b[0m \u001b[43m        \u001b[49m\u001b[43mlocal_model\u001b[49m\u001b[43m,\u001b[49m\u001b[43m \u001b[49m\u001b[43mtrain_loader\u001b[49m\u001b[43m,\u001b[49m\n\u001b[0;32m     39\u001b[0m \u001b[43m        \u001b[49m\u001b[43mdevice\u001b[49m\u001b[38;5;241;43m=\u001b[39;49m\u001b[43mDEVICE\u001b[49m\u001b[43m,\u001b[49m\n\u001b[0;32m     40\u001b[0m \u001b[43m        \u001b[49m\u001b[43mlearning_rate\u001b[49m\u001b[38;5;241;43m=\u001b[39;49m\u001b[43mLR\u001b[49m\u001b[43m,\u001b[49m\n\u001b[0;32m     41\u001b[0m \u001b[43m        \u001b[49m\u001b[43mloss_fn\u001b[49m\u001b[38;5;241;43m=\u001b[39;49m\u001b[38;5;28;43;01mNone\u001b[39;49;00m\u001b[43m,\u001b[49m\n\u001b[0;32m     42\u001b[0m \u001b[43m        \u001b[49m\u001b[43moptimizer_class\u001b[49m\u001b[38;5;241;43m=\u001b[39;49m\u001b[43moptim\u001b[49m\u001b[38;5;241;43m.\u001b[39;49m\u001b[43mAdam\u001b[49m\u001b[43m,\u001b[49m\n\u001b[0;32m     43\u001b[0m \u001b[43m        \u001b[49m\u001b[43mepochs\u001b[49m\u001b[38;5;241;43m=\u001b[39;49m\u001b[43mLOCAL_EPOCHS\u001b[49m\n\u001b[0;32m     44\u001b[0m \u001b[43m    \u001b[49m\u001b[43m)\u001b[49m\n\u001b[0;32m     45\u001b[0m     local_weights\u001b[38;5;241m.\u001b[39mappend(updated_weights)\n\u001b[0;32m     47\u001b[0m \u001b[38;5;66;03m# Federated averaging\u001b[39;00m\n",
      "File \u001b[1;32mc:\\Users\\srina\\OneDrive\\Documents\\Federated Learning - Priyanka\\Diffusion_FL\\energy-ts-diffusion\\my_utils.py:103\u001b[0m, in \u001b[0;36mtrain_model\u001b[1;34m(model, train_loader, device, learning_rate, loss_fn, optimizer_class, epochs)\u001b[0m\n\u001b[0;32m    100\u001b[0m     y_batch \u001b[38;5;241m=\u001b[39m y_batch\u001b[38;5;241m.\u001b[39msqueeze(\u001b[38;5;241m-\u001b[39m\u001b[38;5;241m1\u001b[39m)\n\u001b[0;32m    102\u001b[0m optimizer\u001b[38;5;241m.\u001b[39mzero_grad()\n\u001b[1;32m--> 103\u001b[0m output \u001b[38;5;241m=\u001b[39m \u001b[43mmodel\u001b[49m\u001b[43m(\u001b[49m\u001b[43mX_batch\u001b[49m\u001b[43m)\u001b[49m\n\u001b[0;32m    104\u001b[0m loss \u001b[38;5;241m=\u001b[39m loss_fn(output, y_batch)\n\u001b[0;32m    105\u001b[0m loss\u001b[38;5;241m.\u001b[39mbackward()\n",
      "File \u001b[1;32mc:\\Users\\srina\\OneDrive\\Documents\\Federated Learning - Priyanka\\Diffusion_FL\\energy-ts-diffusion\\darts\\lib\\site-packages\\torch\\nn\\modules\\module.py:1736\u001b[0m, in \u001b[0;36mModule._wrapped_call_impl\u001b[1;34m(self, *args, **kwargs)\u001b[0m\n\u001b[0;32m   1734\u001b[0m     \u001b[38;5;28;01mreturn\u001b[39;00m \u001b[38;5;28mself\u001b[39m\u001b[38;5;241m.\u001b[39m_compiled_call_impl(\u001b[38;5;241m*\u001b[39margs, \u001b[38;5;241m*\u001b[39m\u001b[38;5;241m*\u001b[39mkwargs)  \u001b[38;5;66;03m# type: ignore[misc]\u001b[39;00m\n\u001b[0;32m   1735\u001b[0m \u001b[38;5;28;01melse\u001b[39;00m:\n\u001b[1;32m-> 1736\u001b[0m     \u001b[38;5;28;01mreturn\u001b[39;00m \u001b[38;5;28mself\u001b[39m\u001b[38;5;241m.\u001b[39m_call_impl(\u001b[38;5;241m*\u001b[39margs, \u001b[38;5;241m*\u001b[39m\u001b[38;5;241m*\u001b[39mkwargs)\n",
      "File \u001b[1;32mc:\\Users\\srina\\OneDrive\\Documents\\Federated Learning - Priyanka\\Diffusion_FL\\energy-ts-diffusion\\darts\\lib\\site-packages\\torch\\nn\\modules\\module.py:1747\u001b[0m, in \u001b[0;36mModule._call_impl\u001b[1;34m(self, *args, **kwargs)\u001b[0m\n\u001b[0;32m   1742\u001b[0m \u001b[38;5;66;03m# If we don't have any hooks, we want to skip the rest of the logic in\u001b[39;00m\n\u001b[0;32m   1743\u001b[0m \u001b[38;5;66;03m# this function, and just call forward.\u001b[39;00m\n\u001b[0;32m   1744\u001b[0m \u001b[38;5;28;01mif\u001b[39;00m \u001b[38;5;129;01mnot\u001b[39;00m (\u001b[38;5;28mself\u001b[39m\u001b[38;5;241m.\u001b[39m_backward_hooks \u001b[38;5;129;01mor\u001b[39;00m \u001b[38;5;28mself\u001b[39m\u001b[38;5;241m.\u001b[39m_backward_pre_hooks \u001b[38;5;129;01mor\u001b[39;00m \u001b[38;5;28mself\u001b[39m\u001b[38;5;241m.\u001b[39m_forward_hooks \u001b[38;5;129;01mor\u001b[39;00m \u001b[38;5;28mself\u001b[39m\u001b[38;5;241m.\u001b[39m_forward_pre_hooks\n\u001b[0;32m   1745\u001b[0m         \u001b[38;5;129;01mor\u001b[39;00m _global_backward_pre_hooks \u001b[38;5;129;01mor\u001b[39;00m _global_backward_hooks\n\u001b[0;32m   1746\u001b[0m         \u001b[38;5;129;01mor\u001b[39;00m _global_forward_hooks \u001b[38;5;129;01mor\u001b[39;00m _global_forward_pre_hooks):\n\u001b[1;32m-> 1747\u001b[0m     \u001b[38;5;28;01mreturn\u001b[39;00m forward_call(\u001b[38;5;241m*\u001b[39margs, \u001b[38;5;241m*\u001b[39m\u001b[38;5;241m*\u001b[39mkwargs)\n\u001b[0;32m   1749\u001b[0m result \u001b[38;5;241m=\u001b[39m \u001b[38;5;28;01mNone\u001b[39;00m\n\u001b[0;32m   1750\u001b[0m called_always_called_hooks \u001b[38;5;241m=\u001b[39m \u001b[38;5;28mset\u001b[39m()\n",
      "File \u001b[1;32mc:\\Users\\srina\\OneDrive\\Documents\\Federated Learning - Priyanka\\Diffusion_FL\\energy-ts-diffusion\\Models.py:136\u001b[0m, in \u001b[0;36mLSTMModel.forward\u001b[1;34m(self, x)\u001b[0m\n\u001b[0;32m    134\u001b[0m \u001b[38;5;28;01mdef\u001b[39;00m\u001b[38;5;250m \u001b[39m\u001b[38;5;21mforward\u001b[39m(\u001b[38;5;28mself\u001b[39m, x):\n\u001b[0;32m    135\u001b[0m     \u001b[38;5;66;03m# x: shape (batch, time, input_features)\u001b[39;00m\n\u001b[1;32m--> 136\u001b[0m     out, _ \u001b[38;5;241m=\u001b[39m \u001b[38;5;28;43mself\u001b[39;49m\u001b[38;5;241;43m.\u001b[39;49m\u001b[43mlstm\u001b[49m\u001b[43m(\u001b[49m\u001b[43mx\u001b[49m\u001b[43m)\u001b[49m            \u001b[38;5;66;03m# out: (batch, time, hidden_size)\u001b[39;00m\n\u001b[0;32m    137\u001b[0m     out \u001b[38;5;241m=\u001b[39m out[:, \u001b[38;5;241m-\u001b[39m\u001b[38;5;241m1\u001b[39m, :]              \u001b[38;5;66;03m# Take last time step output: (batch, hidden_size)\u001b[39;00m\n\u001b[0;32m    138\u001b[0m     out \u001b[38;5;241m=\u001b[39m \u001b[38;5;28mself\u001b[39m\u001b[38;5;241m.\u001b[39mfc(out)               \u001b[38;5;66;03m# Final output: (batch, output_size)\u001b[39;00m\n",
      "File \u001b[1;32mc:\\Users\\srina\\OneDrive\\Documents\\Federated Learning - Priyanka\\Diffusion_FL\\energy-ts-diffusion\\darts\\lib\\site-packages\\torch\\nn\\modules\\module.py:1736\u001b[0m, in \u001b[0;36mModule._wrapped_call_impl\u001b[1;34m(self, *args, **kwargs)\u001b[0m\n\u001b[0;32m   1734\u001b[0m     \u001b[38;5;28;01mreturn\u001b[39;00m \u001b[38;5;28mself\u001b[39m\u001b[38;5;241m.\u001b[39m_compiled_call_impl(\u001b[38;5;241m*\u001b[39margs, \u001b[38;5;241m*\u001b[39m\u001b[38;5;241m*\u001b[39mkwargs)  \u001b[38;5;66;03m# type: ignore[misc]\u001b[39;00m\n\u001b[0;32m   1735\u001b[0m \u001b[38;5;28;01melse\u001b[39;00m:\n\u001b[1;32m-> 1736\u001b[0m     \u001b[38;5;28;01mreturn\u001b[39;00m \u001b[38;5;28mself\u001b[39m\u001b[38;5;241m.\u001b[39m_call_impl(\u001b[38;5;241m*\u001b[39margs, \u001b[38;5;241m*\u001b[39m\u001b[38;5;241m*\u001b[39mkwargs)\n",
      "File \u001b[1;32mc:\\Users\\srina\\OneDrive\\Documents\\Federated Learning - Priyanka\\Diffusion_FL\\energy-ts-diffusion\\darts\\lib\\site-packages\\torch\\nn\\modules\\module.py:1747\u001b[0m, in \u001b[0;36mModule._call_impl\u001b[1;34m(self, *args, **kwargs)\u001b[0m\n\u001b[0;32m   1742\u001b[0m \u001b[38;5;66;03m# If we don't have any hooks, we want to skip the rest of the logic in\u001b[39;00m\n\u001b[0;32m   1743\u001b[0m \u001b[38;5;66;03m# this function, and just call forward.\u001b[39;00m\n\u001b[0;32m   1744\u001b[0m \u001b[38;5;28;01mif\u001b[39;00m \u001b[38;5;129;01mnot\u001b[39;00m (\u001b[38;5;28mself\u001b[39m\u001b[38;5;241m.\u001b[39m_backward_hooks \u001b[38;5;129;01mor\u001b[39;00m \u001b[38;5;28mself\u001b[39m\u001b[38;5;241m.\u001b[39m_backward_pre_hooks \u001b[38;5;129;01mor\u001b[39;00m \u001b[38;5;28mself\u001b[39m\u001b[38;5;241m.\u001b[39m_forward_hooks \u001b[38;5;129;01mor\u001b[39;00m \u001b[38;5;28mself\u001b[39m\u001b[38;5;241m.\u001b[39m_forward_pre_hooks\n\u001b[0;32m   1745\u001b[0m         \u001b[38;5;129;01mor\u001b[39;00m _global_backward_pre_hooks \u001b[38;5;129;01mor\u001b[39;00m _global_backward_hooks\n\u001b[0;32m   1746\u001b[0m         \u001b[38;5;129;01mor\u001b[39;00m _global_forward_hooks \u001b[38;5;129;01mor\u001b[39;00m _global_forward_pre_hooks):\n\u001b[1;32m-> 1747\u001b[0m     \u001b[38;5;28;01mreturn\u001b[39;00m forward_call(\u001b[38;5;241m*\u001b[39margs, \u001b[38;5;241m*\u001b[39m\u001b[38;5;241m*\u001b[39mkwargs)\n\u001b[0;32m   1749\u001b[0m result \u001b[38;5;241m=\u001b[39m \u001b[38;5;28;01mNone\u001b[39;00m\n\u001b[0;32m   1750\u001b[0m called_always_called_hooks \u001b[38;5;241m=\u001b[39m \u001b[38;5;28mset\u001b[39m()\n",
      "File \u001b[1;32mc:\\Users\\srina\\OneDrive\\Documents\\Federated Learning - Priyanka\\Diffusion_FL\\energy-ts-diffusion\\darts\\lib\\site-packages\\torch\\nn\\modules\\rnn.py:1123\u001b[0m, in \u001b[0;36mLSTM.forward\u001b[1;34m(self, input, hx)\u001b[0m\n\u001b[0;32m   1120\u001b[0m         hx \u001b[38;5;241m=\u001b[39m \u001b[38;5;28mself\u001b[39m\u001b[38;5;241m.\u001b[39mpermute_hidden(hx, sorted_indices)\n\u001b[0;32m   1122\u001b[0m \u001b[38;5;28;01mif\u001b[39;00m batch_sizes \u001b[38;5;129;01mis\u001b[39;00m \u001b[38;5;28;01mNone\u001b[39;00m:\n\u001b[1;32m-> 1123\u001b[0m     result \u001b[38;5;241m=\u001b[39m \u001b[43m_VF\u001b[49m\u001b[38;5;241;43m.\u001b[39;49m\u001b[43mlstm\u001b[49m\u001b[43m(\u001b[49m\n\u001b[0;32m   1124\u001b[0m \u001b[43m        \u001b[49m\u001b[38;5;28;43minput\u001b[39;49m\u001b[43m,\u001b[49m\n\u001b[0;32m   1125\u001b[0m \u001b[43m        \u001b[49m\u001b[43mhx\u001b[49m\u001b[43m,\u001b[49m\n\u001b[0;32m   1126\u001b[0m \u001b[43m        \u001b[49m\u001b[38;5;28;43mself\u001b[39;49m\u001b[38;5;241;43m.\u001b[39;49m\u001b[43m_flat_weights\u001b[49m\u001b[43m,\u001b[49m\n\u001b[0;32m   1127\u001b[0m \u001b[43m        \u001b[49m\u001b[38;5;28;43mself\u001b[39;49m\u001b[38;5;241;43m.\u001b[39;49m\u001b[43mbias\u001b[49m\u001b[43m,\u001b[49m\n\u001b[0;32m   1128\u001b[0m \u001b[43m        \u001b[49m\u001b[38;5;28;43mself\u001b[39;49m\u001b[38;5;241;43m.\u001b[39;49m\u001b[43mnum_layers\u001b[49m\u001b[43m,\u001b[49m\n\u001b[0;32m   1129\u001b[0m \u001b[43m        \u001b[49m\u001b[38;5;28;43mself\u001b[39;49m\u001b[38;5;241;43m.\u001b[39;49m\u001b[43mdropout\u001b[49m\u001b[43m,\u001b[49m\n\u001b[0;32m   1130\u001b[0m \u001b[43m        \u001b[49m\u001b[38;5;28;43mself\u001b[39;49m\u001b[38;5;241;43m.\u001b[39;49m\u001b[43mtraining\u001b[49m\u001b[43m,\u001b[49m\n\u001b[0;32m   1131\u001b[0m \u001b[43m        \u001b[49m\u001b[38;5;28;43mself\u001b[39;49m\u001b[38;5;241;43m.\u001b[39;49m\u001b[43mbidirectional\u001b[49m\u001b[43m,\u001b[49m\n\u001b[0;32m   1132\u001b[0m \u001b[43m        \u001b[49m\u001b[38;5;28;43mself\u001b[39;49m\u001b[38;5;241;43m.\u001b[39;49m\u001b[43mbatch_first\u001b[49m\u001b[43m,\u001b[49m\n\u001b[0;32m   1133\u001b[0m \u001b[43m    \u001b[49m\u001b[43m)\u001b[49m\n\u001b[0;32m   1134\u001b[0m \u001b[38;5;28;01melse\u001b[39;00m:\n\u001b[0;32m   1135\u001b[0m     result \u001b[38;5;241m=\u001b[39m _VF\u001b[38;5;241m.\u001b[39mlstm(\n\u001b[0;32m   1136\u001b[0m         \u001b[38;5;28minput\u001b[39m,\n\u001b[0;32m   1137\u001b[0m         batch_sizes,\n\u001b[1;32m   (...)\u001b[0m\n\u001b[0;32m   1144\u001b[0m         \u001b[38;5;28mself\u001b[39m\u001b[38;5;241m.\u001b[39mbidirectional,\n\u001b[0;32m   1145\u001b[0m     )\n",
      "\u001b[1;31mKeyboardInterrupt\u001b[0m: "
     ]
    }
   ],
   "source": [
    "import os\n",
    "import torch\n",
    "import torch.optim as optim\n",
    "from tqdm import tqdm\n",
    "\n",
    "\n",
    "# # Weighted averaging function (uniform weights for now)\n",
    "# def average_weights(weights_list):\n",
    "#     return [np.mean(np.stack(layer_weights), axis=0) for layer_weights in zip(*weights_list)]\n",
    "\n",
    "# Make sure your model_fn is already defined as in your message\n",
    "\n",
    "# Main experiment loop\n",
    "for model_name in MODEL_NAMES:\n",
    "    print(f\"Starting experiment with model: {model_name}\")\n",
    "\n",
    "    # Directory to save checkpoints\n",
    "    model_dir = os.path.join(\"results\", model_name)\n",
    "    os.makedirs(model_dir, exist_ok=True)\n",
    "\n",
    "    # Init model and weights\n",
    "    global_model = model_fn(model_name).to(DEVICE)\n",
    "    global_weights = get_weights(global_model)\n",
    "\n",
    "    velocity = [np.zeros_like(w) for w in global_weights]\n",
    "\n",
    "    for rnd in range(NUM_ROUNDS):\n",
    "        print(f\"Round {rnd+1}/{NUM_ROUNDS}\")\n",
    "        sampled_clients = random.sample(range(NUM_CLIENTS), k=int(CLIENT_FRAC * NUM_CLIENTS))\n",
    "        local_weights = []\n",
    "\n",
    "        for cid in tqdm(sampled_clients, desc=\"Training clients\"):\n",
    "            local_model = model_fn(model_name).to(DEVICE)\n",
    "            set_weights(local_model, global_weights)\n",
    "            train_loader, test_loader = load_energy_data_feather(cid, filepath=DATA_FILE)\n",
    "\n",
    "            updated_weights, fin_loss = train_model(\n",
    "                local_model, train_loader,\n",
    "                device=DEVICE,\n",
    "                learning_rate=LR,\n",
    "                loss_fn=None,\n",
    "                optimizer_class=optim.Adam,\n",
    "                epochs=LOCAL_EPOCHS\n",
    "            )\n",
    "            local_weights.append(updated_weights)\n",
    "\n",
    "        # Federated averaging\n",
    "        global_weights, velocity = fedavgm_update(global_weights,local_weights,velocity)\n",
    "        set_weights(global_model, global_weights)\n",
    "\n",
    "        # Save model checkpoint\n",
    "        checkpoint_path = os.path.join(model_dir, f\"{model_name}_round_{rnd+1}_fedAvgM.pt\")\n",
    "        torch.save(global_model.state_dict(), checkpoint_path)\n",
    "        print(f\"Saved global model to {checkpoint_path}\")\n"
   ]
  },
  {
   "cell_type": "code",
   "execution_count": null,
   "id": "bdd9d5e5",
   "metadata": {},
   "outputs": [],
   "source": []
  },
  {
   "cell_type": "markdown",
   "id": "19d7749f",
   "metadata": {},
   "source": [
    "### Kuramoto FedAvg"
   ]
  },
  {
   "cell_type": "code",
   "execution_count": null,
   "id": "05e051a4",
   "metadata": {},
   "outputs": [],
   "source": [
    "\n",
    "\n",
    "# Config\n",
    "# List of models to experiment with\n",
    "MODEL_NAMES = [\"lstm\", \"gru\", \"moe_lstm\", \"moe_gru\"]\n",
    "\n",
    "# Config\n",
    "NUM_CLIENTS = 1000\n",
    "CLIENT_FRAC = 0.15\n",
    "NUM_ROUNDS = 10\n",
    "LOCAL_EPOCHS = 10\n",
    "LR = 0.001\n",
    "DEVICE = \"cuda\" if torch.cuda.is_available() else \"cpu\"\n",
    "DATA_FILE =\"train_cleaned_reindex.feather\" # \"meter_0_data_cleaned.feather\"\n"
   ]
  },
  {
   "cell_type": "code",
   "execution_count": null,
   "id": "30767af3",
   "metadata": {},
   "outputs": [],
   "source": [
    "import os\n",
    "import torch\n",
    "import torch.optim as optim\n",
    "from tqdm import tqdm\n",
    "\n",
    "\n",
    "# # Weighted averaging function (uniform weights for now)\n",
    "# def average_weights(weights_list):\n",
    "#     return [np.mean(np.stack(layer_weights), axis=0) for layer_weights in zip(*weights_list)]\n",
    "\n",
    "# Make sure your model_fn is already defined as in your message\n",
    "\n",
    "# Main experiment loop\n",
    "for model_name in MODEL_NAMES:\n",
    "    print(f\"Starting experiment with model: {model_name}\")\n",
    "\n",
    "    # Directory to save checkpoints\n",
    "    model_dir = os.path.join(\"results\", model_name)\n",
    "    os.makedirs(model_dir, exist_ok=True)\n",
    "\n",
    "    # Init model and weights\n",
    "    global_model = model_fn(model_name).to(DEVICE)\n",
    "    global_weights = get_weights(global_model)\n",
    "\n",
    "    for rnd in range(NUM_ROUNDS):\n",
    "        print(f\"Round {rnd+1}/{NUM_ROUNDS}\")\n",
    "        sampled_clients = random.sample(range(NUM_CLIENTS), k=int(CLIENT_FRAC * NUM_CLIENTS))\n",
    "        local_weights = []\n",
    "\n",
    "        for cid in tqdm(sampled_clients, desc=\"Training clients\"):\n",
    "            local_model = model_fn(model_name).to(DEVICE)\n",
    "            set_weights(local_model, global_weights)\n",
    "            train_loader, test_loader = load_energy_data_feather(cid, filepath=DATA_FILE)\n",
    "\n",
    "            updated_weights, fin_loss = train_model(\n",
    "                local_model, train_loader,\n",
    "                device=DEVICE,\n",
    "                learning_rate=LR,\n",
    "                loss_fn=None,\n",
    "                optimizer_class=optim.Adam,\n",
    "                epochs=LOCAL_EPOCHS\n",
    "            )\n",
    "            local_weights.append(updated_weights)\n",
    "\n",
    "        # Federated averaging\n",
    "        global_weights = sync_aggregate(global_weights,local_weights)\n",
    "        set_weights(global_model, global_weights)\n",
    "\n",
    "        # Save model checkpoint\n",
    "        checkpoint_path = os.path.join(model_dir, f\"{model_name}_round_{rnd+1}_kr.pt\")\n",
    "        torch.save(global_model.state_dict(), checkpoint_path)\n",
    "        print(f\"Saved global model to {checkpoint_path}\")\n"
   ]
  },
  {
   "cell_type": "code",
   "execution_count": null,
   "id": "d7b81983",
   "metadata": {},
   "outputs": [],
   "source": [
    "import os\n",
    "import torch\n",
    "import torch.optim as optim\n",
    "from tqdm import tqdm\n",
    "\n",
    "\n",
    "# # Weighted averaging function (uniform weights for now)\n",
    "# def average_weights(weights_list):\n",
    "#     return [np.mean(np.stack(layer_weights), axis=0) for layer_weights in zip(*weights_list)]\n",
    "\n",
    "# Make sure your model_fn is already defined as in your message\n",
    "\n",
    "# Main experiment loop\n",
    "for model_name in MODEL_NAMES:\n",
    "    print(f\"Starting experiment with model: {model_name}\")\n",
    "\n",
    "    # Directory to save checkpoints\n",
    "    model_dir = os.path.join(\"results\", model_name)\n",
    "    os.makedirs(model_dir, exist_ok=True)\n",
    "\n",
    "    # Init model and weights\n",
    "    global_model = model_fn(model_name).to(DEVICE)\n",
    "    global_weights = get_weights(global_model)\n",
    "\n",
    "    for rnd in range(NUM_ROUNDS):\n",
    "        print(f\"Round {rnd+1}/{NUM_ROUNDS}\")\n",
    "        sampled_clients = random.sample(range(NUM_CLIENTS), k=int(CLIENT_FRAC * NUM_CLIENTS))\n",
    "        local_weights = []\n",
    "\n",
    "        for cid in tqdm(sampled_clients, desc=\"Training clients\"):\n",
    "            local_model = model_fn(model_name).to(DEVICE)\n",
    "            set_weights(local_model, global_weights)\n",
    "            train_loader, test_loader = load_energy_data_feather(cid, filepath=DATA_FILE)\n",
    "\n",
    "            updated_weights, fin_loss = train_model(\n",
    "                local_model, train_loader,\n",
    "                device=DEVICE,\n",
    "                learning_rate=LR,\n",
    "                loss_fn=None,\n",
    "                optimizer_class=optim.Adam,\n",
    "                epochs=LOCAL_EPOCHS\n",
    "            )\n",
    "            local_weights.append(updated_weights)\n",
    "\n",
    "        # Federated averaging\n",
    "        global_weights = sync_aggregate_norm(global_weights,local_weights)\n",
    "        set_weights(global_model, global_weights)\n",
    "\n",
    "        # Save model checkpoint\n",
    "        checkpoint_path = os.path.join(model_dir, f\"{model_name}_round_{rnd+1}_kr_norm.pt\")\n",
    "        torch.save(global_model.state_dict(), checkpoint_path)\n",
    "        print(f\"Saved global model to {checkpoint_path}\")\n"
   ]
  },
  {
   "cell_type": "code",
   "execution_count": null,
   "id": "8538f4f6",
   "metadata": {},
   "outputs": [],
   "source": [
    "\n",
    "\n",
    "# Config\n",
    "# List of models to experiment with\n",
    "MODEL_NAMES = [\"lstm\", \"gru\", \"moe_lstm\", \"moe_gru\"]\n",
    "\n",
    "# Config\n",
    "NUM_CLIENTS = 1000\n",
    "CLIENT_FRAC = 0.15\n",
    "NUM_ROUNDS = 10\n",
    "LOCAL_EPOCHS = 10\n",
    "LR = 0.001\n",
    "DEVICE = \"cuda\" if torch.cuda.is_available() else \"cpu\"\n",
    "DATA_FILE =\"train_cleaned_reindex.feather\" # \"meter_0_data_cleaned.feather\"\n"
   ]
  },
  {
   "cell_type": "code",
   "execution_count": null,
   "id": "be3aeb93",
   "metadata": {},
   "outputs": [
    {
     "name": "stdout",
     "output_type": "stream",
     "text": [
      "Starting experiment with model: lstm\n",
      "Round 1/10\n"
     ]
    },
    {
     "name": "stderr",
     "output_type": "stream",
     "text": [
      "Training clients: 100%|██████████| 10/10 [01:16<00:00,  7.61s/it]\n"
     ]
    },
    {
     "name": "stdout",
     "output_type": "stream",
     "text": [
      "SYNC Weights:[1.1280927881409405e-24, 3.455221414490252e-24, 2.7815943992592906e-10, 1.5342428063772783e-20, 8.519412258989334e-11, 1.0, 4.7079616409486216e-23, 0.0, 0.0, 1.4587423713408043e-08] \n",
      "Saved global model to results\\lstm\\lstm_round_1_kr.pt\n",
      "Round 2/10\n"
     ]
    },
    {
     "name": "stderr",
     "output_type": "stream",
     "text": [
      "Training clients: 100%|██████████| 10/10 [01:16<00:00,  7.66s/it]\n"
     ]
    },
    {
     "name": "stdout",
     "output_type": "stream",
     "text": [
      "SYNC Weights:[0.051666800892013795, 2.0060822225145682e-07, 0.0038842655760772567, 0.33163288880904007, 0.05313184572821639, 0.17136356681197534, 4.1494413146093236e-12, 2.694967957872787e-05, 0.3882710659981862, 2.2412009829798056e-05] \n",
      "Saved global model to results\\lstm\\lstm_round_2_kr.pt\n",
      "Round 3/10\n"
     ]
    },
    {
     "name": "stderr",
     "output_type": "stream",
     "text": [
      "Training clients:  30%|███       | 3/10 [00:19<00:46,  6.64s/it]\n"
     ]
    },
    {
     "ename": "KeyboardInterrupt",
     "evalue": "",
     "output_type": "error",
     "traceback": [
      "\u001b[1;31m---------------------------------------------------------------------------\u001b[0m",
      "\u001b[1;31mKeyboardInterrupt\u001b[0m                         Traceback (most recent call last)",
      "Cell \u001b[1;32mIn[11], line 35\u001b[0m\n\u001b[0;32m     32\u001b[0m     set_weights(local_model, global_weights)\n\u001b[0;32m     33\u001b[0m     train_loader, test_loader \u001b[38;5;241m=\u001b[39m load_energy_data_feather(cid, filepath\u001b[38;5;241m=\u001b[39mDATA_FILE)\n\u001b[1;32m---> 35\u001b[0m     updated_weights, fin_loss \u001b[38;5;241m=\u001b[39m \u001b[43mtrain_model\u001b[49m\u001b[43m(\u001b[49m\n\u001b[0;32m     36\u001b[0m \u001b[43m        \u001b[49m\u001b[43mlocal_model\u001b[49m\u001b[43m,\u001b[49m\u001b[43m \u001b[49m\u001b[43mtrain_loader\u001b[49m\u001b[43m,\u001b[49m\n\u001b[0;32m     37\u001b[0m \u001b[43m        \u001b[49m\u001b[43mdevice\u001b[49m\u001b[38;5;241;43m=\u001b[39;49m\u001b[43mDEVICE\u001b[49m\u001b[43m,\u001b[49m\n\u001b[0;32m     38\u001b[0m \u001b[43m        \u001b[49m\u001b[43mlearning_rate\u001b[49m\u001b[38;5;241;43m=\u001b[39;49m\u001b[43mLR\u001b[49m\u001b[43m,\u001b[49m\n\u001b[0;32m     39\u001b[0m \u001b[43m        \u001b[49m\u001b[43mloss_fn\u001b[49m\u001b[38;5;241;43m=\u001b[39;49m\u001b[38;5;28;43;01mNone\u001b[39;49;00m\u001b[43m,\u001b[49m\n\u001b[0;32m     40\u001b[0m \u001b[43m        \u001b[49m\u001b[43moptimizer_class\u001b[49m\u001b[38;5;241;43m=\u001b[39;49m\u001b[43moptim\u001b[49m\u001b[38;5;241;43m.\u001b[39;49m\u001b[43mAdam\u001b[49m\u001b[43m,\u001b[49m\n\u001b[0;32m     41\u001b[0m \u001b[43m        \u001b[49m\u001b[43mepochs\u001b[49m\u001b[38;5;241;43m=\u001b[39;49m\u001b[43mLOCAL_EPOCHS\u001b[49m\n\u001b[0;32m     42\u001b[0m \u001b[43m    \u001b[49m\u001b[43m)\u001b[49m\n\u001b[0;32m     43\u001b[0m     local_weights\u001b[38;5;241m.\u001b[39mappend(updated_weights)\n\u001b[0;32m     45\u001b[0m \u001b[38;5;66;03m# Federated averaging\u001b[39;00m\n",
      "File \u001b[1;32mc:\\Users\\srina\\OneDrive\\Documents\\Federated Learning - Priyanka\\Diffusion_FL\\energy-ts-diffusion\\my_utils.py:105\u001b[0m, in \u001b[0;36mtrain_model\u001b[1;34m(model, train_loader, device, learning_rate, loss_fn, optimizer_class, epochs)\u001b[0m\n\u001b[0;32m    103\u001b[0m output \u001b[38;5;241m=\u001b[39m model(X_batch)\n\u001b[0;32m    104\u001b[0m loss \u001b[38;5;241m=\u001b[39m loss_fn(output, y_batch)\n\u001b[1;32m--> 105\u001b[0m \u001b[43mloss\u001b[49m\u001b[38;5;241;43m.\u001b[39;49m\u001b[43mbackward\u001b[49m\u001b[43m(\u001b[49m\u001b[43m)\u001b[49m\n\u001b[0;32m    106\u001b[0m optimizer\u001b[38;5;241m.\u001b[39mstep()\n\u001b[0;32m    108\u001b[0m epoch_loss \u001b[38;5;241m+\u001b[39m\u001b[38;5;241m=\u001b[39m loss\u001b[38;5;241m.\u001b[39mitem()\n",
      "File \u001b[1;32mc:\\Users\\srina\\OneDrive\\Documents\\Federated Learning - Priyanka\\Diffusion_FL\\energy-ts-diffusion\\darts\\lib\\site-packages\\torch\\_tensor.py:581\u001b[0m, in \u001b[0;36mTensor.backward\u001b[1;34m(self, gradient, retain_graph, create_graph, inputs)\u001b[0m\n\u001b[0;32m    571\u001b[0m \u001b[38;5;28;01mif\u001b[39;00m has_torch_function_unary(\u001b[38;5;28mself\u001b[39m):\n\u001b[0;32m    572\u001b[0m     \u001b[38;5;28;01mreturn\u001b[39;00m handle_torch_function(\n\u001b[0;32m    573\u001b[0m         Tensor\u001b[38;5;241m.\u001b[39mbackward,\n\u001b[0;32m    574\u001b[0m         (\u001b[38;5;28mself\u001b[39m,),\n\u001b[1;32m   (...)\u001b[0m\n\u001b[0;32m    579\u001b[0m         inputs\u001b[38;5;241m=\u001b[39minputs,\n\u001b[0;32m    580\u001b[0m     )\n\u001b[1;32m--> 581\u001b[0m \u001b[43mtorch\u001b[49m\u001b[38;5;241;43m.\u001b[39;49m\u001b[43mautograd\u001b[49m\u001b[38;5;241;43m.\u001b[39;49m\u001b[43mbackward\u001b[49m\u001b[43m(\u001b[49m\n\u001b[0;32m    582\u001b[0m \u001b[43m    \u001b[49m\u001b[38;5;28;43mself\u001b[39;49m\u001b[43m,\u001b[49m\u001b[43m \u001b[49m\u001b[43mgradient\u001b[49m\u001b[43m,\u001b[49m\u001b[43m \u001b[49m\u001b[43mretain_graph\u001b[49m\u001b[43m,\u001b[49m\u001b[43m \u001b[49m\u001b[43mcreate_graph\u001b[49m\u001b[43m,\u001b[49m\u001b[43m \u001b[49m\u001b[43minputs\u001b[49m\u001b[38;5;241;43m=\u001b[39;49m\u001b[43minputs\u001b[49m\n\u001b[0;32m    583\u001b[0m \u001b[43m\u001b[49m\u001b[43m)\u001b[49m\n",
      "File \u001b[1;32mc:\\Users\\srina\\OneDrive\\Documents\\Federated Learning - Priyanka\\Diffusion_FL\\energy-ts-diffusion\\darts\\lib\\site-packages\\torch\\autograd\\__init__.py:347\u001b[0m, in \u001b[0;36mbackward\u001b[1;34m(tensors, grad_tensors, retain_graph, create_graph, grad_variables, inputs)\u001b[0m\n\u001b[0;32m    342\u001b[0m     retain_graph \u001b[38;5;241m=\u001b[39m create_graph\n\u001b[0;32m    344\u001b[0m \u001b[38;5;66;03m# The reason we repeat the same comment below is that\u001b[39;00m\n\u001b[0;32m    345\u001b[0m \u001b[38;5;66;03m# some Python versions print out the first line of a multi-line function\u001b[39;00m\n\u001b[0;32m    346\u001b[0m \u001b[38;5;66;03m# calls in the traceback and some print out the last line\u001b[39;00m\n\u001b[1;32m--> 347\u001b[0m \u001b[43m_engine_run_backward\u001b[49m\u001b[43m(\u001b[49m\n\u001b[0;32m    348\u001b[0m \u001b[43m    \u001b[49m\u001b[43mtensors\u001b[49m\u001b[43m,\u001b[49m\n\u001b[0;32m    349\u001b[0m \u001b[43m    \u001b[49m\u001b[43mgrad_tensors_\u001b[49m\u001b[43m,\u001b[49m\n\u001b[0;32m    350\u001b[0m \u001b[43m    \u001b[49m\u001b[43mretain_graph\u001b[49m\u001b[43m,\u001b[49m\n\u001b[0;32m    351\u001b[0m \u001b[43m    \u001b[49m\u001b[43mcreate_graph\u001b[49m\u001b[43m,\u001b[49m\n\u001b[0;32m    352\u001b[0m \u001b[43m    \u001b[49m\u001b[43minputs\u001b[49m\u001b[43m,\u001b[49m\n\u001b[0;32m    353\u001b[0m \u001b[43m    \u001b[49m\u001b[43mallow_unreachable\u001b[49m\u001b[38;5;241;43m=\u001b[39;49m\u001b[38;5;28;43;01mTrue\u001b[39;49;00m\u001b[43m,\u001b[49m\n\u001b[0;32m    354\u001b[0m \u001b[43m    \u001b[49m\u001b[43maccumulate_grad\u001b[49m\u001b[38;5;241;43m=\u001b[39;49m\u001b[38;5;28;43;01mTrue\u001b[39;49;00m\u001b[43m,\u001b[49m\n\u001b[0;32m    355\u001b[0m \u001b[43m\u001b[49m\u001b[43m)\u001b[49m\n",
      "File \u001b[1;32mc:\\Users\\srina\\OneDrive\\Documents\\Federated Learning - Priyanka\\Diffusion_FL\\energy-ts-diffusion\\darts\\lib\\site-packages\\torch\\autograd\\graph.py:825\u001b[0m, in \u001b[0;36m_engine_run_backward\u001b[1;34m(t_outputs, *args, **kwargs)\u001b[0m\n\u001b[0;32m    823\u001b[0m     unregister_hooks \u001b[38;5;241m=\u001b[39m _register_logging_hooks_on_whole_graph(t_outputs)\n\u001b[0;32m    824\u001b[0m \u001b[38;5;28;01mtry\u001b[39;00m:\n\u001b[1;32m--> 825\u001b[0m     \u001b[38;5;28;01mreturn\u001b[39;00m Variable\u001b[38;5;241m.\u001b[39m_execution_engine\u001b[38;5;241m.\u001b[39mrun_backward(  \u001b[38;5;66;03m# Calls into the C++ engine to run the backward pass\u001b[39;00m\n\u001b[0;32m    826\u001b[0m         t_outputs, \u001b[38;5;241m*\u001b[39margs, \u001b[38;5;241m*\u001b[39m\u001b[38;5;241m*\u001b[39mkwargs\n\u001b[0;32m    827\u001b[0m     )  \u001b[38;5;66;03m# Calls into the C++ engine to run the backward pass\u001b[39;00m\n\u001b[0;32m    828\u001b[0m \u001b[38;5;28;01mfinally\u001b[39;00m:\n\u001b[0;32m    829\u001b[0m     \u001b[38;5;28;01mif\u001b[39;00m attach_logging_hooks:\n",
      "\u001b[1;31mKeyboardInterrupt\u001b[0m: "
     ]
    }
   ],
   "source": [
    "import os\n",
    "import torch\n",
    "import torch.optim as optim\n",
    "from tqdm import tqdm\n",
    "\n",
    "\n",
    "# # Weighted averaging function (uniform weights for now)\n",
    "# def average_weights(weights_list):\n",
    "#     return [np.mean(np.stack(layer_weights), axis=0) for layer_weights in zip(*weights_list)]\n",
    "\n",
    "# Make sure your model_fn is already defined as in your message\n",
    "\n",
    "# Main experiment loop\n",
    "for model_name in MODEL_NAMES:\n",
    "    print(f\"Starting experiment with model: {model_name}\")\n",
    "\n",
    "    # Directory to save checkpoints\n",
    "    model_dir = os.path.join(\"results\", model_name)\n",
    "    os.makedirs(model_dir, exist_ok=True)\n",
    "\n",
    "    # Init model and weights\n",
    "    global_model = model_fn(model_name).to(DEVICE)\n",
    "    global_weights = get_weights(global_model)\n",
    "\n",
    "    for rnd in range(NUM_ROUNDS):\n",
    "        print(f\"Round {rnd+1}/{NUM_ROUNDS}\")\n",
    "        sampled_clients = random.sample(range(NUM_CLIENTS), k=int(CLIENT_FRAC * NUM_CLIENTS))\n",
    "        local_weights = []\n",
    "\n",
    "        for cid in tqdm(sampled_clients, desc=\"Training clients\"):\n",
    "            local_model = model_fn(model_name).to(DEVICE)\n",
    "            set_weights(local_model, global_weights)\n",
    "            train_loader, test_loader = load_energy_data_feather(cid, filepath=DATA_FILE)\n",
    "\n",
    "            updated_weights, fin_loss = train_model(\n",
    "                local_model, train_loader,\n",
    "                device=DEVICE,\n",
    "                learning_rate=LR,\n",
    "                loss_fn=None,\n",
    "                optimizer_class=optim.Adam,\n",
    "                epochs=LOCAL_EPOCHS\n",
    "            )\n",
    "            local_weights.append(updated_weights)\n",
    "\n",
    "        # Federated averaging\n",
    "        global_weights = sync_aggregate_softmax(global_weights,local_weights)\n",
    "        set_weights(global_model, global_weights)\n",
    "\n",
    "        # Save model checkpoint\n",
    "        checkpoint_path = os.path.join(model_dir, f\"{model_name}_round_{rnd+1}_kr_sft.pt\")\n",
    "        torch.save(global_model.state_dict(), checkpoint_path)\n",
    "        print(f\"Saved global model to {checkpoint_path}\")\n"
   ]
  },
  {
   "cell_type": "code",
   "execution_count": null,
   "id": "9371dc1c",
   "metadata": {},
   "outputs": [],
   "source": []
  },
  {
   "cell_type": "code",
   "execution_count": null,
   "id": "25ef1b74",
   "metadata": {},
   "outputs": [],
   "source": []
  },
  {
   "cell_type": "markdown",
   "id": "4c8f050b",
   "metadata": {},
   "source": [
    "### Diff-Aware Fed Avg"
   ]
  },
  {
   "cell_type": "code",
   "execution_count": null,
   "id": "5908746a",
   "metadata": {},
   "outputs": [],
   "source": []
  },
  {
   "cell_type": "code",
   "execution_count": null,
   "id": "7314b5ae",
   "metadata": {},
   "outputs": [],
   "source": []
  },
  {
   "cell_type": "code",
   "execution_count": null,
   "id": "06dd808c",
   "metadata": {},
   "outputs": [],
   "source": []
  },
  {
   "cell_type": "code",
   "execution_count": null,
   "id": "891d94ca",
   "metadata": {},
   "outputs": [],
   "source": []
  },
  {
   "cell_type": "code",
   "execution_count": null,
   "id": "fde4d069",
   "metadata": {},
   "outputs": [],
   "source": []
  },
  {
   "cell_type": "code",
   "execution_count": null,
   "id": "25059312",
   "metadata": {},
   "outputs": [],
   "source": []
  },
  {
   "cell_type": "code",
   "execution_count": null,
   "id": "33fb3980",
   "metadata": {},
   "outputs": [],
   "source": []
  },
  {
   "cell_type": "code",
   "execution_count": null,
   "id": "73bc2201",
   "metadata": {},
   "outputs": [],
   "source": []
  },
  {
   "cell_type": "code",
   "execution_count": null,
   "id": "647a873a",
   "metadata": {},
   "outputs": [],
   "source": []
  },
  {
   "cell_type": "markdown",
   "id": "e0a69607",
   "metadata": {},
   "source": [
    "### Diff-Sync FedAvg"
   ]
  },
  {
   "cell_type": "code",
   "execution_count": null,
   "id": "30bac448",
   "metadata": {},
   "outputs": [],
   "source": []
  },
  {
   "cell_type": "code",
   "execution_count": null,
   "id": "29066235",
   "metadata": {},
   "outputs": [],
   "source": []
  },
  {
   "cell_type": "code",
   "execution_count": null,
   "id": "ff65a8dd",
   "metadata": {},
   "outputs": [],
   "source": []
  },
  {
   "cell_type": "code",
   "execution_count": null,
   "id": "6ca0e8f8",
   "metadata": {},
   "outputs": [],
   "source": []
  },
  {
   "cell_type": "code",
   "execution_count": null,
   "id": "68b006b2",
   "metadata": {},
   "outputs": [],
   "source": []
  },
  {
   "cell_type": "markdown",
   "id": "41e8cc8f",
   "metadata": {},
   "source": []
  }
 ],
 "metadata": {
  "kernelspec": {
   "display_name": "flower",
   "language": "python",
   "name": "python3"
  },
  "language_info": {
   "codemirror_mode": {
    "name": "ipython",
    "version": 3
   },
   "file_extension": ".py",
   "mimetype": "text/x-python",
   "name": "python",
   "nbconvert_exporter": "python",
   "pygments_lexer": "ipython3",
   "version": "3.11.11"
  }
 },
 "nbformat": 4,
 "nbformat_minor": 5
}
